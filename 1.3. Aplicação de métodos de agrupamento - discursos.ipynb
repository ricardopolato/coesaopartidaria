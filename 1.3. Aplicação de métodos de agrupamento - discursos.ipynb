{
 "cells": [
  {
   "cell_type": "markdown",
   "metadata": {},
   "source": [
    "# Similaridade Partidária"
   ]
  },
  {
   "cell_type": "markdown",
   "metadata": {},
   "source": [
    "## Análise dos discursos parlamentares"
   ]
  },
  {
   "cell_type": "code",
   "execution_count": 1,
   "metadata": {},
   "outputs": [],
   "source": [
    "import pandas as pd\n",
    "import numpy as np\n",
    "import matplotlib.pyplot as plt"
   ]
  },
  {
   "cell_type": "code",
   "execution_count": 2,
   "metadata": {
    "scrolled": false
   },
   "outputs": [
    {
     "data": {
      "text/html": [
       "<div>\n",
       "<style scoped>\n",
       "    .dataframe tbody tr th:only-of-type {\n",
       "        vertical-align: middle;\n",
       "    }\n",
       "\n",
       "    .dataframe tbody tr th {\n",
       "        vertical-align: top;\n",
       "    }\n",
       "\n",
       "    .dataframe thead th {\n",
       "        text-align: right;\n",
       "    }\n",
       "</style>\n",
       "<table border=\"1\" class=\"dataframe\">\n",
       "  <thead>\n",
       "    <tr style=\"text-align: right;\">\n",
       "      <th></th>\n",
       "      <th>Data</th>\n",
       "      <th>Sessão</th>\n",
       "      <th>Fase</th>\n",
       "      <th>Discurso</th>\n",
       "      <th>Hora</th>\n",
       "      <th>Publicação</th>\n",
       "      <th>NomeOrador</th>\n",
       "      <th>Partido</th>\n",
       "      <th>Estado</th>\n",
       "      <th>TextoDiscurso</th>\n",
       "    </tr>\n",
       "  </thead>\n",
       "  <tbody>\n",
       "    <tr>\n",
       "      <th>0</th>\n",
       "      <td>26/02/2019</td>\n",
       "      <td>17.2019</td>\n",
       "      <td>GRANDE EXPEDIENTE</td>\n",
       "      <td>TextoHTML.asp?etapa=5 &amp;nuSessao=17.2019 &amp;nuQua...</td>\n",
       "      <td>16h44</td>\n",
       "      <td>DCD27/02/2019 PAG. 88</td>\n",
       "      <td>FÁBIO TRAD</td>\n",
       "      <td>PSD</td>\n",
       "      <td>MS</td>\n",
       "      <td>presid projet resoluca autor quer agradec tod ...</td>\n",
       "    </tr>\n",
       "    <tr>\n",
       "      <th>1</th>\n",
       "      <td>26/02/2019</td>\n",
       "      <td>17.2019</td>\n",
       "      <td>GRANDE EXPEDIENTE</td>\n",
       "      <td>TextoHTML.asp?etapa=5 &amp;nuSessao=17.2019 &amp;nuQua...</td>\n",
       "      <td>16h40</td>\n",
       "      <td>DCD27/02/2019 PAG. 86</td>\n",
       "      <td>SILVIO COSTA FILHO</td>\n",
       "      <td>PRB</td>\n",
       "      <td>PE</td>\n",
       "      <td>questa presid quer faz apel exa base art incis...</td>\n",
       "    </tr>\n",
       "    <tr>\n",
       "      <th>2</th>\n",
       "      <td>26/02/2019</td>\n",
       "      <td>17.2019</td>\n",
       "      <td>GRANDE EXPEDIENTE</td>\n",
       "      <td>TextoHTML.asp?etapa=5 &amp;nuSessao=17.2019 &amp;nuQua...</td>\n",
       "      <td>16h40</td>\n",
       "      <td>DCD27/02/2019 PAG. 87</td>\n",
       "      <td>POMPEO DE MATTOS</td>\n",
       "      <td>PDT</td>\n",
       "      <td>RS</td>\n",
       "      <td>presid quer advert cas contribuint vez aprov r...</td>\n",
       "    </tr>\n",
       "    <tr>\n",
       "      <th>3</th>\n",
       "      <td>26/02/2019</td>\n",
       "      <td>17.2019</td>\n",
       "      <td>GRANDE EXPEDIENTE</td>\n",
       "      <td>TextoHTML.asp?etapa=5 &amp;nuSessao=17.2019 &amp;nuQua...</td>\n",
       "      <td>16h40</td>\n",
       "      <td>DCD27/02/2019 PAG. 86</td>\n",
       "      <td>JULIO CESAR RIBEIRO</td>\n",
       "      <td>PRB</td>\n",
       "      <td>DF</td>\n",
       "      <td>presid quer diz trist revolt relaca ministr ed...</td>\n",
       "    </tr>\n",
       "    <tr>\n",
       "      <th>4</th>\n",
       "      <td>26/02/2019</td>\n",
       "      <td>17.2019</td>\n",
       "      <td>GRANDE EXPEDIENTE</td>\n",
       "      <td>TextoHTML.asp?etapa=5 &amp;nuSessao=17.2019 &amp;nuQua...</td>\n",
       "      <td>16h36</td>\n",
       "      <td>DCD27/02/2019 PAG. 85</td>\n",
       "      <td>ÁTILA LIRA</td>\n",
       "      <td>PSB</td>\n",
       "      <td>PI</td>\n",
       "      <td>presid sra sr parlament quer registr aqu desap...</td>\n",
       "    </tr>\n",
       "  </tbody>\n",
       "</table>\n",
       "</div>"
      ],
      "text/plain": [
       "         Data   Sessão                Fase  \\\n",
       "0  26/02/2019  17.2019  GRANDE EXPEDIENTE    \n",
       "1  26/02/2019  17.2019  GRANDE EXPEDIENTE    \n",
       "2  26/02/2019  17.2019  GRANDE EXPEDIENTE    \n",
       "3  26/02/2019  17.2019  GRANDE EXPEDIENTE    \n",
       "4  26/02/2019  17.2019  GRANDE EXPEDIENTE    \n",
       "\n",
       "                                            Discurso     Hora  \\\n",
       "0  TextoHTML.asp?etapa=5 &nuSessao=17.2019 &nuQua...   16h44    \n",
       "1  TextoHTML.asp?etapa=5 &nuSessao=17.2019 &nuQua...   16h40    \n",
       "2  TextoHTML.asp?etapa=5 &nuSessao=17.2019 &nuQua...   16h40    \n",
       "3  TextoHTML.asp?etapa=5 &nuSessao=17.2019 &nuQua...   16h40    \n",
       "4  TextoHTML.asp?etapa=5 &nuSessao=17.2019 &nuQua...   16h36    \n",
       "\n",
       "                Publicação            NomeOrador Partido Estado  \\\n",
       "0   DCD27/02/2019 PAG. 88             FÁBIO TRAD     PSD    MS    \n",
       "1   DCD27/02/2019 PAG. 86     SILVIO COSTA FILHO     PRB    PE    \n",
       "2   DCD27/02/2019 PAG. 87       POMPEO DE MATTOS     PDT    RS    \n",
       "3   DCD27/02/2019 PAG. 86    JULIO CESAR RIBEIRO     PRB    DF    \n",
       "4   DCD27/02/2019 PAG. 85             ÁTILA LIRA     PSB    PI    \n",
       "\n",
       "                                       TextoDiscurso  \n",
       "0  presid projet resoluca autor quer agradec tod ...  \n",
       "1  questa presid quer faz apel exa base art incis...  \n",
       "2  presid quer advert cas contribuint vez aprov r...  \n",
       "3  presid quer diz trist revolt relaca ministr ed...  \n",
       "4  presid sra sr parlament quer registr aqu desap...  "
      ]
     },
     "execution_count": 2,
     "metadata": {},
     "output_type": "execute_result"
    }
   ],
   "source": [
    "# Lendo a base de dados\n",
    "ano = '2019'\n",
    "df = pd.read_csv('discursos/discursos_preprocessados_12_2019.csv', sep=\";\", encoding=\"utf-8\")\n",
    "df.head()"
   ]
  },
  {
   "cell_type": "code",
   "execution_count": 3,
   "metadata": {},
   "outputs": [],
   "source": [
    "from sklearn.cluster import MiniBatchKMeans\n",
    "from sklearn.feature_extraction.text import TfidfVectorizer\n",
    "from sklearn.cluster import AgglomerativeClustering\n",
    "from sklearn.cluster import KMeans, MeanShift, DBSCAN, estimate_bandwidth\n",
    "from sklearn.metrics import silhouette_score\n",
    "from sklearn.decomposition import PCA\n",
    "from sklearn.manifold import TSNE"
   ]
  },
  {
   "cell_type": "code",
   "execution_count": 9,
   "metadata": {},
   "outputs": [],
   "source": [
    "# Retirados partidos sem representantes ou com apenas um representantes na Câmara \n",
    "if(ano == '2010'):\n",
    "    partidos_com_representantes = ['PT', 'PP', 'CIDADANIA', 'PCDOB', 'PMN', 'MDB', 'DEM', 'PSB', 'PDT', 'PTB', 'PL', 'PSDB', 'PV', 'PSC', \n",
    "                 'PAN', 'PTC', 'PHS', 'PSOL', 'PRONA'] # Retirado PTDOB E PRB por terem somente um representante\n",
    "elif(ano in ['2011', '2012', '2013', '2014']):\n",
    "    partidos_com_representantes = ['PT', 'MDB', 'PL', 'PSB', 'PDT', 'PSC', 'PCDOB', 'REPUBLICANOS', 'PODE', 'PSDB', 'DEM', 'PTB', 'CIDADANIA', \n",
    "                 'PMN', 'AVANTE', 'PP', 'PV', 'PSOL', 'PHS', 'PRTB', 'PRP'] # Retirado PTC e PSL por terem somente um representante\n",
    "elif(ano in ['2015', '2016', '2017', '2018']):\n",
    "    partidos_com_representantes = ['PT', 'MDB', 'PL', 'PDT', 'REPUBLICANOS', 'PROS', 'PSD', 'PP', 'PSDB', 'DEM', 'PTB', 'PMN', 'SD', 'PTC', 'PODE', \n",
    "                'PATRI', 'PSB', 'PRP', 'CIDADANIA', 'PHS', 'PV', 'PSOL', 'PSC', 'DC', 'PCDOB'] # Retirado PCdoB, PRTB e PSL por terem somente um representante\n",
    "elif(ano == '2019'):\n",
    "    partidos_com_representantes = ['PT', 'PSL', 'PP', 'MDB', 'PSD', 'PL', 'PSB', 'PRB', 'PSDB', 'DEM', 'PDT', 'SD', 'PODE', 'PTB', 'PSOL', \n",
    "                'PCDOB', 'PSC', 'PROS', 'CIDADANIA', 'NOVO', 'AVANTE', 'PHS', 'PATRI', 'PV', 'PRP', 'PMN', 'PTC'] # Retirados DC, PPL e REDE por terem somente um representante\n"
   ]
  },
  {
   "cell_type": "markdown",
   "metadata": {},
   "source": [
    "### TF-IDF term frequency–inverse document frequency"
   ]
  },
  {
   "cell_type": "code",
   "execution_count": 4,
   "metadata": {},
   "outputs": [],
   "source": [
    "tfidf = TfidfVectorizer(\n",
    "    min_df = 5,\n",
    "    max_df = 0.95,\n",
    "    max_features = 8000\n",
    ")\n",
    "tfidf.fit(df['TextoDiscurso'])\n",
    "text = tfidf.transform(df['TextoDiscurso'])"
   ]
  },
  {
   "cell_type": "code",
   "execution_count": 5,
   "metadata": {},
   "outputs": [
    {
     "data": {
      "text/html": [
       "<div>\n",
       "<style scoped>\n",
       "    .dataframe tbody tr th:only-of-type {\n",
       "        vertical-align: middle;\n",
       "    }\n",
       "\n",
       "    .dataframe tbody tr th {\n",
       "        vertical-align: top;\n",
       "    }\n",
       "\n",
       "    .dataframe thead th {\n",
       "        text-align: right;\n",
       "    }\n",
       "</style>\n",
       "<table border=\"1\" class=\"dataframe\">\n",
       "  <thead>\n",
       "    <tr style=\"text-align: right;\">\n",
       "      <th></th>\n",
       "      <th>Partido</th>\n",
       "      <th>Parlamentar</th>\n",
       "      <th>aa</th>\n",
       "      <th>aacd</th>\n",
       "      <th>aara</th>\n",
       "      <th>aba</th>\n",
       "      <th>abad</th>\n",
       "      <th>abaf</th>\n",
       "      <th>abaix</th>\n",
       "      <th>abal</th>\n",
       "      <th>...</th>\n",
       "      <th>zequ</th>\n",
       "      <th>zer</th>\n",
       "      <th>zeza</th>\n",
       "      <th>zik</th>\n",
       "      <th>zomb</th>\n",
       "      <th>zon</th>\n",
       "      <th>zoolog</th>\n",
       "      <th>zootecn</th>\n",
       "      <th>zouain</th>\n",
       "      <th>zygmunt</th>\n",
       "    </tr>\n",
       "  </thead>\n",
       "  <tbody>\n",
       "    <tr>\n",
       "      <th>0</th>\n",
       "      <td>PSD</td>\n",
       "      <td>FÁBIO TRAD</td>\n",
       "      <td>0.0</td>\n",
       "      <td>0.0</td>\n",
       "      <td>0.0</td>\n",
       "      <td>0.0</td>\n",
       "      <td>0.0</td>\n",
       "      <td>0.0</td>\n",
       "      <td>0.0</td>\n",
       "      <td>0.0</td>\n",
       "      <td>...</td>\n",
       "      <td>0.0</td>\n",
       "      <td>0.0</td>\n",
       "      <td>0.0</td>\n",
       "      <td>0.0</td>\n",
       "      <td>0.0</td>\n",
       "      <td>0.0</td>\n",
       "      <td>0.0</td>\n",
       "      <td>0.0</td>\n",
       "      <td>0.0</td>\n",
       "      <td>0.0</td>\n",
       "    </tr>\n",
       "    <tr>\n",
       "      <th>1</th>\n",
       "      <td>PRB</td>\n",
       "      <td>SILVIO COSTA FILHO</td>\n",
       "      <td>0.0</td>\n",
       "      <td>0.0</td>\n",
       "      <td>0.0</td>\n",
       "      <td>0.0</td>\n",
       "      <td>0.0</td>\n",
       "      <td>0.0</td>\n",
       "      <td>0.0</td>\n",
       "      <td>0.0</td>\n",
       "      <td>...</td>\n",
       "      <td>0.0</td>\n",
       "      <td>0.0</td>\n",
       "      <td>0.0</td>\n",
       "      <td>0.0</td>\n",
       "      <td>0.0</td>\n",
       "      <td>0.0</td>\n",
       "      <td>0.0</td>\n",
       "      <td>0.0</td>\n",
       "      <td>0.0</td>\n",
       "      <td>0.0</td>\n",
       "    </tr>\n",
       "    <tr>\n",
       "      <th>2</th>\n",
       "      <td>PDT</td>\n",
       "      <td>POMPEO DE MATTOS</td>\n",
       "      <td>0.0</td>\n",
       "      <td>0.0</td>\n",
       "      <td>0.0</td>\n",
       "      <td>0.0</td>\n",
       "      <td>0.0</td>\n",
       "      <td>0.0</td>\n",
       "      <td>0.0</td>\n",
       "      <td>0.0</td>\n",
       "      <td>...</td>\n",
       "      <td>0.0</td>\n",
       "      <td>0.0</td>\n",
       "      <td>0.0</td>\n",
       "      <td>0.0</td>\n",
       "      <td>0.0</td>\n",
       "      <td>0.0</td>\n",
       "      <td>0.0</td>\n",
       "      <td>0.0</td>\n",
       "      <td>0.0</td>\n",
       "      <td>0.0</td>\n",
       "    </tr>\n",
       "    <tr>\n",
       "      <th>3</th>\n",
       "      <td>PRB</td>\n",
       "      <td>JULIO CESAR RIBEIRO</td>\n",
       "      <td>0.0</td>\n",
       "      <td>0.0</td>\n",
       "      <td>0.0</td>\n",
       "      <td>0.0</td>\n",
       "      <td>0.0</td>\n",
       "      <td>0.0</td>\n",
       "      <td>0.0</td>\n",
       "      <td>0.0</td>\n",
       "      <td>...</td>\n",
       "      <td>0.0</td>\n",
       "      <td>0.0</td>\n",
       "      <td>0.0</td>\n",
       "      <td>0.0</td>\n",
       "      <td>0.0</td>\n",
       "      <td>0.0</td>\n",
       "      <td>0.0</td>\n",
       "      <td>0.0</td>\n",
       "      <td>0.0</td>\n",
       "      <td>0.0</td>\n",
       "    </tr>\n",
       "    <tr>\n",
       "      <th>4</th>\n",
       "      <td>PSB</td>\n",
       "      <td>ÁTILA LIRA</td>\n",
       "      <td>0.0</td>\n",
       "      <td>0.0</td>\n",
       "      <td>0.0</td>\n",
       "      <td>0.0</td>\n",
       "      <td>0.0</td>\n",
       "      <td>0.0</td>\n",
       "      <td>0.0</td>\n",
       "      <td>0.0</td>\n",
       "      <td>...</td>\n",
       "      <td>0.0</td>\n",
       "      <td>0.0</td>\n",
       "      <td>0.0</td>\n",
       "      <td>0.0</td>\n",
       "      <td>0.0</td>\n",
       "      <td>0.0</td>\n",
       "      <td>0.0</td>\n",
       "      <td>0.0</td>\n",
       "      <td>0.0</td>\n",
       "      <td>0.0</td>\n",
       "    </tr>\n",
       "  </tbody>\n",
       "</table>\n",
       "<p>5 rows × 11705 columns</p>\n",
       "</div>"
      ],
      "text/plain": [
       "  Partido           Parlamentar   aa  aacd  aara  aba  abad  abaf  abaix  \\\n",
       "0     PSD            FÁBIO TRAD  0.0   0.0   0.0  0.0   0.0   0.0    0.0   \n",
       "1     PRB    SILVIO COSTA FILHO  0.0   0.0   0.0  0.0   0.0   0.0    0.0   \n",
       "2     PDT      POMPEO DE MATTOS  0.0   0.0   0.0  0.0   0.0   0.0    0.0   \n",
       "3     PRB   JULIO CESAR RIBEIRO  0.0   0.0   0.0  0.0   0.0   0.0    0.0   \n",
       "4     PSB            ÁTILA LIRA  0.0   0.0   0.0  0.0   0.0   0.0    0.0   \n",
       "\n",
       "   abal  ...  zequ  zer  zeza  zik  zomb  zon  zoolog  zootecn  zouain  \\\n",
       "0   0.0  ...   0.0  0.0   0.0  0.0   0.0  0.0     0.0      0.0     0.0   \n",
       "1   0.0  ...   0.0  0.0   0.0  0.0   0.0  0.0     0.0      0.0     0.0   \n",
       "2   0.0  ...   0.0  0.0   0.0  0.0   0.0  0.0     0.0      0.0     0.0   \n",
       "3   0.0  ...   0.0  0.0   0.0  0.0   0.0  0.0     0.0      0.0     0.0   \n",
       "4   0.0  ...   0.0  0.0   0.0  0.0   0.0  0.0     0.0      0.0     0.0   \n",
       "\n",
       "   zygmunt  \n",
       "0      0.0  \n",
       "1      0.0  \n",
       "2      0.0  \n",
       "3      0.0  \n",
       "4      0.0  \n",
       "\n",
       "[5 rows x 11705 columns]"
      ]
     },
     "execution_count": 5,
     "metadata": {},
     "output_type": "execute_result"
    }
   ],
   "source": [
    "from sklearn.feature_extraction.text import TfidfVectorizer\n",
    "tfidf_vectorizer = TfidfVectorizer()\n",
    "tfidf_matrix = tfidf_vectorizer.fit_transform(df['TextoDiscurso'])\n",
    "df_tfidf = pd.DataFrame(tfidf_matrix.toarray(),columns=tfidf_vectorizer.get_feature_names())\n",
    "df_tfidf['Parlamentar'] = df['NomeOrador'].tolist()\n",
    "df_tfidf['Partido'] = df['Partido'].tolist()\n",
    "df_tfidf = df_tfidf.reindex(['Partido', 'Parlamentar'] + list(df_tfidf.columns[:-2]), axis=1)\n",
    "df_tfidf.head()"
   ]
  },
  {
   "cell_type": "markdown",
   "metadata": {},
   "source": [
    "## Similaridade por Clusterização"
   ]
  },
  {
   "cell_type": "markdown",
   "metadata": {},
   "source": [
    "### Medição através de clusterização com DBSCAN\n",
    "O DBSCANalgoritmo vê os clusters como áreas de alta densidade separadas por áreas de baixa densidade. Devido a essa visão um tanto genérica, os clusters encontrados pelo DBSCAN podem ter qualquer formato, ao contrário de k-means, que assume que os clusters têm formato convexo. O componente central do DBSCAN é o conceito de amostras de núcleo , que são amostras que estão em áreas de alta densidade. Um cluster é, portanto, um conjunto de amostras de núcleo, cada uma próxima uma da outra (medida por alguma medida de distância) e um conjunto de amostras não essenciais que estão perto de uma amostra de núcleo (mas não são elas próprias amostras de núcleo). Existem dois parâmetros para o algoritmo, min_samplese eps, que definem formalmente o que queremos dizer quando dizemos denso . Superior min_samplesou inferioreps indicam maior densidade necessária para formar um cluster."
   ]
  },
  {
   "cell_type": "code",
   "execution_count": 6,
   "metadata": {},
   "outputs": [
    {
     "name": "stdout",
     "output_type": "stream",
     "text": [
      "O coeficiente de silhueta do DBSCAN é:  -0.015514149973494137\n"
     ]
    }
   ],
   "source": [
    "agrupador_dbscan = DBSCAN(eps=1.1, min_samples=5).fit(text)\n",
    "labels_dbscan = agrupador_dbscan.fit_predict(text)\n",
    "\n",
    "print(\"O coeficiente de silhueta do DBSCAN é: \", silhouette_score(text, labels_dbscan))\n",
    "#print(\"Labels DBSCAN: \", labels_dbscan)"
   ]
  },
  {
   "cell_type": "markdown",
   "metadata": {},
   "source": [
    "### Medição através de clusterização com K-Means\n",
    "\n",
    "O k-means é o mais popular e mais simples algoritmo particional. K-means foi descoberto independentemente em diferentes campos científicos, primeiramente por STEINHAUS (1956), LLOYD (1982), BALL & HALL (1965) e MACQUEEN (1967) e mesmo tendo sido proposto há mais de 50 anos, ainda é um dos algoritmos mais utilizados para clusterização devido à facilidade de implementação, simplicidade, eficiência e sucesso empírico e possui várias extensões desenvolvidas em várias formas\n",
    "\n",
    "### Melhorando a aplicação do algoritmo K-Means\n",
    "\n",
    "O <b>método cotovelo</b> ajuda a encontrar o melhor valor de k. Ele usa a soma das distâncias quadradas [SSE] entre os pontos de dados e seus respectivos centróides ou médias de cluster atribuídos. Em seguida, selecione o valor k na posição em que o SSE começa a achatar e formar um cotovelo."
   ]
  },
  {
   "cell_type": "code",
   "execution_count": 7,
   "metadata": {
    "scrolled": false
   },
   "outputs": [
    {
     "name": "stdout",
     "output_type": "stream",
     "text": [
      "Fit 2 clusters\n",
      "Fit 4 clusters\n",
      "Fit 6 clusters\n",
      "Fit 8 clusters\n",
      "Fit 10 clusters\n",
      "Fit 12 clusters\n",
      "Fit 14 clusters\n",
      "Fit 16 clusters\n",
      "Fit 18 clusters\n",
      "Fit 20 clusters\n",
      "Fit 22 clusters\n",
      "Fit 24 clusters\n",
      "Fit 26 clusters\n",
      "Fit 28 clusters\n",
      "Fit 30 clusters\n",
      "Fit 32 clusters\n",
      "Fit 34 clusters\n",
      "Fit 36 clusters\n",
      "Fit 38 clusters\n",
      "Fit 40 clusters\n"
     ]
    },
    {
     "data": {
      "image/png": "[encoded data removed]",
      "text/plain": [
       "<Figure size 432x288 with 1 Axes>"
      ]
     },
     "metadata": {
      "needs_background": "light"
     },
     "output_type": "display_data"
    }
   ],
   "source": [
    "def find_optimal_clusters(data, max_k):\n",
    "    iters = range(2, max_k+1, 2)\n",
    "    \n",
    "    sse = []\n",
    "    for k in iters:\n",
    "        sse.append(MiniBatchKMeans(n_clusters=k, init_size=1024, batch_size=2048, random_state=20).fit(data).inertia_)\n",
    "        print('Fit {} clusters'.format(k))\n",
    "        \n",
    "    f, ax = plt.subplots(1, 1)\n",
    "    ax.plot(iters, sse, marker='o')\n",
    "    ax.set_xlabel('Cluster Centers')\n",
    "    ax.set_xticks(iters)\n",
    "    ax.set_xticklabels(iters)\n",
    "    ax.set_ylabel('SSE')\n",
    "    ax.set_title('SSE by Cluster Center Plot')\n",
    "    \n",
    "find_optimal_clusters(text, 40)"
   ]
  },
  {
   "cell_type": "markdown",
   "metadata": {},
   "source": [
    "Devido ao gráfico gerado pelo método de cotovelo não formar uma curva acentuada seguida por estabilidade no eixo y, optamos por utilizar a quantidade de partidos com representantes como o número de clusters (k)"
   ]
  },
  {
   "cell_type": "code",
   "execution_count": 10,
   "metadata": {},
   "outputs": [
    {
     "name": "stdout",
     "output_type": "stream",
     "text": [
      "Atribuído 27 clusters.\n"
     ]
    }
   ],
   "source": [
    "k = len(partidos_com_representantes)\n",
    "print(\"Atribuído\", k, \"clusters.\")"
   ]
  },
  {
   "cell_type": "code",
   "execution_count": 11,
   "metadata": {},
   "outputs": [],
   "source": [
    "clusters = MiniBatchKMeans(n_clusters=k, init_size=1024, batch_size=2048, random_state=12).fit_predict(text)"
   ]
  },
  {
   "cell_type": "code",
   "execution_count": 12,
   "metadata": {
    "scrolled": true
   },
   "outputs": [
    {
     "name": "stdout",
     "output_type": "stream",
     "text": [
      "O coeficiente de silhueta do K-means é:  0.0006127929284124929\n",
      "Labels Kmeans:  [ 4  4  9 15  3  9  5 15 12  4 17 15 16 26  4  4  1 17 17 14  9  4 17  1\n",
      "  9 13 17  9 12 22  4  9 18 17 17  4 17 17 17  0 17  1  4 17  4 11  4  9\n",
      " 12 12  4  4  7 16 15  9  4 15 22  4  4  1  9 15  7 12 17 12 16  5  8 16\n",
      " 22  9  0  9  9 13  9  0 12  4 17 16 12 16  1  1  1 18  8 17  9 26 16  9\n",
      " 26 26  4  8 12 13  4 22 13  9 12  5 17 24 17 18  9 12 26  4 13  9  4  4\n",
      " 17  9 24  4  9 10  9  4 16 16 16  2 26  4  9 17  7 17 16 15  9 16  1  1\n",
      " 16  4 21 12  9 12 26 17 26 12  1  4 11 12  1  1  1  4 12 17 16 17  4 12\n",
      " 17  4  4 11 18 24 24 12  4  9  9  4 12 11  4 25 17 13  4 26  5  9 14  1\n",
      " 26 17  4 12  1  1 16  6 15 16  1 13 24  4  4 22  4  4 13  4  2 12 12 17\n",
      " 17  4  9  9  9  4  9  2 12 12 12  9  9 22  9  2  4 12  1  9 12  9 13  4\n",
      "  4 26  4  9  5  9  9  4  9  9 24 16  9 16  9  5  9  1  7  4 19 18  4  4\n",
      " 16  9  4  1 26  4  1  9  1  4  6  4  0  9  1  4 17  1 15 17 17 16  1 12\n",
      " 14 22  4 26  1 16 15 13  1 13 16  4  9  4  5 17 19  4 15  4  4  2  9  4\n",
      " 15  2  9  4  3  4  9 15 12 15 12  4 12 12  4 15 23 11 26 12  9 15  2  4\n",
      " 16  1 19  5  7 19 19 15 19 16  4 15 17 17  9 15  1  4  2  4 16 26 16 15\n",
      " 12  4  2 24  5  9 17 26  9 12 12 25  8  4 12 16  4  1  8 15 19 17 13  1\n",
      " 13  4  1 26  4  4  4 15  9  1  4  1 16  5 24 17 13  4 16  6  4  1  8 13\n",
      "  8  4  4 17 25 16 11  4 17 12 17  4 25 14  9 26  4  4  4 16  5 16  9  5\n",
      " 15 26  1  0 18 16 18 15  9  9  9  1  1  1  1  4  1  2  9 14 14  4  3 15\n",
      " 19 12 26 17  9  9  1 16  4  9  1  4  7  1 12  1  1  4 25 26 17  4  4  2\n",
      "  5  5  5 12 16  1  4 17  1  5  5  9  4  4  9  8 11  4  4  1  9 13 12 12\n",
      "  1  5 26 24 26  7  4  5 11 13 24  0 12  1  9 19  4  8 11  7  1 18  1 17\n",
      "  4  7  4 23 23 16 23  1 23  4  4  3 26 13  1  1 23 12  1  1 17 16 14  4\n",
      "  4  4  1 15 24 21 21  1 12 16 10 18  8 15 19  1  4  9 17 15 12  9 15  4\n",
      " 16 21 12 21 10  4 16  9 21 21 16 21  4 16 16 21  4 15 16  4  9  4  1  7\n",
      " 24 12 17 17  4  9  4  1  4  0 16  4 14  1 16  4 21 11  0 17 10 10 10 16\n",
      "  1  4  4  1 16 26 12  4  1 10 10  0 10 10  0 12  0 16  4  4 14 15  4  4\n",
      "  0  4 24 10 10 10  4 10 10 15  0 15  2 12 12 10 19 10  0  4 14  5 10  8\n",
      " 10  4 18 16 16  4  1 12 14 17  4  4  1 26 14  5  0 12  7  0  4  1 26 10\n",
      "  1  4 12 20 13 16 19 10 17  1 17 13  4 12 15  4 10  1  1  4  1 10  4 17\n",
      "  1 12 10  3  5  4 17  1 16  4  1  4 17 19  4 13  1  4  4  4  4  1 13  4\n",
      " 10  1  4 12 23  4  1  7  4 17 12 12 26  1 18 17  5 13 12  3 25 12 14  1\n",
      "  4  4  4  4 16 10 12 24 12 26  7  7 17 16 17  4 17 19 23  3  4  1 20 16\n",
      " 15  1 16 16 20 13 12  3  0 20  4  7  1  4 20  4  3 20  3 14  1  1 15  4\n",
      "  8  1  3 26  1 20  4  1  1 25 12 20  1 20 26 20 26  4 26 20 20  4  4  5\n",
      " 17  5  1 13 17 26 13 16  5 12 12 13  4  1 16  3  5 10 16 16 16 16 12  4\n",
      "  7  7  1 26 21 12 21  4  5 21 11  5  1  1 25  1 16  3 16  4 25 20 20 16\n",
      " 15 12 18  4  1  4  4  5 17  7 17 17 16  5  5 13 17 16  4  1 17 16 25 17\n",
      " 17  4  4 18 19 17  4 16 12 16 16 23 16 16  1 17]\n"
     ]
    }
   ],
   "source": [
    "agrupador_kmeans = KMeans(n_clusters = k)\n",
    "labels_kmeans = agrupador_kmeans.fit_predict(text)\n",
    "\n",
    "print(\"O coeficiente de silhueta do K-means é: \", silhouette_score(text, labels_kmeans))\n",
    "print(\"Labels Kmeans: \", labels_kmeans)"
   ]
  },
  {
   "cell_type": "markdown",
   "metadata": {},
   "source": [
    "Selecionando os valores dos 2 maiores clusters"
   ]
  },
  {
   "cell_type": "code",
   "execution_count": 13,
   "metadata": {
    "scrolled": true
   },
   "outputs": [
    {
     "name": "stdout",
     "output_type": "stream",
     "text": [
      "(177, 27)\n"
     ]
    },
    {
     "data": {
      "text/html": [
       "<div>\n",
       "<style scoped>\n",
       "    .dataframe tbody tr th:only-of-type {\n",
       "        vertical-align: middle;\n",
       "    }\n",
       "\n",
       "    .dataframe tbody tr th {\n",
       "        vertical-align: top;\n",
       "    }\n",
       "\n",
       "    .dataframe thead th {\n",
       "        text-align: right;\n",
       "    }\n",
       "</style>\n",
       "<table border=\"1\" class=\"dataframe\">\n",
       "  <thead>\n",
       "    <tr style=\"text-align: right;\">\n",
       "      <th>col_0</th>\n",
       "      <th>Partido</th>\n",
       "      <th>NomeOrador</th>\n",
       "      <th>0</th>\n",
       "      <th>1</th>\n",
       "      <th>2</th>\n",
       "      <th>3</th>\n",
       "      <th>4</th>\n",
       "      <th>5</th>\n",
       "      <th>6</th>\n",
       "      <th>7</th>\n",
       "      <th>...</th>\n",
       "      <th>16</th>\n",
       "      <th>17</th>\n",
       "      <th>18</th>\n",
       "      <th>19</th>\n",
       "      <th>20</th>\n",
       "      <th>21</th>\n",
       "      <th>22</th>\n",
       "      <th>23</th>\n",
       "      <th>24</th>\n",
       "      <th>25</th>\n",
       "    </tr>\n",
       "  </thead>\n",
       "  <tbody>\n",
       "    <tr>\n",
       "      <th>0</th>\n",
       "      <td>PSL</td>\n",
       "      <td>ABOU ANNI</td>\n",
       "      <td>0</td>\n",
       "      <td>0</td>\n",
       "      <td>0</td>\n",
       "      <td>0</td>\n",
       "      <td>2</td>\n",
       "      <td>0</td>\n",
       "      <td>0</td>\n",
       "      <td>0</td>\n",
       "      <td>...</td>\n",
       "      <td>0</td>\n",
       "      <td>0</td>\n",
       "      <td>0</td>\n",
       "      <td>0</td>\n",
       "      <td>0</td>\n",
       "      <td>0</td>\n",
       "      <td>0</td>\n",
       "      <td>0</td>\n",
       "      <td>0</td>\n",
       "      <td>0</td>\n",
       "    </tr>\n",
       "    <tr>\n",
       "      <th>1</th>\n",
       "      <td>PT</td>\n",
       "      <td>AFONSO FLORENCE</td>\n",
       "      <td>0</td>\n",
       "      <td>1</td>\n",
       "      <td>0</td>\n",
       "      <td>0</td>\n",
       "      <td>0</td>\n",
       "      <td>0</td>\n",
       "      <td>0</td>\n",
       "      <td>0</td>\n",
       "      <td>...</td>\n",
       "      <td>0</td>\n",
       "      <td>0</td>\n",
       "      <td>0</td>\n",
       "      <td>0</td>\n",
       "      <td>0</td>\n",
       "      <td>0</td>\n",
       "      <td>0</td>\n",
       "      <td>0</td>\n",
       "      <td>0</td>\n",
       "      <td>0</td>\n",
       "    </tr>\n",
       "    <tr>\n",
       "      <th>2</th>\n",
       "      <td>PP</td>\n",
       "      <td>AFONSO HAMM</td>\n",
       "      <td>0</td>\n",
       "      <td>0</td>\n",
       "      <td>0</td>\n",
       "      <td>0</td>\n",
       "      <td>1</td>\n",
       "      <td>0</td>\n",
       "      <td>0</td>\n",
       "      <td>0</td>\n",
       "      <td>...</td>\n",
       "      <td>0</td>\n",
       "      <td>0</td>\n",
       "      <td>0</td>\n",
       "      <td>0</td>\n",
       "      <td>0</td>\n",
       "      <td>0</td>\n",
       "      <td>3</td>\n",
       "      <td>0</td>\n",
       "      <td>0</td>\n",
       "      <td>0</td>\n",
       "    </tr>\n",
       "    <tr>\n",
       "      <th>3</th>\n",
       "      <td>PDT</td>\n",
       "      <td>AFONSO MOTTA</td>\n",
       "      <td>0</td>\n",
       "      <td>0</td>\n",
       "      <td>0</td>\n",
       "      <td>0</td>\n",
       "      <td>1</td>\n",
       "      <td>1</td>\n",
       "      <td>0</td>\n",
       "      <td>0</td>\n",
       "      <td>...</td>\n",
       "      <td>0</td>\n",
       "      <td>0</td>\n",
       "      <td>0</td>\n",
       "      <td>0</td>\n",
       "      <td>0</td>\n",
       "      <td>0</td>\n",
       "      <td>0</td>\n",
       "      <td>0</td>\n",
       "      <td>0</td>\n",
       "      <td>0</td>\n",
       "    </tr>\n",
       "    <tr>\n",
       "      <th>4</th>\n",
       "      <td>PT</td>\n",
       "      <td>AIRTON FALEIRO</td>\n",
       "      <td>0</td>\n",
       "      <td>1</td>\n",
       "      <td>0</td>\n",
       "      <td>0</td>\n",
       "      <td>1</td>\n",
       "      <td>0</td>\n",
       "      <td>0</td>\n",
       "      <td>0</td>\n",
       "      <td>...</td>\n",
       "      <td>0</td>\n",
       "      <td>0</td>\n",
       "      <td>0</td>\n",
       "      <td>0</td>\n",
       "      <td>0</td>\n",
       "      <td>0</td>\n",
       "      <td>0</td>\n",
       "      <td>0</td>\n",
       "      <td>1</td>\n",
       "      <td>0</td>\n",
       "    </tr>\n",
       "  </tbody>\n",
       "</table>\n",
       "<p>5 rows × 28 columns</p>\n",
       "</div>"
      ],
      "text/plain": [
       "col_0 Partido        NomeOrador  0  1  2  3  4  5  6  7  ...  16  17  18  19  \\\n",
       "0         PSL         ABOU ANNI  0  0  0  0  2  0  0  0  ...   0   0   0   0   \n",
       "1          PT   AFONSO FLORENCE  0  1  0  0  0  0  0  0  ...   0   0   0   0   \n",
       "2          PP       AFONSO HAMM  0  0  0  0  1  0  0  0  ...   0   0   0   0   \n",
       "3         PDT      AFONSO MOTTA  0  0  0  0  1  1  0  0  ...   0   0   0   0   \n",
       "4          PT    AIRTON FALEIRO  0  1  0  0  1  0  0  0  ...   0   0   0   0   \n",
       "\n",
       "col_0  20  21  22  23  24  25  \n",
       "0       0   0   0   0   0   0  \n",
       "1       0   0   0   0   0   0  \n",
       "2       0   0   3   0   0   0  \n",
       "3       0   0   0   0   0   0  \n",
       "4       0   0   0   0   1   0  \n",
       "\n",
       "[5 rows x 28 columns]"
      ]
     },
     "execution_count": 13,
     "metadata": {},
     "output_type": "execute_result"
    }
   ],
   "source": [
    "labels = labels_kmeans\n",
    "\n",
    "clusters_parlamentar = pd.crosstab(df[\"NomeOrador\"], labels)\n",
    "# removendo partidos com apenas 1 discurso\n",
    "clusters_parlamentar = clusters_parlamentar[clusters_parlamentar.sum(axis=1) > 1]\n",
    "print(clusters_parlamentar.shape)\n",
    "p_partidos = []\n",
    "for p in clusters_parlamentar.index:\n",
    "    p_partidos.append(df.query('NomeOrador==\"'+p+'\"')['Partido'][:1].tolist()[0])\n",
    "clusters_parlamentar['Partido'] = p_partidos\n",
    "clusters_parlamentar.reset_index(inplace=True)\n",
    "clusters_parlamentar = clusters_parlamentar.reindex(['Partido'] + list(clusters_parlamentar.columns[:-2]), axis=1)\n",
    "clusters_parlamentar.head()"
   ]
  },
  {
   "cell_type": "code",
   "execution_count": 14,
   "metadata": {},
   "outputs": [
    {
     "data": {
      "text/html": [
       "<div>\n",
       "<style scoped>\n",
       "    .dataframe tbody tr th:only-of-type {\n",
       "        vertical-align: middle;\n",
       "    }\n",
       "\n",
       "    .dataframe tbody tr th {\n",
       "        vertical-align: top;\n",
       "    }\n",
       "\n",
       "    .dataframe thead th {\n",
       "        text-align: right;\n",
       "    }\n",
       "</style>\n",
       "<table border=\"1\" class=\"dataframe\">\n",
       "  <thead>\n",
       "    <tr style=\"text-align: right;\">\n",
       "      <th></th>\n",
       "      <th>Ano</th>\n",
       "      <th>Partido</th>\n",
       "      <th>soma_2_clusters</th>\n",
       "      <th>soma_total</th>\n",
       "      <th>Score_GE</th>\n",
       "      <th>Cluster1</th>\n",
       "      <th>VlrCluster1</th>\n",
       "      <th>Cluster2</th>\n",
       "      <th>VlrCluster2</th>\n",
       "    </tr>\n",
       "  </thead>\n",
       "  <tbody>\n",
       "    <tr>\n",
       "      <th>0</th>\n",
       "      <td>2019</td>\n",
       "      <td>AVANTE</td>\n",
       "      <td>3</td>\n",
       "      <td>5</td>\n",
       "      <td>0.600000</td>\n",
       "      <td>5</td>\n",
       "      <td>2</td>\n",
       "      <td>2</td>\n",
       "      <td>1</td>\n",
       "    </tr>\n",
       "    <tr>\n",
       "      <th>1</th>\n",
       "      <td>2019</td>\n",
       "      <td>CIDADANIA</td>\n",
       "      <td>8</td>\n",
       "      <td>15</td>\n",
       "      <td>0.533333</td>\n",
       "      <td>2</td>\n",
       "      <td>5</td>\n",
       "      <td>5</td>\n",
       "      <td>3</td>\n",
       "    </tr>\n",
       "    <tr>\n",
       "      <th>2</th>\n",
       "      <td>2019</td>\n",
       "      <td>DEM</td>\n",
       "      <td>7</td>\n",
       "      <td>14</td>\n",
       "      <td>0.500000</td>\n",
       "      <td>2</td>\n",
       "      <td>5</td>\n",
       "      <td>5</td>\n",
       "      <td>2</td>\n",
       "    </tr>\n",
       "    <tr>\n",
       "      <th>3</th>\n",
       "      <td>2019</td>\n",
       "      <td>MDB</td>\n",
       "      <td>13</td>\n",
       "      <td>29</td>\n",
       "      <td>0.448276</td>\n",
       "      <td>2</td>\n",
       "      <td>7</td>\n",
       "      <td>5</td>\n",
       "      <td>6</td>\n",
       "    </tr>\n",
       "    <tr>\n",
       "      <th>4</th>\n",
       "      <td>2019</td>\n",
       "      <td>NOVO</td>\n",
       "      <td>5</td>\n",
       "      <td>11</td>\n",
       "      <td>0.454545</td>\n",
       "      <td>18</td>\n",
       "      <td>3</td>\n",
       "      <td>1</td>\n",
       "      <td>2</td>\n",
       "    </tr>\n",
       "    <tr>\n",
       "      <th>5</th>\n",
       "      <td>2019</td>\n",
       "      <td>PCDOB</td>\n",
       "      <td>17</td>\n",
       "      <td>37</td>\n",
       "      <td>0.459459</td>\n",
       "      <td>14</td>\n",
       "      <td>9</td>\n",
       "      <td>2</td>\n",
       "      <td>8</td>\n",
       "    </tr>\n",
       "    <tr>\n",
       "      <th>6</th>\n",
       "      <td>2019</td>\n",
       "      <td>PDT</td>\n",
       "      <td>12</td>\n",
       "      <td>36</td>\n",
       "      <td>0.333333</td>\n",
       "      <td>5</td>\n",
       "      <td>6</td>\n",
       "      <td>13</td>\n",
       "      <td>6</td>\n",
       "    </tr>\n",
       "    <tr>\n",
       "      <th>7</th>\n",
       "      <td>2019</td>\n",
       "      <td>PL</td>\n",
       "      <td>11</td>\n",
       "      <td>21</td>\n",
       "      <td>0.523810</td>\n",
       "      <td>18</td>\n",
       "      <td>7</td>\n",
       "      <td>5</td>\n",
       "      <td>4</td>\n",
       "    </tr>\n",
       "    <tr>\n",
       "      <th>8</th>\n",
       "      <td>2019</td>\n",
       "      <td>PODE</td>\n",
       "      <td>5</td>\n",
       "      <td>17</td>\n",
       "      <td>0.294118</td>\n",
       "      <td>5</td>\n",
       "      <td>3</td>\n",
       "      <td>10</td>\n",
       "      <td>2</td>\n",
       "    </tr>\n",
       "    <tr>\n",
       "      <th>9</th>\n",
       "      <td>2019</td>\n",
       "      <td>PP</td>\n",
       "      <td>6</td>\n",
       "      <td>14</td>\n",
       "      <td>0.428571</td>\n",
       "      <td>5</td>\n",
       "      <td>3</td>\n",
       "      <td>23</td>\n",
       "      <td>3</td>\n",
       "    </tr>\n",
       "    <tr>\n",
       "      <th>10</th>\n",
       "      <td>2019</td>\n",
       "      <td>PRB</td>\n",
       "      <td>6</td>\n",
       "      <td>13</td>\n",
       "      <td>0.461538</td>\n",
       "      <td>5</td>\n",
       "      <td>4</td>\n",
       "      <td>2</td>\n",
       "      <td>2</td>\n",
       "    </tr>\n",
       "    <tr>\n",
       "      <th>11</th>\n",
       "      <td>2019</td>\n",
       "      <td>PROS</td>\n",
       "      <td>11</td>\n",
       "      <td>21</td>\n",
       "      <td>0.523810</td>\n",
       "      <td>26</td>\n",
       "      <td>6</td>\n",
       "      <td>5</td>\n",
       "      <td>5</td>\n",
       "    </tr>\n",
       "    <tr>\n",
       "      <th>12</th>\n",
       "      <td>2019</td>\n",
       "      <td>PSB</td>\n",
       "      <td>26</td>\n",
       "      <td>88</td>\n",
       "      <td>0.295455</td>\n",
       "      <td>5</td>\n",
       "      <td>19</td>\n",
       "      <td>10</td>\n",
       "      <td>7</td>\n",
       "    </tr>\n",
       "    <tr>\n",
       "      <th>13</th>\n",
       "      <td>2019</td>\n",
       "      <td>PSD</td>\n",
       "      <td>20</td>\n",
       "      <td>47</td>\n",
       "      <td>0.425532</td>\n",
       "      <td>5</td>\n",
       "      <td>14</td>\n",
       "      <td>6</td>\n",
       "      <td>6</td>\n",
       "    </tr>\n",
       "    <tr>\n",
       "      <th>14</th>\n",
       "      <td>2019</td>\n",
       "      <td>PSDB</td>\n",
       "      <td>8</td>\n",
       "      <td>17</td>\n",
       "      <td>0.470588</td>\n",
       "      <td>5</td>\n",
       "      <td>4</td>\n",
       "      <td>10</td>\n",
       "      <td>4</td>\n",
       "    </tr>\n",
       "    <tr>\n",
       "      <th>15</th>\n",
       "      <td>2019</td>\n",
       "      <td>PSL</td>\n",
       "      <td>48</td>\n",
       "      <td>109</td>\n",
       "      <td>0.440367</td>\n",
       "      <td>5</td>\n",
       "      <td>38</td>\n",
       "      <td>10</td>\n",
       "      <td>10</td>\n",
       "    </tr>\n",
       "    <tr>\n",
       "      <th>16</th>\n",
       "      <td>2019</td>\n",
       "      <td>PSOL</td>\n",
       "      <td>10</td>\n",
       "      <td>29</td>\n",
       "      <td>0.344828</td>\n",
       "      <td>2</td>\n",
       "      <td>7</td>\n",
       "      <td>18</td>\n",
       "      <td>3</td>\n",
       "    </tr>\n",
       "    <tr>\n",
       "      <th>17</th>\n",
       "      <td>2019</td>\n",
       "      <td>PT</td>\n",
       "      <td>67</td>\n",
       "      <td>263</td>\n",
       "      <td>0.254753</td>\n",
       "      <td>17</td>\n",
       "      <td>35</td>\n",
       "      <td>5</td>\n",
       "      <td>32</td>\n",
       "    </tr>\n",
       "    <tr>\n",
       "      <th>18</th>\n",
       "      <td>2019</td>\n",
       "      <td>PTB</td>\n",
       "      <td>6</td>\n",
       "      <td>13</td>\n",
       "      <td>0.461538</td>\n",
       "      <td>2</td>\n",
       "      <td>4</td>\n",
       "      <td>10</td>\n",
       "      <td>2</td>\n",
       "    </tr>\n",
       "  </tbody>\n",
       "</table>\n",
       "</div>"
      ],
      "text/plain": [
       "     Ano    Partido  soma_2_clusters  soma_total  Score_GE  Cluster1  \\\n",
       "0   2019     AVANTE                3           5  0.600000         5   \n",
       "1   2019  CIDADANIA                8          15  0.533333         2   \n",
       "2   2019        DEM                7          14  0.500000         2   \n",
       "3   2019        MDB               13          29  0.448276         2   \n",
       "4   2019       NOVO                5          11  0.454545        18   \n",
       "5   2019      PCDOB               17          37  0.459459        14   \n",
       "6   2019        PDT               12          36  0.333333         5   \n",
       "7   2019         PL               11          21  0.523810        18   \n",
       "8   2019       PODE                5          17  0.294118         5   \n",
       "9   2019         PP                6          14  0.428571         5   \n",
       "10  2019        PRB                6          13  0.461538         5   \n",
       "11  2019       PROS               11          21  0.523810        26   \n",
       "12  2019        PSB               26          88  0.295455         5   \n",
       "13  2019        PSD               20          47  0.425532         5   \n",
       "14  2019       PSDB                8          17  0.470588         5   \n",
       "15  2019        PSL               48         109  0.440367         5   \n",
       "16  2019       PSOL               10          29  0.344828         2   \n",
       "17  2019         PT               67         263  0.254753        17   \n",
       "18  2019        PTB                6          13  0.461538         2   \n",
       "\n",
       "    VlrCluster1  Cluster2  VlrCluster2  \n",
       "0             2         2            1  \n",
       "1             5         5            3  \n",
       "2             5         5            2  \n",
       "3             7         5            6  \n",
       "4             3         1            2  \n",
       "5             9         2            8  \n",
       "6             6        13            6  \n",
       "7             7         5            4  \n",
       "8             3        10            2  \n",
       "9             3        23            3  \n",
       "10            4         2            2  \n",
       "11            6         5            5  \n",
       "12           19        10            7  \n",
       "13           14         6            6  \n",
       "14            4        10            4  \n",
       "15           38        10           10  \n",
       "16            7        18            3  \n",
       "17           35         5           32  \n",
       "18            4        10            2  "
      ]
     },
     "execution_count": 14,
     "metadata": {},
     "output_type": "execute_result"
    }
   ],
   "source": [
    "import heapq\n",
    "dfc = clusters_parlamentar.groupby(['Partido']).sum()\n",
    "dfc=dfc.reset_index()\n",
    "lst = dfc.values.tolist()\n",
    "partido = []\n",
    "soma_2_k = []\n",
    "soma_total = []\n",
    "score = []\n",
    "anos = []\n",
    "clusteres = []\n",
    "cluster1 = []\n",
    "vlrcluster1 = []\n",
    "cluster2 = []\n",
    "vlrcluster2 = []\n",
    "for i in lst:\n",
    "    # se o partido tiver 5 ou mais discursos\n",
    "    if(sum(i[1:]) >= 5):\n",
    "        # Selecionando os valores dos 3 maiores clusters\n",
    "        valores = heapq.nlargest(2,i[1:])\n",
    "        \n",
    "        # Selecionando o cluster pelos maiores valores\n",
    "        klusters = ''\n",
    "        pos1 = i.index(valores[0])\n",
    "        pos2 = i.index(valores[1])\n",
    "        # Se houver o mesmo valor em mais de um cluster\n",
    "        if(pos1 == pos2):\n",
    "            pos1 = [k for k, item in enumerate(i) if item == valores[0]][0]\n",
    "            pos2 = [k for k, item in enumerate(i) if item == valores[0]][1]\n",
    "        klusters = \"k\" + str(pos1) + \": \" + str(valores[0]) + \" - k\" + str(pos2) + \": \"+ str(valores[1])\n",
    "        cluster1.append(pos1)\n",
    "        vlrcluster1.append(valores[0])\n",
    "        cluster2.append(pos2)\n",
    "        vlrcluster2.append(valores[1])\n",
    "        \n",
    "        partido.append(i[0])\n",
    "        soma_2_k.append(sum(valores))\n",
    "        soma_total.append(sum(i[1:]))\n",
    "        score.append(sum(valores)/sum(i[1:]))\n",
    "        anos.append(ano)\n",
    "        clusteres.append(klusters)\n",
    "        \n",
    "df_score_clusters = pd.DataFrame()\n",
    "df_score_clusters['Ano'] = anos\n",
    "df_score_clusters['Partido'] = partido\n",
    "df_score_clusters['soma_2_clusters'] = soma_2_k\n",
    "df_score_clusters['soma_total'] = soma_total\n",
    "df_score_clusters['Score_GE'] = score\n",
    "#df_score_clusters['Clusteres'] = clusteres\n",
    "df_score_clusters['Cluster1'] = cluster1\n",
    "df_score_clusters['VlrCluster1'] = vlrcluster1\n",
    "df_score_clusters['Cluster2'] = cluster2\n",
    "df_score_clusters['VlrCluster2'] = vlrcluster2\n",
    "df_score_clusters"
   ]
  },
  {
   "cell_type": "code",
   "execution_count": 15,
   "metadata": {},
   "outputs": [
    {
     "data": {
      "image/png": "[encoded data removed]",
      "text/plain": [
       "<Figure size 720x720 with 1 Axes>"
      ]
     },
     "metadata": {
      "needs_background": "light"
     },
     "output_type": "display_data"
    }
   ],
   "source": [
    "df_score_clusters = df_score_clusters.sort_values(['Score_GE'])\n",
    "fig = plt.figure(figsize=(10,10))\n",
    "plt.barh(df_score_clusters['Partido'], df_score_clusters['Score_GE'])\n",
    "plt.grid()\n",
    "plt.tight_layout()\n",
    "plt.show()"
   ]
  },
  {
   "cell_type": "code",
   "execution_count": 16,
   "metadata": {
    "scrolled": false
   },
   "outputs": [
    {
     "name": "stderr",
     "output_type": "stream",
     "text": [
      "/Users/Polato/anaconda3/lib/python3.7/site-packages/pandas/core/frame.py:3940: SettingWithCopyWarning: \n",
      "A value is trying to be set on a copy of a slice from a DataFrame\n",
      "\n",
      "See the caveats in the documentation: http://pandas.pydata.org/pandas-docs/stable/indexing.html#indexing-view-versus-copy\n",
      "  errors=errors)\n"
     ]
    },
    {
     "data": {
      "text/html": [
       "<div>\n",
       "<style scoped>\n",
       "    .dataframe tbody tr th:only-of-type {\n",
       "        vertical-align: middle;\n",
       "    }\n",
       "\n",
       "    .dataframe tbody tr th {\n",
       "        vertical-align: top;\n",
       "    }\n",
       "\n",
       "    .dataframe thead th {\n",
       "        text-align: right;\n",
       "    }\n",
       "</style>\n",
       "<table border=\"1\" class=\"dataframe\">\n",
       "  <thead>\n",
       "    <tr style=\"text-align: right;\">\n",
       "      <th></th>\n",
       "      <th>Partido</th>\n",
       "      <th>Parlamentar</th>\n",
       "      <th>Cluster1</th>\n",
       "      <th>Cluster2</th>\n",
       "      <th>Total</th>\n",
       "      <th>Percentual</th>\n",
       "    </tr>\n",
       "  </thead>\n",
       "  <tbody>\n",
       "    <tr>\n",
       "      <th>0</th>\n",
       "      <td>PT</td>\n",
       "      <td>AFONSO FLORENCE</td>\n",
       "      <td>0</td>\n",
       "      <td>0</td>\n",
       "      <td>3</td>\n",
       "      <td>0.000000</td>\n",
       "    </tr>\n",
       "    <tr>\n",
       "      <th>1</th>\n",
       "      <td>PT</td>\n",
       "      <td>AIRTON FALEIRO</td>\n",
       "      <td>0</td>\n",
       "      <td>1</td>\n",
       "      <td>7</td>\n",
       "      <td>0.142857</td>\n",
       "    </tr>\n",
       "    <tr>\n",
       "      <th>2</th>\n",
       "      <td>PT</td>\n",
       "      <td>ALEXANDRE PADILHA</td>\n",
       "      <td>1</td>\n",
       "      <td>0</td>\n",
       "      <td>5</td>\n",
       "      <td>0.200000</td>\n",
       "    </tr>\n",
       "    <tr>\n",
       "      <th>3</th>\n",
       "      <td>PT</td>\n",
       "      <td>ASSIS CARVALHO</td>\n",
       "      <td>1</td>\n",
       "      <td>0</td>\n",
       "      <td>3</td>\n",
       "      <td>0.333333</td>\n",
       "    </tr>\n",
       "    <tr>\n",
       "      <th>4</th>\n",
       "      <td>PT</td>\n",
       "      <td>BENEDITA DA SILVA</td>\n",
       "      <td>0</td>\n",
       "      <td>1</td>\n",
       "      <td>8</td>\n",
       "      <td>0.125000</td>\n",
       "    </tr>\n",
       "  </tbody>\n",
       "</table>\n",
       "</div>"
      ],
      "text/plain": [
       "  Partido         Parlamentar  Cluster1  Cluster2  Total  Percentual\n",
       "0      PT     AFONSO FLORENCE         0         0      3    0.000000\n",
       "1      PT      AIRTON FALEIRO         0         1      7    0.142857\n",
       "2      PT   ALEXANDRE PADILHA         1         0      5    0.200000\n",
       "3      PT      ASSIS CARVALHO         1         0      3    0.333333\n",
       "4      PT   BENEDITA DA SILVA         0         1      8    0.125000"
      ]
     },
     "execution_count": 16,
     "metadata": {},
     "output_type": "execute_result"
    }
   ],
   "source": [
    "partido = []\n",
    "parlamentar = []\n",
    "cluster1 = []\n",
    "cluster2 = []\n",
    "total_d = []\n",
    "for x,y,z in zip(df_score_clusters['Partido'],df_score_clusters['Cluster1'],df_score_clusters['Cluster2']):\n",
    "    df_k_parlamentar = clusters_parlamentar.query(\"Partido=='\"+x+\"'\")\n",
    "    for a, b, c in zip(df_k_parlamentar['NomeOrador'], df_k_parlamentar[(y -1)], df_k_parlamentar[(z -1)]):\n",
    "        #print(x, a,\"|\",y,\"->\",b,\"|\",z,\"->\",c)\n",
    "        parlamentar.append(a)\n",
    "        partido.append(x)\n",
    "        cluster1.append(b)\n",
    "        cluster2.append(c)\n",
    "        ss = clusters_parlamentar.query('NomeOrador==\"'+a+'\"')\n",
    "        ss.drop(['Partido', 'NomeOrador'], axis=1, inplace=True)\n",
    "        total_d.append(ss.values.sum())\n",
    "df_deputado_k = pd.DataFrame()\n",
    "df_deputado_k['Partido'] = partido\n",
    "df_deputado_k['Parlamentar'] = parlamentar\n",
    "df_deputado_k['Cluster1'] = cluster1\n",
    "df_deputado_k['Cluster2'] = cluster2\n",
    "df_deputado_k['Total'] = total_d\n",
    "\n",
    "df_deputado_k['Percentual'] = (df_deputado_k['Cluster1'] + df_deputado_k['Cluster2']) / df_deputado_k['Total']\n",
    "df_deputado_k.head()"
   ]
  },
  {
   "cell_type": "code",
   "execution_count": 17,
   "metadata": {},
   "outputs": [],
   "source": [
    "df_score_clusters.to_csv('score/score_ge_2019.csv', sep=';', index=False)"
   ]
  },
  {
   "cell_type": "code",
   "execution_count": 18,
   "metadata": {
    "scrolled": true
   },
   "outputs": [
    {
     "name": "stdout",
     "output_type": "stream",
     "text": [
      "PT\n"
     ]
    },
    {
     "data": {
      "image/png": "[encoded data removed]",
      "text/plain": [
       "<Figure size 432x216 with 1 Axes>"
      ]
     },
     "metadata": {
      "needs_background": "light"
     },
     "output_type": "display_data"
    },
    {
     "name": "stdout",
     "output_type": "stream",
     "text": [
      "PODE\n"
     ]
    },
    {
     "data": {
      "image/png": "[encoded data removed]",
      "text/plain": [
       "<Figure size 432x216 with 1 Axes>"
      ]
     },
     "metadata": {
      "needs_background": "light"
     },
     "output_type": "display_data"
    },
    {
     "name": "stdout",
     "output_type": "stream",
     "text": [
      "PSB\n"
     ]
    },
    {
     "data": {
      "image/png": "[encoded data removed]",
      "text/plain": [
       "<Figure size 432x216 with 1 Axes>"
      ]
     },
     "metadata": {
      "needs_background": "light"
     },
     "output_type": "display_data"
    },
    {
     "name": "stdout",
     "output_type": "stream",
     "text": [
      "PDT\n"
     ]
    },
    {
     "data": {
      "image/png": "[encoded data removed]",
      "text/plain": [
       "<Figure size 432x216 with 1 Axes>"
      ]
     },
     "metadata": {
      "needs_background": "light"
     },
     "output_type": "display_data"
    },
    {
     "name": "stdout",
     "output_type": "stream",
     "text": [
      "PSOL\n"
     ]
    },
    {
     "data": {
      "image/png": "[encoded data removed]",
      "text/plain": [
       "<Figure size 432x216 with 1 Axes>"
      ]
     },
     "metadata": {
      "needs_background": "light"
     },
     "output_type": "display_data"
    },
    {
     "name": "stdout",
     "output_type": "stream",
     "text": [
      "PSD\n"
     ]
    },
    {
     "data": {
      "image/png": "[encoded data removed]",
      "text/plain": [
       "<Figure size 432x216 with 1 Axes>"
      ]
     },
     "metadata": {
      "needs_background": "light"
     },
     "output_type": "display_data"
    },
    {
     "name": "stdout",
     "output_type": "stream",
     "text": [
      "PP\n"
     ]
    },
    {
     "data": {
      "image/png": "[encoded data removed]",
      "text/plain": [
       "<Figure size 432x216 with 1 Axes>"
      ]
     },
     "metadata": {
      "needs_background": "light"
     },
     "output_type": "display_data"
    },
    {
     "name": "stdout",
     "output_type": "stream",
     "text": [
      "PSL\n"
     ]
    },
    {
     "data": {
      "image/png": "[encoded data removed]",
      "text/plain": [
       "<Figure size 432x216 with 1 Axes>"
      ]
     },
     "metadata": {
      "needs_background": "light"
     },
     "output_type": "display_data"
    },
    {
     "name": "stdout",
     "output_type": "stream",
     "text": [
      "MDB\n"
     ]
    },
    {
     "data": {
      "image/png": "[encoded data removed]",
      "text/plain": [
       "<Figure size 432x216 with 1 Axes>"
      ]
     },
     "metadata": {
      "needs_background": "light"
     },
     "output_type": "display_data"
    },
    {
     "name": "stdout",
     "output_type": "stream",
     "text": [
      "NOVO\n"
     ]
    },
    {
     "data": {
      "image/png": "[encoded data removed]",
      "text/plain": [
       "<Figure size 432x216 with 1 Axes>"
      ]
     },
     "metadata": {
      "needs_background": "light"
     },
     "output_type": "display_data"
    },
    {
     "name": "stdout",
     "output_type": "stream",
     "text": [
      "PCDOB\n"
     ]
    },
    {
     "data": {
      "image/png": "[encoded data removed]",
      "text/plain": [
       "<Figure size 432x216 with 1 Axes>"
      ]
     },
     "metadata": {
      "needs_background": "light"
     },
     "output_type": "display_data"
    },
    {
     "name": "stdout",
     "output_type": "stream",
     "text": [
      "PTB\n"
     ]
    },
    {
     "data": {
      "image/png": "[encoded data removed]",
      "text/plain": [
       "<Figure size 432x216 with 1 Axes>"
      ]
     },
     "metadata": {
      "needs_background": "light"
     },
     "output_type": "display_data"
    },
    {
     "name": "stdout",
     "output_type": "stream",
     "text": [
      "PRB\n"
     ]
    },
    {
     "data": {
      "image/png": "[encoded data removed]",
      "text/plain": [
       "<Figure size 432x216 with 1 Axes>"
      ]
     },
     "metadata": {
      "needs_background": "light"
     },
     "output_type": "display_data"
    },
    {
     "name": "stdout",
     "output_type": "stream",
     "text": [
      "PSDB\n"
     ]
    },
    {
     "data": {
      "image/png": "[encoded data removed]",
      "text/plain": [
       "<Figure size 432x216 with 1 Axes>"
      ]
     },
     "metadata": {
      "needs_background": "light"
     },
     "output_type": "display_data"
    },
    {
     "name": "stdout",
     "output_type": "stream",
     "text": [
      "DEM\n"
     ]
    },
    {
     "data": {
      "image/png": "[encoded data removed]",
      "text/plain": [
       "<Figure size 432x216 with 1 Axes>"
      ]
     },
     "metadata": {
      "needs_background": "light"
     },
     "output_type": "display_data"
    },
    {
     "name": "stdout",
     "output_type": "stream",
     "text": [
      "PL\n"
     ]
    },
    {
     "data": {
      "image/png": "[encoded data removed]",
      "text/plain": [
       "<Figure size 432x216 with 1 Axes>"
      ]
     },
     "metadata": {
      "needs_background": "light"
     },
     "output_type": "display_data"
    },
    {
     "name": "stdout",
     "output_type": "stream",
     "text": [
      "PROS\n"
     ]
    },
    {
     "data": {
      "image/png": "[encoded data removed]",
      "text/plain": [
       "<Figure size 432x216 with 1 Axes>"
      ]
     },
     "metadata": {
      "needs_background": "light"
     },
     "output_type": "display_data"
    },
    {
     "name": "stdout",
     "output_type": "stream",
     "text": [
      "CIDADANIA\n"
     ]
    },
    {
     "data": {
      "image/png": "[encoded data removed]",
      "text/plain": [
       "<Figure size 432x216 with 1 Axes>"
      ]
     },
     "metadata": {
      "needs_background": "light"
     },
     "output_type": "display_data"
    },
    {
     "name": "stdout",
     "output_type": "stream",
     "text": [
      "AVANTE\n"
     ]
    },
    {
     "data": {
      "image/png": "[encoded data removed]",
      "text/plain": [
       "<Figure size 432x216 with 1 Axes>"
      ]
     },
     "metadata": {
      "needs_background": "light"
     },
     "output_type": "display_data"
    }
   ],
   "source": [
    "for i in df_score_clusters.Partido.tolist():\n",
    "    dfk = df_deputado_k.query('Partido==\"'+i+'\"').sort_values(['Percentual'], ascending=False)[:5]\n",
    "    dfk = dfk.sort_values(['Percentual'], ascending=True)\n",
    "    print(i)\n",
    "    width = 0.7\n",
    "    fig = plt.figure(figsize=(6,3))\n",
    "    plt.barh(dfk['Parlamentar'], dfk['Percentual'], width, color='#F4A460')\n",
    "    plt.grid()\n",
    "    plt.xlim(0, 1)\n",
    "    plt.tight_layout()\n",
    "    plt.title(i)\n",
    "    plt.xlabel('Percentual de discursos')\n",
    "    plt.show()"
   ]
  },
  {
   "cell_type": "markdown",
   "metadata": {},
   "source": [
    "Alterar o partido para pesquisar a contribuição dos parlamentares para o resultado do indicador"
   ]
  },
  {
   "cell_type": "code",
   "execution_count": 20,
   "metadata": {
    "scrolled": true
   },
   "outputs": [
    {
     "data": {
      "text/html": [
       "<div>\n",
       "<style scoped>\n",
       "    .dataframe tbody tr th:only-of-type {\n",
       "        vertical-align: middle;\n",
       "    }\n",
       "\n",
       "    .dataframe tbody tr th {\n",
       "        vertical-align: top;\n",
       "    }\n",
       "\n",
       "    .dataframe thead th {\n",
       "        text-align: right;\n",
       "    }\n",
       "</style>\n",
       "<table border=\"1\" class=\"dataframe\">\n",
       "  <thead>\n",
       "    <tr style=\"text-align: right;\">\n",
       "      <th></th>\n",
       "      <th>Partido</th>\n",
       "      <th>Parlamentar</th>\n",
       "      <th>Cluster1</th>\n",
       "      <th>Cluster2</th>\n",
       "      <th>Total</th>\n",
       "      <th>Percentual</th>\n",
       "    </tr>\n",
       "  </thead>\n",
       "  <tbody>\n",
       "    <tr>\n",
       "      <th>13</th>\n",
       "      <td>PT</td>\n",
       "      <td>GLEISI HOFFMANN</td>\n",
       "      <td>5</td>\n",
       "      <td>0</td>\n",
       "      <td>7</td>\n",
       "      <td>0.714286</td>\n",
       "    </tr>\n",
       "    <tr>\n",
       "      <th>41</th>\n",
       "      <td>PT</td>\n",
       "      <td>ZÉ NETO</td>\n",
       "      <td>4</td>\n",
       "      <td>2</td>\n",
       "      <td>12</td>\n",
       "      <td>0.500000</td>\n",
       "    </tr>\n",
       "    <tr>\n",
       "      <th>30</th>\n",
       "      <td>PT</td>\n",
       "      <td>PAULO TEIXEIRA</td>\n",
       "      <td>0</td>\n",
       "      <td>1</td>\n",
       "      <td>2</td>\n",
       "      <td>0.500000</td>\n",
       "    </tr>\n",
       "    <tr>\n",
       "      <th>34</th>\n",
       "      <td>PT</td>\n",
       "      <td>REJANE DIAS</td>\n",
       "      <td>0</td>\n",
       "      <td>1</td>\n",
       "      <td>2</td>\n",
       "      <td>0.500000</td>\n",
       "    </tr>\n",
       "    <tr>\n",
       "      <th>18</th>\n",
       "      <td>PT</td>\n",
       "      <td>JOSÉ GUIMARÃES</td>\n",
       "      <td>1</td>\n",
       "      <td>0</td>\n",
       "      <td>2</td>\n",
       "      <td>0.500000</td>\n",
       "    </tr>\n",
       "    <tr>\n",
       "      <th>6</th>\n",
       "      <td>PT</td>\n",
       "      <td>BOHN GASS</td>\n",
       "      <td>1</td>\n",
       "      <td>2</td>\n",
       "      <td>6</td>\n",
       "      <td>0.500000</td>\n",
       "    </tr>\n",
       "    <tr>\n",
       "      <th>14</th>\n",
       "      <td>PT</td>\n",
       "      <td>HENRIQUE FONTANA</td>\n",
       "      <td>3</td>\n",
       "      <td>1</td>\n",
       "      <td>9</td>\n",
       "      <td>0.444444</td>\n",
       "    </tr>\n",
       "    <tr>\n",
       "      <th>16</th>\n",
       "      <td>PT</td>\n",
       "      <td>JOSEILDO RAMOS</td>\n",
       "      <td>0</td>\n",
       "      <td>4</td>\n",
       "      <td>9</td>\n",
       "      <td>0.444444</td>\n",
       "    </tr>\n",
       "    <tr>\n",
       "      <th>33</th>\n",
       "      <td>PT</td>\n",
       "      <td>REGINALDO LOPES</td>\n",
       "      <td>2</td>\n",
       "      <td>1</td>\n",
       "      <td>7</td>\n",
       "      <td>0.428571</td>\n",
       "    </tr>\n",
       "    <tr>\n",
       "      <th>35</th>\n",
       "      <td>PT</td>\n",
       "      <td>ROGÉRIO CORREIA</td>\n",
       "      <td>2</td>\n",
       "      <td>1</td>\n",
       "      <td>7</td>\n",
       "      <td>0.428571</td>\n",
       "    </tr>\n",
       "    <tr>\n",
       "      <th>31</th>\n",
       "      <td>PT</td>\n",
       "      <td>PEDRO UCZAI</td>\n",
       "      <td>2</td>\n",
       "      <td>0</td>\n",
       "      <td>5</td>\n",
       "      <td>0.400000</td>\n",
       "    </tr>\n",
       "    <tr>\n",
       "      <th>9</th>\n",
       "      <td>PT</td>\n",
       "      <td>CÉLIO MOURA</td>\n",
       "      <td>0</td>\n",
       "      <td>6</td>\n",
       "      <td>15</td>\n",
       "      <td>0.400000</td>\n",
       "    </tr>\n",
       "    <tr>\n",
       "      <th>10</th>\n",
       "      <td>PT</td>\n",
       "      <td>ENIO VERRI</td>\n",
       "      <td>1</td>\n",
       "      <td>0</td>\n",
       "      <td>3</td>\n",
       "      <td>0.333333</td>\n",
       "    </tr>\n",
       "    <tr>\n",
       "      <th>3</th>\n",
       "      <td>PT</td>\n",
       "      <td>ASSIS CARVALHO</td>\n",
       "      <td>1</td>\n",
       "      <td>0</td>\n",
       "      <td>3</td>\n",
       "      <td>0.333333</td>\n",
       "    </tr>\n",
       "    <tr>\n",
       "      <th>17</th>\n",
       "      <td>PT</td>\n",
       "      <td>JOSÉ AIRTON FÉLIX CIRILO</td>\n",
       "      <td>0</td>\n",
       "      <td>2</td>\n",
       "      <td>6</td>\n",
       "      <td>0.333333</td>\n",
       "    </tr>\n",
       "    <tr>\n",
       "      <th>8</th>\n",
       "      <td>PT</td>\n",
       "      <td>CARLOS ZARATTINI</td>\n",
       "      <td>0</td>\n",
       "      <td>1</td>\n",
       "      <td>4</td>\n",
       "      <td>0.250000</td>\n",
       "    </tr>\n",
       "    <tr>\n",
       "      <th>40</th>\n",
       "      <td>PT</td>\n",
       "      <td>ZECA DIRCEU</td>\n",
       "      <td>1</td>\n",
       "      <td>0</td>\n",
       "      <td>4</td>\n",
       "      <td>0.250000</td>\n",
       "    </tr>\n",
       "    <tr>\n",
       "      <th>39</th>\n",
       "      <td>PT</td>\n",
       "      <td>WALDENOR PEREIRA</td>\n",
       "      <td>1</td>\n",
       "      <td>0</td>\n",
       "      <td>4</td>\n",
       "      <td>0.250000</td>\n",
       "    </tr>\n",
       "    <tr>\n",
       "      <th>11</th>\n",
       "      <td>PT</td>\n",
       "      <td>ERIKA KOKAY</td>\n",
       "      <td>1</td>\n",
       "      <td>1</td>\n",
       "      <td>8</td>\n",
       "      <td>0.250000</td>\n",
       "    </tr>\n",
       "    <tr>\n",
       "      <th>12</th>\n",
       "      <td>PT</td>\n",
       "      <td>FREI ANASTACIO RIBEIRO</td>\n",
       "      <td>0</td>\n",
       "      <td>4</td>\n",
       "      <td>17</td>\n",
       "      <td>0.235294</td>\n",
       "    </tr>\n",
       "    <tr>\n",
       "      <th>22</th>\n",
       "      <td>PT</td>\n",
       "      <td>MARCON</td>\n",
       "      <td>1</td>\n",
       "      <td>2</td>\n",
       "      <td>13</td>\n",
       "      <td>0.230769</td>\n",
       "    </tr>\n",
       "    <tr>\n",
       "      <th>19</th>\n",
       "      <td>PT</td>\n",
       "      <td>JOSÉ RICARDO</td>\n",
       "      <td>2</td>\n",
       "      <td>0</td>\n",
       "      <td>9</td>\n",
       "      <td>0.222222</td>\n",
       "    </tr>\n",
       "    <tr>\n",
       "      <th>26</th>\n",
       "      <td>PT</td>\n",
       "      <td>NELSON PELLEGRINO</td>\n",
       "      <td>2</td>\n",
       "      <td>0</td>\n",
       "      <td>9</td>\n",
       "      <td>0.222222</td>\n",
       "    </tr>\n",
       "    <tr>\n",
       "      <th>2</th>\n",
       "      <td>PT</td>\n",
       "      <td>ALEXANDRE PADILHA</td>\n",
       "      <td>1</td>\n",
       "      <td>0</td>\n",
       "      <td>5</td>\n",
       "      <td>0.200000</td>\n",
       "    </tr>\n",
       "    <tr>\n",
       "      <th>15</th>\n",
       "      <td>PT</td>\n",
       "      <td>JORGE SOLLA</td>\n",
       "      <td>1</td>\n",
       "      <td>0</td>\n",
       "      <td>6</td>\n",
       "      <td>0.166667</td>\n",
       "    </tr>\n",
       "    <tr>\n",
       "      <th>23</th>\n",
       "      <td>PT</td>\n",
       "      <td>MARIA DO ROSÁRIO</td>\n",
       "      <td>0</td>\n",
       "      <td>1</td>\n",
       "      <td>6</td>\n",
       "      <td>0.166667</td>\n",
       "    </tr>\n",
       "    <tr>\n",
       "      <th>20</th>\n",
       "      <td>PT</td>\n",
       "      <td>JOÃO DANIEL</td>\n",
       "      <td>3</td>\n",
       "      <td>0</td>\n",
       "      <td>18</td>\n",
       "      <td>0.166667</td>\n",
       "    </tr>\n",
       "    <tr>\n",
       "      <th>1</th>\n",
       "      <td>PT</td>\n",
       "      <td>AIRTON FALEIRO</td>\n",
       "      <td>0</td>\n",
       "      <td>1</td>\n",
       "      <td>7</td>\n",
       "      <td>0.142857</td>\n",
       "    </tr>\n",
       "    <tr>\n",
       "      <th>4</th>\n",
       "      <td>PT</td>\n",
       "      <td>BENEDITA DA SILVA</td>\n",
       "      <td>0</td>\n",
       "      <td>1</td>\n",
       "      <td>8</td>\n",
       "      <td>0.125000</td>\n",
       "    </tr>\n",
       "    <tr>\n",
       "      <th>38</th>\n",
       "      <td>PT</td>\n",
       "      <td>VICENTINHO</td>\n",
       "      <td>0</td>\n",
       "      <td>0</td>\n",
       "      <td>2</td>\n",
       "      <td>0.000000</td>\n",
       "    </tr>\n",
       "    <tr>\n",
       "      <th>37</th>\n",
       "      <td>PT</td>\n",
       "      <td>VALMIR ASSUNÇÃO</td>\n",
       "      <td>0</td>\n",
       "      <td>0</td>\n",
       "      <td>9</td>\n",
       "      <td>0.000000</td>\n",
       "    </tr>\n",
       "    <tr>\n",
       "      <th>36</th>\n",
       "      <td>PT</td>\n",
       "      <td>RUI FALCÃO</td>\n",
       "      <td>0</td>\n",
       "      <td>0</td>\n",
       "      <td>3</td>\n",
       "      <td>0.000000</td>\n",
       "    </tr>\n",
       "    <tr>\n",
       "      <th>0</th>\n",
       "      <td>PT</td>\n",
       "      <td>AFONSO FLORENCE</td>\n",
       "      <td>0</td>\n",
       "      <td>0</td>\n",
       "      <td>3</td>\n",
       "      <td>0.000000</td>\n",
       "    </tr>\n",
       "    <tr>\n",
       "      <th>32</th>\n",
       "      <td>PT</td>\n",
       "      <td>PROFESSORA ROSA NEIDE</td>\n",
       "      <td>0</td>\n",
       "      <td>0</td>\n",
       "      <td>4</td>\n",
       "      <td>0.000000</td>\n",
       "    </tr>\n",
       "    <tr>\n",
       "      <th>29</th>\n",
       "      <td>PT</td>\n",
       "      <td>PAULO GUEDES</td>\n",
       "      <td>0</td>\n",
       "      <td>0</td>\n",
       "      <td>4</td>\n",
       "      <td>0.000000</td>\n",
       "    </tr>\n",
       "    <tr>\n",
       "      <th>28</th>\n",
       "      <td>PT</td>\n",
       "      <td>PADRE JOÃO</td>\n",
       "      <td>0</td>\n",
       "      <td>0</td>\n",
       "      <td>5</td>\n",
       "      <td>0.000000</td>\n",
       "    </tr>\n",
       "    <tr>\n",
       "      <th>27</th>\n",
       "      <td>PT</td>\n",
       "      <td>NILTO TATTO</td>\n",
       "      <td>0</td>\n",
       "      <td>0</td>\n",
       "      <td>2</td>\n",
       "      <td>0.000000</td>\n",
       "    </tr>\n",
       "    <tr>\n",
       "      <th>25</th>\n",
       "      <td>PT</td>\n",
       "      <td>NATÁLIA BONAVIDES</td>\n",
       "      <td>0</td>\n",
       "      <td>0</td>\n",
       "      <td>2</td>\n",
       "      <td>0.000000</td>\n",
       "    </tr>\n",
       "    <tr>\n",
       "      <th>24</th>\n",
       "      <td>PT</td>\n",
       "      <td>MERLONG SOLANO</td>\n",
       "      <td>0</td>\n",
       "      <td>0</td>\n",
       "      <td>2</td>\n",
       "      <td>0.000000</td>\n",
       "    </tr>\n",
       "    <tr>\n",
       "      <th>7</th>\n",
       "      <td>PT</td>\n",
       "      <td>CARLOS VERAS</td>\n",
       "      <td>0</td>\n",
       "      <td>0</td>\n",
       "      <td>2</td>\n",
       "      <td>0.000000</td>\n",
       "    </tr>\n",
       "    <tr>\n",
       "      <th>5</th>\n",
       "      <td>PT</td>\n",
       "      <td>BETO FARO</td>\n",
       "      <td>0</td>\n",
       "      <td>0</td>\n",
       "      <td>9</td>\n",
       "      <td>0.000000</td>\n",
       "    </tr>\n",
       "    <tr>\n",
       "      <th>21</th>\n",
       "      <td>PT</td>\n",
       "      <td>LEONARDO MONTEIRO</td>\n",
       "      <td>0</td>\n",
       "      <td>0</td>\n",
       "      <td>3</td>\n",
       "      <td>0.000000</td>\n",
       "    </tr>\n",
       "  </tbody>\n",
       "</table>\n",
       "</div>"
      ],
      "text/plain": [
       "   Partido                Parlamentar  Cluster1  Cluster2  Total  Percentual\n",
       "13      PT            GLEISI HOFFMANN         5         0      7    0.714286\n",
       "41      PT                    ZÉ NETO         4         2     12    0.500000\n",
       "30      PT             PAULO TEIXEIRA         0         1      2    0.500000\n",
       "34      PT                REJANE DIAS         0         1      2    0.500000\n",
       "18      PT             JOSÉ GUIMARÃES         1         0      2    0.500000\n",
       "6       PT                  BOHN GASS         1         2      6    0.500000\n",
       "14      PT           HENRIQUE FONTANA         3         1      9    0.444444\n",
       "16      PT             JOSEILDO RAMOS         0         4      9    0.444444\n",
       "33      PT            REGINALDO LOPES         2         1      7    0.428571\n",
       "35      PT            ROGÉRIO CORREIA         2         1      7    0.428571\n",
       "31      PT                PEDRO UCZAI         2         0      5    0.400000\n",
       "9       PT                CÉLIO MOURA         0         6     15    0.400000\n",
       "10      PT                 ENIO VERRI         1         0      3    0.333333\n",
       "3       PT             ASSIS CARVALHO         1         0      3    0.333333\n",
       "17      PT   JOSÉ AIRTON FÉLIX CIRILO         0         2      6    0.333333\n",
       "8       PT           CARLOS ZARATTINI         0         1      4    0.250000\n",
       "40      PT                ZECA DIRCEU         1         0      4    0.250000\n",
       "39      PT           WALDENOR PEREIRA         1         0      4    0.250000\n",
       "11      PT                ERIKA KOKAY         1         1      8    0.250000\n",
       "12      PT     FREI ANASTACIO RIBEIRO         0         4     17    0.235294\n",
       "22      PT                     MARCON         1         2     13    0.230769\n",
       "19      PT               JOSÉ RICARDO         2         0      9    0.222222\n",
       "26      PT          NELSON PELLEGRINO         2         0      9    0.222222\n",
       "2       PT          ALEXANDRE PADILHA         1         0      5    0.200000\n",
       "15      PT                JORGE SOLLA         1         0      6    0.166667\n",
       "23      PT           MARIA DO ROSÁRIO         0         1      6    0.166667\n",
       "20      PT                JOÃO DANIEL         3         0     18    0.166667\n",
       "1       PT             AIRTON FALEIRO         0         1      7    0.142857\n",
       "4       PT          BENEDITA DA SILVA         0         1      8    0.125000\n",
       "38      PT                 VICENTINHO         0         0      2    0.000000\n",
       "37      PT            VALMIR ASSUNÇÃO         0         0      9    0.000000\n",
       "36      PT                 RUI FALCÃO         0         0      3    0.000000\n",
       "0       PT            AFONSO FLORENCE         0         0      3    0.000000\n",
       "32      PT      PROFESSORA ROSA NEIDE         0         0      4    0.000000\n",
       "29      PT               PAULO GUEDES         0         0      4    0.000000\n",
       "28      PT                 PADRE JOÃO         0         0      5    0.000000\n",
       "27      PT                NILTO TATTO         0         0      2    0.000000\n",
       "25      PT          NATÁLIA BONAVIDES         0         0      2    0.000000\n",
       "24      PT             MERLONG SOLANO         0         0      2    0.000000\n",
       "7       PT               CARLOS VERAS         0         0      2    0.000000\n",
       "5       PT                  BETO FARO         0         0      9    0.000000\n",
       "21      PT          LEONARDO MONTEIRO         0         0      3    0.000000"
      ]
     },
     "execution_count": 20,
     "metadata": {},
     "output_type": "execute_result"
    }
   ],
   "source": [
    "partido = \"PT\"\n",
    "df_deputado_k.query('Partido==\"'+partido+'\"').sort_values(['Percentual'], ascending=False)"
   ]
  },
  {
   "cell_type": "code",
   "execution_count": null,
   "metadata": {},
   "outputs": [],
   "source": []
  }
 ],
 "metadata": {
  "kernelspec": {
   "display_name": "Python 3",
   "language": "python",
   "name": "python3"
  },
  "language_info": {
   "codemirror_mode": {
    "name": "ipython",
    "version": 3
   },
   "file_extension": ".py",
   "mimetype": "text/x-python",
   "name": "python",
   "nbconvert_exporter": "python",
   "pygments_lexer": "ipython3",
   "version": "3.7.3"
  }
 },
 "nbformat": 4,
 "nbformat_minor": 2
}
