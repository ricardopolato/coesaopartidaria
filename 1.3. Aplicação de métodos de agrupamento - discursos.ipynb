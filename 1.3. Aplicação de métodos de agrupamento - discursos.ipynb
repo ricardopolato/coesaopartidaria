{
 "cells": [
  {
   "cell_type": "markdown",
   "metadata": {},
   "source": [
    "# Similaridade Partidária"
   ]
  },
  {
   "cell_type": "markdown",
   "metadata": {},
   "source": [
    "## Análise dos discursos parlamentares"
   ]
  },
  {
   "cell_type": "code",
   "execution_count": 1,
   "metadata": {},
   "outputs": [],
   "source": [
    "import pandas as pd\n",
    "import numpy as np\n",
    "import matplotlib.pyplot as plt"
   ]
  },
  {
   "cell_type": "code",
   "execution_count": 2,
   "metadata": {
    "scrolled": false
   },
   "outputs": [
    {
     "data": {
      "text/html": [
       "<div>\n",
       "<style scoped>\n",
       "    .dataframe tbody tr th:only-of-type {\n",
       "        vertical-align: middle;\n",
       "    }\n",
       "\n",
       "    .dataframe tbody tr th {\n",
       "        vertical-align: top;\n",
       "    }\n",
       "\n",
       "    .dataframe thead th {\n",
       "        text-align: right;\n",
       "    }\n",
       "</style>\n",
       "<table border=\"1\" class=\"dataframe\">\n",
       "  <thead>\n",
       "    <tr style=\"text-align: right;\">\n",
       "      <th></th>\n",
       "      <th>Data</th>\n",
       "      <th>Sessão</th>\n",
       "      <th>Fase</th>\n",
       "      <th>Discurso</th>\n",
       "      <th>Hora</th>\n",
       "      <th>Publicação</th>\n",
       "      <th>NomeOrador</th>\n",
       "      <th>Partido</th>\n",
       "      <th>Estado</th>\n",
       "      <th>TextoDiscurso</th>\n",
       "    </tr>\n",
       "  </thead>\n",
       "  <tbody>\n",
       "    <tr>\n",
       "      <th>0</th>\n",
       "      <td>26/02/2019</td>\n",
       "      <td>17.2019</td>\n",
       "      <td>GRANDE EXPEDIENTE</td>\n",
       "      <td>TextoHTML.asp?etapa=5 &amp;nuSessao=17.2019 &amp;nuQua...</td>\n",
       "      <td>16h44</td>\n",
       "      <td>DCD27/02/2019 PAG. 88</td>\n",
       "      <td>FÁBIO TRAD</td>\n",
       "      <td>PSD</td>\n",
       "      <td>MS</td>\n",
       "      <td>projet resoluca autor quer agradec tod lideran...</td>\n",
       "    </tr>\n",
       "    <tr>\n",
       "      <th>1</th>\n",
       "      <td>26/02/2019</td>\n",
       "      <td>17.2019</td>\n",
       "      <td>GRANDE EXPEDIENTE</td>\n",
       "      <td>TextoHTML.asp?etapa=5 &amp;nuSessao=17.2019 &amp;nuQua...</td>\n",
       "      <td>16h40</td>\n",
       "      <td>DCD27/02/2019 PAG. 86</td>\n",
       "      <td>SILVIO COSTA FILHO</td>\n",
       "      <td>PRB</td>\n",
       "      <td>PE</td>\n",
       "      <td>questa quer faz apel exa base art incis ii vis...</td>\n",
       "    </tr>\n",
       "    <tr>\n",
       "      <th>2</th>\n",
       "      <td>26/02/2019</td>\n",
       "      <td>17.2019</td>\n",
       "      <td>GRANDE EXPEDIENTE</td>\n",
       "      <td>TextoHTML.asp?etapa=5 &amp;nuSessao=17.2019 &amp;nuQua...</td>\n",
       "      <td>16h40</td>\n",
       "      <td>DCD27/02/2019 PAG. 87</td>\n",
       "      <td>POMPEO DE MATTOS</td>\n",
       "      <td>PDT</td>\n",
       "      <td>RS</td>\n",
       "      <td>quer advert cas contribuint vez aprov reform n...</td>\n",
       "    </tr>\n",
       "    <tr>\n",
       "      <th>3</th>\n",
       "      <td>26/02/2019</td>\n",
       "      <td>17.2019</td>\n",
       "      <td>GRANDE EXPEDIENTE</td>\n",
       "      <td>TextoHTML.asp?etapa=5 &amp;nuSessao=17.2019 &amp;nuQua...</td>\n",
       "      <td>16h40</td>\n",
       "      <td>DCD27/02/2019 PAG. 86</td>\n",
       "      <td>JULIO CESAR RIBEIRO</td>\n",
       "      <td>PRB</td>\n",
       "      <td>DF</td>\n",
       "      <td>quer diz trist revolt relaca ministr educaca v...</td>\n",
       "    </tr>\n",
       "    <tr>\n",
       "      <th>4</th>\n",
       "      <td>26/02/2019</td>\n",
       "      <td>17.2019</td>\n",
       "      <td>GRANDE EXPEDIENTE</td>\n",
       "      <td>TextoHTML.asp?etapa=5 &amp;nuSessao=17.2019 &amp;nuQua...</td>\n",
       "      <td>16h36</td>\n",
       "      <td>DCD27/02/2019 PAG. 85</td>\n",
       "      <td>ÁTILA LIRA</td>\n",
       "      <td>PSB</td>\n",
       "      <td>PI</td>\n",
       "      <td>sra sr parlament quer registr aqu desapont ind...</td>\n",
       "    </tr>\n",
       "  </tbody>\n",
       "</table>\n",
       "</div>"
      ],
      "text/plain": [
       "         Data   Sessão                Fase  \\\n",
       "0  26/02/2019  17.2019  GRANDE EXPEDIENTE    \n",
       "1  26/02/2019  17.2019  GRANDE EXPEDIENTE    \n",
       "2  26/02/2019  17.2019  GRANDE EXPEDIENTE    \n",
       "3  26/02/2019  17.2019  GRANDE EXPEDIENTE    \n",
       "4  26/02/2019  17.2019  GRANDE EXPEDIENTE    \n",
       "\n",
       "                                            Discurso     Hora  \\\n",
       "0  TextoHTML.asp?etapa=5 &nuSessao=17.2019 &nuQua...   16h44    \n",
       "1  TextoHTML.asp?etapa=5 &nuSessao=17.2019 &nuQua...   16h40    \n",
       "2  TextoHTML.asp?etapa=5 &nuSessao=17.2019 &nuQua...   16h40    \n",
       "3  TextoHTML.asp?etapa=5 &nuSessao=17.2019 &nuQua...   16h40    \n",
       "4  TextoHTML.asp?etapa=5 &nuSessao=17.2019 &nuQua...   16h36    \n",
       "\n",
       "                Publicação            NomeOrador Partido Estado  \\\n",
       "0   DCD27/02/2019 PAG. 88             FÁBIO TRAD     PSD    MS    \n",
       "1   DCD27/02/2019 PAG. 86     SILVIO COSTA FILHO     PRB    PE    \n",
       "2   DCD27/02/2019 PAG. 87       POMPEO DE MATTOS     PDT    RS    \n",
       "3   DCD27/02/2019 PAG. 86    JULIO CESAR RIBEIRO     PRB    DF    \n",
       "4   DCD27/02/2019 PAG. 85             ÁTILA LIRA     PSB    PI    \n",
       "\n",
       "                                       TextoDiscurso  \n",
       "0  projet resoluca autor quer agradec tod lideran...  \n",
       "1  questa quer faz apel exa base art incis ii vis...  \n",
       "2  quer advert cas contribuint vez aprov reform n...  \n",
       "3  quer diz trist revolt relaca ministr educaca v...  \n",
       "4  sra sr parlament quer registr aqu desapont ind...  "
      ]
     },
     "execution_count": 2,
     "metadata": {},
     "output_type": "execute_result"
    }
   ],
   "source": [
    "# Lendo a base de dados\n",
    "ano = '2019'\n",
    "df = pd.read_csv('discursos/discursos_preprocessados_2019.csv', sep=\";\", encoding=\"utf-8\")\n",
    "df.head()"
   ]
  },
  {
   "cell_type": "code",
   "execution_count": 3,
   "metadata": {},
   "outputs": [],
   "source": [
    "from sklearn.cluster import MiniBatchKMeans\n",
    "from sklearn.feature_extraction.text import TfidfVectorizer\n",
    "from sklearn.cluster import AgglomerativeClustering\n",
    "from sklearn.cluster import KMeans, MeanShift, DBSCAN, estimate_bandwidth\n",
    "from sklearn.metrics import silhouette_score\n",
    "from sklearn.decomposition import PCA\n",
    "from sklearn.manifold import TSNE"
   ]
  },
  {
   "cell_type": "code",
   "execution_count": 4,
   "metadata": {},
   "outputs": [],
   "source": [
    "# Retirados partidos sem representantes ou com apenas um representantes na Câmara \n",
    "if(ano == '2010'):\n",
    "    partidos_com_representantes = ['PT', 'PP', 'CIDADANIA', 'PCDOB', 'PMN', 'MDB', 'DEM', 'PSB', 'PDT', 'PTB', 'PL', 'PSDB', 'PV', 'PSC', \n",
    "                 'PAN', 'PTC', 'PHS', 'PSOL', 'PRONA'] # Retirado PTDOB E PRB por terem somente um representante\n",
    "elif(ano in ['2011', '2012', '2013', '2014']):\n",
    "    partidos_com_representantes = ['PT', 'MDB', 'PL', 'PSB', 'PDT', 'PSC', 'PCDOB', 'REPUBLICANOS', 'PODE', 'PSDB', 'DEM', 'PTB', 'CIDADANIA', \n",
    "                 'PMN', 'AVANTE', 'PP', 'PV', 'PSOL', 'PHS', 'PRTB', 'PRP'] # Retirado PTC e PSL por terem somente um representante\n",
    "elif(ano in ['2015', '2016', '2017', '2018']):\n",
    "    partidos_com_representantes = ['PT', 'MDB', 'PL', 'PDT', 'REPUBLICANOS', 'PROS', 'PSD', 'PP', 'PSDB', 'DEM', 'PTB', 'PMN', 'SD', 'PTC', 'PODE', \n",
    "                'PATRI', 'PSB', 'PRP', 'CIDADANIA', 'PHS', 'PV', 'PSOL', 'PSC', 'DC', 'PCDOB'] # Retirado PCdoB, PRTB e PSL por terem somente um representante\n",
    "elif(ano == '2019'):\n",
    "    partidos_com_representantes = ['PT', 'PSL', 'PP', 'MDB', 'PSD', 'PL', 'PSB', 'PRB', 'PSDB', 'DEM', 'PDT', 'SD', 'PODE', 'PTB', 'PSOL', \n",
    "                'PCDOB', 'PSC', 'PROS', 'CIDADANIA', 'NOVO', 'AVANTE', 'PHS', 'PATRI', 'PV', 'PRP', 'PMN', 'PTC'] # Retirados DC, PPL e REDE por terem somente um representante\n"
   ]
  },
  {
   "cell_type": "markdown",
   "metadata": {},
   "source": [
    "### TF-IDF term frequency–inverse document frequency"
   ]
  },
  {
   "cell_type": "code",
   "execution_count": 5,
   "metadata": {},
   "outputs": [],
   "source": [
    "tfidf = TfidfVectorizer(\n",
    "    min_df = 5,\n",
    "    max_df = 0.95,\n",
    "    max_features = 8000\n",
    ")\n",
    "tfidf.fit(df['TextoDiscurso'])\n",
    "text = tfidf.transform(df['TextoDiscurso'])"
   ]
  },
  {
   "cell_type": "code",
   "execution_count": 6,
   "metadata": {},
   "outputs": [
    {
     "data": {
      "text/html": [
       "<div>\n",
       "<style scoped>\n",
       "    .dataframe tbody tr th:only-of-type {\n",
       "        vertical-align: middle;\n",
       "    }\n",
       "\n",
       "    .dataframe tbody tr th {\n",
       "        vertical-align: top;\n",
       "    }\n",
       "\n",
       "    .dataframe thead th {\n",
       "        text-align: right;\n",
       "    }\n",
       "</style>\n",
       "<table border=\"1\" class=\"dataframe\">\n",
       "  <thead>\n",
       "    <tr style=\"text-align: right;\">\n",
       "      <th></th>\n",
       "      <th>Partido</th>\n",
       "      <th>Parlamentar</th>\n",
       "      <th>aa</th>\n",
       "      <th>aacd</th>\n",
       "      <th>aara</th>\n",
       "      <th>aba</th>\n",
       "      <th>abad</th>\n",
       "      <th>abaf</th>\n",
       "      <th>abaix</th>\n",
       "      <th>abal</th>\n",
       "      <th>...</th>\n",
       "      <th>zequ</th>\n",
       "      <th>zer</th>\n",
       "      <th>zeza</th>\n",
       "      <th>zik</th>\n",
       "      <th>zomb</th>\n",
       "      <th>zon</th>\n",
       "      <th>zoolog</th>\n",
       "      <th>zootecn</th>\n",
       "      <th>zouain</th>\n",
       "      <th>zygmunt</th>\n",
       "    </tr>\n",
       "  </thead>\n",
       "  <tbody>\n",
       "    <tr>\n",
       "      <th>0</th>\n",
       "      <td>PSD</td>\n",
       "      <td>FÁBIO TRAD</td>\n",
       "      <td>0.0</td>\n",
       "      <td>0.0</td>\n",
       "      <td>0.0</td>\n",
       "      <td>0.0</td>\n",
       "      <td>0.0</td>\n",
       "      <td>0.0</td>\n",
       "      <td>0.0</td>\n",
       "      <td>0.0</td>\n",
       "      <td>...</td>\n",
       "      <td>0.0</td>\n",
       "      <td>0.0</td>\n",
       "      <td>0.0</td>\n",
       "      <td>0.0</td>\n",
       "      <td>0.0</td>\n",
       "      <td>0.0</td>\n",
       "      <td>0.0</td>\n",
       "      <td>0.0</td>\n",
       "      <td>0.0</td>\n",
       "      <td>0.0</td>\n",
       "    </tr>\n",
       "    <tr>\n",
       "      <th>1</th>\n",
       "      <td>PRB</td>\n",
       "      <td>SILVIO COSTA FILHO</td>\n",
       "      <td>0.0</td>\n",
       "      <td>0.0</td>\n",
       "      <td>0.0</td>\n",
       "      <td>0.0</td>\n",
       "      <td>0.0</td>\n",
       "      <td>0.0</td>\n",
       "      <td>0.0</td>\n",
       "      <td>0.0</td>\n",
       "      <td>...</td>\n",
       "      <td>0.0</td>\n",
       "      <td>0.0</td>\n",
       "      <td>0.0</td>\n",
       "      <td>0.0</td>\n",
       "      <td>0.0</td>\n",
       "      <td>0.0</td>\n",
       "      <td>0.0</td>\n",
       "      <td>0.0</td>\n",
       "      <td>0.0</td>\n",
       "      <td>0.0</td>\n",
       "    </tr>\n",
       "    <tr>\n",
       "      <th>2</th>\n",
       "      <td>PDT</td>\n",
       "      <td>POMPEO DE MATTOS</td>\n",
       "      <td>0.0</td>\n",
       "      <td>0.0</td>\n",
       "      <td>0.0</td>\n",
       "      <td>0.0</td>\n",
       "      <td>0.0</td>\n",
       "      <td>0.0</td>\n",
       "      <td>0.0</td>\n",
       "      <td>0.0</td>\n",
       "      <td>...</td>\n",
       "      <td>0.0</td>\n",
       "      <td>0.0</td>\n",
       "      <td>0.0</td>\n",
       "      <td>0.0</td>\n",
       "      <td>0.0</td>\n",
       "      <td>0.0</td>\n",
       "      <td>0.0</td>\n",
       "      <td>0.0</td>\n",
       "      <td>0.0</td>\n",
       "      <td>0.0</td>\n",
       "    </tr>\n",
       "    <tr>\n",
       "      <th>3</th>\n",
       "      <td>PRB</td>\n",
       "      <td>JULIO CESAR RIBEIRO</td>\n",
       "      <td>0.0</td>\n",
       "      <td>0.0</td>\n",
       "      <td>0.0</td>\n",
       "      <td>0.0</td>\n",
       "      <td>0.0</td>\n",
       "      <td>0.0</td>\n",
       "      <td>0.0</td>\n",
       "      <td>0.0</td>\n",
       "      <td>...</td>\n",
       "      <td>0.0</td>\n",
       "      <td>0.0</td>\n",
       "      <td>0.0</td>\n",
       "      <td>0.0</td>\n",
       "      <td>0.0</td>\n",
       "      <td>0.0</td>\n",
       "      <td>0.0</td>\n",
       "      <td>0.0</td>\n",
       "      <td>0.0</td>\n",
       "      <td>0.0</td>\n",
       "    </tr>\n",
       "    <tr>\n",
       "      <th>4</th>\n",
       "      <td>PSB</td>\n",
       "      <td>ÁTILA LIRA</td>\n",
       "      <td>0.0</td>\n",
       "      <td>0.0</td>\n",
       "      <td>0.0</td>\n",
       "      <td>0.0</td>\n",
       "      <td>0.0</td>\n",
       "      <td>0.0</td>\n",
       "      <td>0.0</td>\n",
       "      <td>0.0</td>\n",
       "      <td>...</td>\n",
       "      <td>0.0</td>\n",
       "      <td>0.0</td>\n",
       "      <td>0.0</td>\n",
       "      <td>0.0</td>\n",
       "      <td>0.0</td>\n",
       "      <td>0.0</td>\n",
       "      <td>0.0</td>\n",
       "      <td>0.0</td>\n",
       "      <td>0.0</td>\n",
       "      <td>0.0</td>\n",
       "    </tr>\n",
       "  </tbody>\n",
       "</table>\n",
       "<p>5 rows × 11689 columns</p>\n",
       "</div>"
      ],
      "text/plain": [
       "  Partido           Parlamentar   aa  aacd  aara  aba  abad  abaf  abaix  \\\n",
       "0     PSD            FÁBIO TRAD  0.0   0.0   0.0  0.0   0.0   0.0    0.0   \n",
       "1     PRB    SILVIO COSTA FILHO  0.0   0.0   0.0  0.0   0.0   0.0    0.0   \n",
       "2     PDT      POMPEO DE MATTOS  0.0   0.0   0.0  0.0   0.0   0.0    0.0   \n",
       "3     PRB   JULIO CESAR RIBEIRO  0.0   0.0   0.0  0.0   0.0   0.0    0.0   \n",
       "4     PSB            ÁTILA LIRA  0.0   0.0   0.0  0.0   0.0   0.0    0.0   \n",
       "\n",
       "   abal  ...  zequ  zer  zeza  zik  zomb  zon  zoolog  zootecn  zouain  \\\n",
       "0   0.0  ...   0.0  0.0   0.0  0.0   0.0  0.0     0.0      0.0     0.0   \n",
       "1   0.0  ...   0.0  0.0   0.0  0.0   0.0  0.0     0.0      0.0     0.0   \n",
       "2   0.0  ...   0.0  0.0   0.0  0.0   0.0  0.0     0.0      0.0     0.0   \n",
       "3   0.0  ...   0.0  0.0   0.0  0.0   0.0  0.0     0.0      0.0     0.0   \n",
       "4   0.0  ...   0.0  0.0   0.0  0.0   0.0  0.0     0.0      0.0     0.0   \n",
       "\n",
       "   zygmunt  \n",
       "0      0.0  \n",
       "1      0.0  \n",
       "2      0.0  \n",
       "3      0.0  \n",
       "4      0.0  \n",
       "\n",
       "[5 rows x 11689 columns]"
      ]
     },
     "execution_count": 6,
     "metadata": {},
     "output_type": "execute_result"
    }
   ],
   "source": [
    "from sklearn.feature_extraction.text import TfidfVectorizer\n",
    "tfidf_vectorizer = TfidfVectorizer()\n",
    "tfidf_matrix = tfidf_vectorizer.fit_transform(df['TextoDiscurso'])\n",
    "df_tfidf = pd.DataFrame(tfidf_matrix.toarray(),columns=tfidf_vectorizer.get_feature_names())\n",
    "df_tfidf['Parlamentar'] = df['NomeOrador'].tolist()\n",
    "df_tfidf['Partido'] = df['Partido'].tolist()\n",
    "df_tfidf = df_tfidf.reindex(['Partido', 'Parlamentar'] + list(df_tfidf.columns[:-2]), axis=1)\n",
    "df_tfidf.head()"
   ]
  },
  {
   "cell_type": "markdown",
   "metadata": {},
   "source": [
    "### Singular-value decomposition (SVD) para redução de dimensionalidade\n",
    "Uma aplicação popular de SVD é para redução de dimensionalidade.\n",
    "\n",
    "Dados com um grande número de recursos, como mais recursos (colunas) do que observações (linhas), podem ser reduzidos a um subconjunto menor de recursos que são mais relevantes para o problema de previsão.\n",
    "\n",
    "O resultado é uma matriz com uma classificação inferior que se aproxima da matriz original.\n",
    "\n",
    "Para fazer isso, podemos realizar uma operação SVD nos dados originais e selecionar os k maiores valores singulares no Sigma. Essas colunas podem ser selecionadas de Sigma e as linhas selecionadas de V ^ T."
   ]
  },
  {
   "cell_type": "code",
   "execution_count": 7,
   "metadata": {},
   "outputs": [],
   "source": [
    "from numpy import array\n",
    "from sklearn.decomposition import TruncatedSVD\n",
    "A = text\n",
    "# svd\n",
    "svd = TruncatedSVD(n_components=2)\n",
    "svd.fit(A)\n",
    "text = svd.transform(A)"
   ]
  },
  {
   "cell_type": "markdown",
   "metadata": {},
   "source": [
    "## Similaridade por Clusterização"
   ]
  },
  {
   "cell_type": "markdown",
   "metadata": {},
   "source": [
    "### Medição através de clusterização com DBSCAN\n",
    "O DBSCANalgoritmo vê os clusters como áreas de alta densidade separadas por áreas de baixa densidade. Devido a essa visão um tanto genérica, os clusters encontrados pelo DBSCAN podem ter qualquer formato, ao contrário de k-means, que assume que os clusters têm formato convexo. O componente central do DBSCAN é o conceito de amostras de núcleo , que são amostras que estão em áreas de alta densidade. Um cluster é, portanto, um conjunto de amostras de núcleo, cada uma próxima uma da outra (medida por alguma medida de distância) e um conjunto de amostras não essenciais que estão perto de uma amostra de núcleo (mas não são elas próprias amostras de núcleo). Existem dois parâmetros para o algoritmo, min_samplese eps, que definem formalmente o que queremos dizer quando dizemos denso . Superior min_samplesou inferioreps indicam maior densidade necessária para formar um cluster."
   ]
  },
  {
   "cell_type": "code",
   "execution_count": 8,
   "metadata": {
    "scrolled": true
   },
   "outputs": [],
   "source": [
    "agrupador_dbscan = DBSCAN(eps=1.0, min_samples=5).fit(text)\n",
    "labels_dbscan = agrupador_dbscan.fit_predict(text)\n",
    "\n",
    "#print(\"O coeficiente de silhueta do DBSCAN é: \", silhouette_score(text, labels_dbscan))\n",
    "#print(\"Labels DBSCAN: \", labels_dbscan)"
   ]
  },
  {
   "cell_type": "markdown",
   "metadata": {},
   "source": [
    "### Medição através de clusterização com K-Means\n",
    "\n",
    "O k-means é o mais popular e mais simples algoritmo particional. K-means foi descoberto independentemente em diferentes campos científicos, primeiramente por STEINHAUS (1956), LLOYD (1982), BALL & HALL (1965) e MACQUEEN (1967) e mesmo tendo sido proposto há mais de 50 anos, ainda é um dos algoritmos mais utilizados para clusterização devido à facilidade de implementação, simplicidade, eficiência e sucesso empírico e possui várias extensões desenvolvidas em várias formas\n",
    "\n",
    "### Melhorando a aplicação do algoritmo K-Means\n",
    "\n",
    "O <b>método cotovelo</b> ajuda a encontrar o melhor valor de k. Ele usa a soma das distâncias quadradas [SSE] entre os pontos de dados e seus respectivos centróides ou médias de cluster atribuídos. Em seguida, selecione o valor k na posição em que o SSE começa a achatar e formar um cotovelo."
   ]
  },
  {
   "cell_type": "code",
   "execution_count": 9,
   "metadata": {
    "scrolled": false
   },
   "outputs": [
    {
     "name": "stdout",
     "output_type": "stream",
     "text": [
      "Fit 2 clusters\n",
      "Fit 4 clusters\n",
      "Fit 6 clusters\n",
      "Fit 8 clusters\n",
      "Fit 10 clusters\n",
      "Fit 12 clusters\n",
      "Fit 14 clusters\n",
      "Fit 16 clusters\n",
      "Fit 18 clusters\n",
      "Fit 20 clusters\n",
      "Fit 22 clusters\n",
      "Fit 24 clusters\n",
      "Fit 26 clusters\n",
      "Fit 28 clusters\n",
      "Fit 30 clusters\n"
     ]
    },
    {
     "data": {
      "image/png": "[encoded data removed]",
      "text/plain": [
       "<Figure size 432x288 with 1 Axes>"
      ]
     },
     "metadata": {
      "needs_background": "light"
     },
     "output_type": "display_data"
    }
   ],
   "source": [
    "def find_optimal_clusters(data, max_k):\n",
    "    iters = range(2, max_k+1, 2)\n",
    "    \n",
    "    sse = []\n",
    "    for k in iters:\n",
    "        sse.append(MiniBatchKMeans(n_clusters=k, init_size=1024, batch_size=2048, random_state=20).fit(data).inertia_)\n",
    "        print('Fit {} clusters'.format(k))\n",
    "        \n",
    "    f, ax = plt.subplots(1, 1)\n",
    "    ax.plot(iters, sse, marker='o')\n",
    "    ax.set_xlabel('Cluster Centers')\n",
    "    ax.set_xticks(iters)\n",
    "    ax.set_xticklabels(iters)\n",
    "    ax.set_ylabel('SSE')\n",
    "    #ax.set_title('SSE by Cluster Center Plot')\n",
    "    \n",
    "find_optimal_clusters(text, 30)"
   ]
  },
  {
   "cell_type": "markdown",
   "metadata": {},
   "source": [
    "Devido ao gráfico gerado pelo método de cotovelo não formar uma curva acentuada seguida por estabilidade no eixo y, optamos por utilizar a quantidade de partidos com representantes como o número de clusters (k)"
   ]
  },
  {
   "cell_type": "code",
   "execution_count": 10,
   "metadata": {},
   "outputs": [
    {
     "name": "stdout",
     "output_type": "stream",
     "text": [
      "Atribuído 10 clusters.\n"
     ]
    }
   ],
   "source": [
    "#k = len(partidos_com_representantes)\n",
    "k = 10\n",
    "print(\"Atribuído\", k, \"clusters.\")"
   ]
  },
  {
   "cell_type": "code",
   "execution_count": 11,
   "metadata": {},
   "outputs": [],
   "source": [
    "clusters = MiniBatchKMeans(n_clusters=k, init_size=1024, batch_size=2048, random_state=12).fit_predict(text)"
   ]
  },
  {
   "cell_type": "code",
   "execution_count": 12,
   "metadata": {
    "scrolled": true
   },
   "outputs": [
    {
     "name": "stdout",
     "output_type": "stream",
     "text": [
      "O coeficiente de silhueta do K-means é:  0.3476310637371833\n"
     ]
    }
   ],
   "source": [
    "agrupador_kmeans = KMeans(n_clusters = k)\n",
    "labels_kmeans = agrupador_kmeans.fit_predict(text)\n",
    "\n",
    "print(\"O coeficiente de silhueta do K-means é: \", silhouette_score(text, labels_kmeans))\n",
    "#print(\"Labels Kmeans: \", labels_kmeans)"
   ]
  },
  {
   "cell_type": "markdown",
   "metadata": {},
   "source": [
    "Selecionando os valores dos 2 maiores clusters"
   ]
  },
  {
   "cell_type": "code",
   "execution_count": 13,
   "metadata": {
    "scrolled": true
   },
   "outputs": [
    {
     "name": "stdout",
     "output_type": "stream",
     "text": [
      "(270, 10)\n"
     ]
    },
    {
     "data": {
      "text/html": [
       "<div>\n",
       "<style scoped>\n",
       "    .dataframe tbody tr th:only-of-type {\n",
       "        vertical-align: middle;\n",
       "    }\n",
       "\n",
       "    .dataframe tbody tr th {\n",
       "        vertical-align: top;\n",
       "    }\n",
       "\n",
       "    .dataframe thead th {\n",
       "        text-align: right;\n",
       "    }\n",
       "</style>\n",
       "<table border=\"1\" class=\"dataframe\">\n",
       "  <thead>\n",
       "    <tr style=\"text-align: right;\">\n",
       "      <th>col_0</th>\n",
       "      <th>Partido</th>\n",
       "      <th>NomeOrador</th>\n",
       "      <th>0</th>\n",
       "      <th>1</th>\n",
       "      <th>2</th>\n",
       "      <th>3</th>\n",
       "      <th>4</th>\n",
       "      <th>5</th>\n",
       "      <th>6</th>\n",
       "      <th>7</th>\n",
       "      <th>8</th>\n",
       "    </tr>\n",
       "  </thead>\n",
       "  <tbody>\n",
       "    <tr>\n",
       "      <th>0</th>\n",
       "      <td>PSL</td>\n",
       "      <td>ABOU ANNI</td>\n",
       "      <td>0</td>\n",
       "      <td>0</td>\n",
       "      <td>0</td>\n",
       "      <td>0</td>\n",
       "      <td>0</td>\n",
       "      <td>0</td>\n",
       "      <td>0</td>\n",
       "      <td>0</td>\n",
       "      <td>2</td>\n",
       "    </tr>\n",
       "    <tr>\n",
       "      <th>1</th>\n",
       "      <td>NOVO</td>\n",
       "      <td>ADRIANA VENTURA</td>\n",
       "      <td>0</td>\n",
       "      <td>0</td>\n",
       "      <td>0</td>\n",
       "      <td>0</td>\n",
       "      <td>0</td>\n",
       "      <td>1</td>\n",
       "      <td>0</td>\n",
       "      <td>0</td>\n",
       "      <td>0</td>\n",
       "    </tr>\n",
       "    <tr>\n",
       "      <th>2</th>\n",
       "      <td>PT</td>\n",
       "      <td>AFONSO FLORENCE</td>\n",
       "      <td>1</td>\n",
       "      <td>0</td>\n",
       "      <td>0</td>\n",
       "      <td>0</td>\n",
       "      <td>0</td>\n",
       "      <td>1</td>\n",
       "      <td>0</td>\n",
       "      <td>0</td>\n",
       "      <td>1</td>\n",
       "    </tr>\n",
       "    <tr>\n",
       "      <th>3</th>\n",
       "      <td>PP</td>\n",
       "      <td>AFONSO HAMM</td>\n",
       "      <td>3</td>\n",
       "      <td>0</td>\n",
       "      <td>2</td>\n",
       "      <td>0</td>\n",
       "      <td>0</td>\n",
       "      <td>0</td>\n",
       "      <td>0</td>\n",
       "      <td>0</td>\n",
       "      <td>0</td>\n",
       "    </tr>\n",
       "    <tr>\n",
       "      <th>4</th>\n",
       "      <td>PDT</td>\n",
       "      <td>AFONSO MOTTA</td>\n",
       "      <td>1</td>\n",
       "      <td>0</td>\n",
       "      <td>0</td>\n",
       "      <td>0</td>\n",
       "      <td>0</td>\n",
       "      <td>0</td>\n",
       "      <td>0</td>\n",
       "      <td>0</td>\n",
       "      <td>1</td>\n",
       "    </tr>\n",
       "  </tbody>\n",
       "</table>\n",
       "</div>"
      ],
      "text/plain": [
       "col_0 Partido        NomeOrador  0  1  2  3  4  5  6  7  8\n",
       "0         PSL         ABOU ANNI  0  0  0  0  0  0  0  0  2\n",
       "1        NOVO   ADRIANA VENTURA  0  0  0  0  0  1  0  0  0\n",
       "2          PT   AFONSO FLORENCE  1  0  0  0  0  1  0  0  1\n",
       "3          PP       AFONSO HAMM  3  0  2  0  0  0  0  0  0\n",
       "4         PDT      AFONSO MOTTA  1  0  0  0  0  0  0  0  1"
      ]
     },
     "execution_count": 13,
     "metadata": {},
     "output_type": "execute_result"
    }
   ],
   "source": [
    "labels = labels_kmeans\n",
    "\n",
    "df['NomeOrador'] = df['NomeOrador'].replace([' ASSIS CARVALHO (PRESIDENTE)'], ' ASSIS CARVALHO')\n",
    "clusters_parlamentar = pd.crosstab(df[\"NomeOrador\"], labels)\n",
    "# removendo partidos com apenas 1 discurso\n",
    "#clusters_parlamentar = clusters_parlamentar[clusters_parlamentar.sum(axis=1) > 1]\n",
    "print(clusters_parlamentar.shape)\n",
    "p_partidos = []\n",
    "for p in clusters_parlamentar.index:\n",
    "    p_partidos.append(df.query('NomeOrador==\"'+p+'\"')['Partido'][:1].tolist()[0])\n",
    "clusters_parlamentar['Partido'] = p_partidos\n",
    "clusters_parlamentar.reset_index(inplace=True)\n",
    "clusters_parlamentar = clusters_parlamentar.reindex(['Partido'] + list(clusters_parlamentar.columns[:-2]), axis=1)\n",
    "clusters_parlamentar.head()"
   ]
  },
  {
   "cell_type": "code",
   "execution_count": 14,
   "metadata": {},
   "outputs": [
    {
     "data": {
      "text/html": [
       "<div>\n",
       "<style scoped>\n",
       "    .dataframe tbody tr th:only-of-type {\n",
       "        vertical-align: middle;\n",
       "    }\n",
       "\n",
       "    .dataframe tbody tr th {\n",
       "        vertical-align: top;\n",
       "    }\n",
       "\n",
       "    .dataframe thead th {\n",
       "        text-align: right;\n",
       "    }\n",
       "</style>\n",
       "<table border=\"1\" class=\"dataframe\">\n",
       "  <thead>\n",
       "    <tr style=\"text-align: right;\">\n",
       "      <th></th>\n",
       "      <th>Ano</th>\n",
       "      <th>Partido</th>\n",
       "      <th>soma_2_clusters</th>\n",
       "      <th>soma_total</th>\n",
       "      <th>Percentual</th>\n",
       "      <th>Score_GE</th>\n",
       "      <th>Cluster1</th>\n",
       "      <th>VlrCluster1</th>\n",
       "      <th>Cluster2</th>\n",
       "      <th>VlrCluster2</th>\n",
       "      <th>ScoreClusterUnico</th>\n",
       "    </tr>\n",
       "  </thead>\n",
       "  <tbody>\n",
       "    <tr>\n",
       "      <th>0</th>\n",
       "      <td>2019</td>\n",
       "      <td>AVANTE</td>\n",
       "      <td>4</td>\n",
       "      <td>6</td>\n",
       "      <td>0.666667</td>\n",
       "      <td>0.58</td>\n",
       "      <td>3</td>\n",
       "      <td>2</td>\n",
       "      <td>9</td>\n",
       "      <td>2</td>\n",
       "      <td>0.333333</td>\n",
       "    </tr>\n",
       "    <tr>\n",
       "      <th>1</th>\n",
       "      <td>2019</td>\n",
       "      <td>CIDADANIA</td>\n",
       "      <td>7</td>\n",
       "      <td>17</td>\n",
       "      <td>0.411765</td>\n",
       "      <td>0.26</td>\n",
       "      <td>9</td>\n",
       "      <td>4</td>\n",
       "      <td>3</td>\n",
       "      <td>3</td>\n",
       "      <td>0.235294</td>\n",
       "    </tr>\n",
       "    <tr>\n",
       "      <th>2</th>\n",
       "      <td>2019</td>\n",
       "      <td>DEM</td>\n",
       "      <td>8</td>\n",
       "      <td>18</td>\n",
       "      <td>0.444444</td>\n",
       "      <td>0.31</td>\n",
       "      <td>1</td>\n",
       "      <td>4</td>\n",
       "      <td>8</td>\n",
       "      <td>4</td>\n",
       "      <td>0.222222</td>\n",
       "    </tr>\n",
       "    <tr>\n",
       "      <th>3</th>\n",
       "      <td>2019</td>\n",
       "      <td>MDB</td>\n",
       "      <td>14</td>\n",
       "      <td>28</td>\n",
       "      <td>0.500000</td>\n",
       "      <td>0.38</td>\n",
       "      <td>3</td>\n",
       "      <td>8</td>\n",
       "      <td>7</td>\n",
       "      <td>6</td>\n",
       "      <td>0.285714</td>\n",
       "    </tr>\n",
       "    <tr>\n",
       "      <th>4</th>\n",
       "      <td>2019</td>\n",
       "      <td>NOVO</td>\n",
       "      <td>7</td>\n",
       "      <td>12</td>\n",
       "      <td>0.583333</td>\n",
       "      <td>0.48</td>\n",
       "      <td>9</td>\n",
       "      <td>4</td>\n",
       "      <td>4</td>\n",
       "      <td>3</td>\n",
       "      <td>0.333333</td>\n",
       "    </tr>\n",
       "    <tr>\n",
       "      <th>5</th>\n",
       "      <td>2019</td>\n",
       "      <td>PCDOB</td>\n",
       "      <td>18</td>\n",
       "      <td>38</td>\n",
       "      <td>0.473684</td>\n",
       "      <td>0.34</td>\n",
       "      <td>3</td>\n",
       "      <td>9</td>\n",
       "      <td>7</td>\n",
       "      <td>9</td>\n",
       "      <td>0.236842</td>\n",
       "    </tr>\n",
       "    <tr>\n",
       "      <th>6</th>\n",
       "      <td>2019</td>\n",
       "      <td>PDT</td>\n",
       "      <td>14</td>\n",
       "      <td>39</td>\n",
       "      <td>0.358974</td>\n",
       "      <td>0.20</td>\n",
       "      <td>3</td>\n",
       "      <td>8</td>\n",
       "      <td>1</td>\n",
       "      <td>6</td>\n",
       "      <td>0.205128</td>\n",
       "    </tr>\n",
       "    <tr>\n",
       "      <th>7</th>\n",
       "      <td>2019</td>\n",
       "      <td>PL</td>\n",
       "      <td>13</td>\n",
       "      <td>26</td>\n",
       "      <td>0.500000</td>\n",
       "      <td>0.38</td>\n",
       "      <td>9</td>\n",
       "      <td>8</td>\n",
       "      <td>7</td>\n",
       "      <td>5</td>\n",
       "      <td>0.307692</td>\n",
       "    </tr>\n",
       "    <tr>\n",
       "      <th>8</th>\n",
       "      <td>2019</td>\n",
       "      <td>PODE</td>\n",
       "      <td>10</td>\n",
       "      <td>18</td>\n",
       "      <td>0.555556</td>\n",
       "      <td>0.44</td>\n",
       "      <td>6</td>\n",
       "      <td>6</td>\n",
       "      <td>9</td>\n",
       "      <td>4</td>\n",
       "      <td>0.333333</td>\n",
       "    </tr>\n",
       "    <tr>\n",
       "      <th>9</th>\n",
       "      <td>2019</td>\n",
       "      <td>PP</td>\n",
       "      <td>11</td>\n",
       "      <td>23</td>\n",
       "      <td>0.478261</td>\n",
       "      <td>0.35</td>\n",
       "      <td>3</td>\n",
       "      <td>7</td>\n",
       "      <td>7</td>\n",
       "      <td>4</td>\n",
       "      <td>0.304348</td>\n",
       "    </tr>\n",
       "    <tr>\n",
       "      <th>10</th>\n",
       "      <td>2019</td>\n",
       "      <td>PRB</td>\n",
       "      <td>11</td>\n",
       "      <td>19</td>\n",
       "      <td>0.578947</td>\n",
       "      <td>0.47</td>\n",
       "      <td>7</td>\n",
       "      <td>8</td>\n",
       "      <td>9</td>\n",
       "      <td>3</td>\n",
       "      <td>0.421053</td>\n",
       "    </tr>\n",
       "    <tr>\n",
       "      <th>11</th>\n",
       "      <td>2019</td>\n",
       "      <td>PROS</td>\n",
       "      <td>11</td>\n",
       "      <td>23</td>\n",
       "      <td>0.478261</td>\n",
       "      <td>0.35</td>\n",
       "      <td>7</td>\n",
       "      <td>6</td>\n",
       "      <td>9</td>\n",
       "      <td>5</td>\n",
       "      <td>0.260870</td>\n",
       "    </tr>\n",
       "    <tr>\n",
       "      <th>12</th>\n",
       "      <td>2019</td>\n",
       "      <td>PSB</td>\n",
       "      <td>37</td>\n",
       "      <td>92</td>\n",
       "      <td>0.402174</td>\n",
       "      <td>0.25</td>\n",
       "      <td>3</td>\n",
       "      <td>19</td>\n",
       "      <td>9</td>\n",
       "      <td>18</td>\n",
       "      <td>0.206522</td>\n",
       "    </tr>\n",
       "    <tr>\n",
       "      <th>13</th>\n",
       "      <td>2019</td>\n",
       "      <td>PSD</td>\n",
       "      <td>28</td>\n",
       "      <td>53</td>\n",
       "      <td>0.528302</td>\n",
       "      <td>0.41</td>\n",
       "      <td>3</td>\n",
       "      <td>16</td>\n",
       "      <td>7</td>\n",
       "      <td>12</td>\n",
       "      <td>0.301887</td>\n",
       "    </tr>\n",
       "    <tr>\n",
       "      <th>14</th>\n",
       "      <td>2019</td>\n",
       "      <td>PSDB</td>\n",
       "      <td>9</td>\n",
       "      <td>24</td>\n",
       "      <td>0.375000</td>\n",
       "      <td>0.22</td>\n",
       "      <td>3</td>\n",
       "      <td>5</td>\n",
       "      <td>7</td>\n",
       "      <td>4</td>\n",
       "      <td>0.208333</td>\n",
       "    </tr>\n",
       "    <tr>\n",
       "      <th>15</th>\n",
       "      <td>2019</td>\n",
       "      <td>PSL</td>\n",
       "      <td>65</td>\n",
       "      <td>121</td>\n",
       "      <td>0.537190</td>\n",
       "      <td>0.42</td>\n",
       "      <td>7</td>\n",
       "      <td>41</td>\n",
       "      <td>9</td>\n",
       "      <td>24</td>\n",
       "      <td>0.338843</td>\n",
       "    </tr>\n",
       "    <tr>\n",
       "      <th>16</th>\n",
       "      <td>2019</td>\n",
       "      <td>PSOL</td>\n",
       "      <td>14</td>\n",
       "      <td>29</td>\n",
       "      <td>0.482759</td>\n",
       "      <td>0.35</td>\n",
       "      <td>7</td>\n",
       "      <td>9</td>\n",
       "      <td>9</td>\n",
       "      <td>5</td>\n",
       "      <td>0.310345</td>\n",
       "    </tr>\n",
       "    <tr>\n",
       "      <th>17</th>\n",
       "      <td>2019</td>\n",
       "      <td>PT</td>\n",
       "      <td>97</td>\n",
       "      <td>268</td>\n",
       "      <td>0.361940</td>\n",
       "      <td>0.20</td>\n",
       "      <td>7</td>\n",
       "      <td>51</td>\n",
       "      <td>6</td>\n",
       "      <td>46</td>\n",
       "      <td>0.190299</td>\n",
       "    </tr>\n",
       "    <tr>\n",
       "      <th>18</th>\n",
       "      <td>2019</td>\n",
       "      <td>PTB</td>\n",
       "      <td>8</td>\n",
       "      <td>16</td>\n",
       "      <td>0.500000</td>\n",
       "      <td>0.38</td>\n",
       "      <td>1</td>\n",
       "      <td>4</td>\n",
       "      <td>3</td>\n",
       "      <td>4</td>\n",
       "      <td>0.250000</td>\n",
       "    </tr>\n",
       "  </tbody>\n",
       "</table>\n",
       "</div>"
      ],
      "text/plain": [
       "     Ano    Partido  soma_2_clusters  soma_total  Percentual  Score_GE  \\\n",
       "0   2019     AVANTE                4           6    0.666667      0.58   \n",
       "1   2019  CIDADANIA                7          17    0.411765      0.26   \n",
       "2   2019        DEM                8          18    0.444444      0.31   \n",
       "3   2019        MDB               14          28    0.500000      0.38   \n",
       "4   2019       NOVO                7          12    0.583333      0.48   \n",
       "5   2019      PCDOB               18          38    0.473684      0.34   \n",
       "6   2019        PDT               14          39    0.358974      0.20   \n",
       "7   2019         PL               13          26    0.500000      0.38   \n",
       "8   2019       PODE               10          18    0.555556      0.44   \n",
       "9   2019         PP               11          23    0.478261      0.35   \n",
       "10  2019        PRB               11          19    0.578947      0.47   \n",
       "11  2019       PROS               11          23    0.478261      0.35   \n",
       "12  2019        PSB               37          92    0.402174      0.25   \n",
       "13  2019        PSD               28          53    0.528302      0.41   \n",
       "14  2019       PSDB                9          24    0.375000      0.22   \n",
       "15  2019        PSL               65         121    0.537190      0.42   \n",
       "16  2019       PSOL               14          29    0.482759      0.35   \n",
       "17  2019         PT               97         268    0.361940      0.20   \n",
       "18  2019        PTB                8          16    0.500000      0.38   \n",
       "\n",
       "    Cluster1  VlrCluster1  Cluster2  VlrCluster2  ScoreClusterUnico  \n",
       "0          3            2         9            2           0.333333  \n",
       "1          9            4         3            3           0.235294  \n",
       "2          1            4         8            4           0.222222  \n",
       "3          3            8         7            6           0.285714  \n",
       "4          9            4         4            3           0.333333  \n",
       "5          3            9         7            9           0.236842  \n",
       "6          3            8         1            6           0.205128  \n",
       "7          9            8         7            5           0.307692  \n",
       "8          6            6         9            4           0.333333  \n",
       "9          3            7         7            4           0.304348  \n",
       "10         7            8         9            3           0.421053  \n",
       "11         7            6         9            5           0.260870  \n",
       "12         3           19         9           18           0.206522  \n",
       "13         3           16         7           12           0.301887  \n",
       "14         3            5         7            4           0.208333  \n",
       "15         7           41         9           24           0.338843  \n",
       "16         7            9         9            5           0.310345  \n",
       "17         7           51         6           46           0.190299  \n",
       "18         1            4         3            4           0.250000  "
      ]
     },
     "execution_count": 14,
     "metadata": {},
     "output_type": "execute_result"
    }
   ],
   "source": [
    "import heapq\n",
    "dfc = clusters_parlamentar.groupby(['Partido']).sum()\n",
    "dfc=dfc.reset_index()\n",
    "lst = dfc.values.tolist()\n",
    "partido = []\n",
    "soma_2_k = []\n",
    "soma_total = []\n",
    "score = []\n",
    "anos = []\n",
    "clusteres = []\n",
    "cluster1 = []\n",
    "vlrcluster1 = []\n",
    "cluster2 = []\n",
    "vlrcluster2 = []\n",
    "novo_score = []\n",
    "for i in lst:\n",
    "    # se o partido tiver 5 ou mais discursos\n",
    "    if(sum(i[1:]) >= 5):\n",
    "        # Selecionando os valores dos 2 maiores clusters\n",
    "        valores = heapq.nlargest(2,i[1:])\n",
    "        \n",
    "        # Selecionando o cluster pelos maiores valores\n",
    "        klusters = ''\n",
    "        pos1 = i.index(valores[0])\n",
    "        pos2 = i.index(valores[1])\n",
    "        # Se houver o mesmo valor em mais de um cluster\n",
    "        if(pos1 == pos2):\n",
    "            pos1 = [k for k, item in enumerate(i) if item == valores[0]][0]\n",
    "            pos2 = [k for k, item in enumerate(i) if item == valores[0]][1]\n",
    "        klusters = \"k\" + str(pos1) + \": \" + str(valores[0]) + \" - k\" + str(pos2) + \": \"+ str(valores[1])\n",
    "        cluster1.append(pos1)\n",
    "        vlrcluster1.append(valores[0])\n",
    "        cluster2.append(pos2)\n",
    "        vlrcluster2.append(valores[1])\n",
    "        partido.append(i[0])\n",
    "        soma_2_k.append(sum(valores))\n",
    "        soma_total.append(sum(i[1:]))\n",
    "        score.append(sum(valores)/sum(i[1:]))\n",
    "        anos.append(ano)\n",
    "        clusteres.append(klusters)\n",
    "        \n",
    "        # cálculo do indicador\n",
    "        # (n*(t1+t2)-2*t)/(n*t-2*t)\n",
    "        n = k\n",
    "        t1 = valores[0]\n",
    "        t2 = valores[1]\n",
    "        t = sum(i[1:])\n",
    "        vl_score = (n*(t1+t2)-2*t)/(n*t-2*t)\n",
    "        novo_score.append(round(vl_score,2))\n",
    "df_score_clusters = pd.DataFrame()\n",
    "df_score_clusters['Ano'] = anos\n",
    "df_score_clusters['Partido'] = partido\n",
    "df_score_clusters['soma_2_clusters'] = soma_2_k\n",
    "df_score_clusters['soma_total'] = soma_total\n",
    "df_score_clusters['Percentual'] = score\n",
    "df_score_clusters['Score_GE'] = novo_score\n",
    "#df_score_clusters['Clusteres'] = clusteres\n",
    "df_score_clusters['Cluster1'] = cluster1\n",
    "df_score_clusters['VlrCluster1'] = vlrcluster1\n",
    "df_score_clusters['Cluster2'] = cluster2\n",
    "df_score_clusters['VlrCluster2'] = vlrcluster2\n",
    "df_score_clusters['ScoreClusterUnico'] = df_score_clusters['VlrCluster1']/df_score_clusters['soma_total']\n",
    "df_score_clusters"
   ]
  },
  {
   "cell_type": "code",
   "execution_count": 15,
   "metadata": {},
   "outputs": [
    {
     "data": {
      "text/plain": [
       "[Text(0, 0.5, 'Densidade'),\n",
       " Text(0.5, 0, 'ICPD'),\n",
       " Text(0.5, 1.0, 'Densidade do Índice de Coesão sobre Discursos')]"
      ]
     },
     "execution_count": 15,
     "metadata": {},
     "output_type": "execute_result"
    },
    {
     "data": {
      "image/png": "[encoded data removed]",
      "text/plain": [
       "<Figure size 432x288 with 1 Axes>"
      ]
     },
     "metadata": {
      "needs_background": "light"
     },
     "output_type": "display_data"
    }
   ],
   "source": [
    "import seaborn as sns\n",
    "ax = sns.distplot(df_score_clusters['Score_GE'], bins=10, kde=True, hist=False, color='#8B4513')\n",
    "ax.set(xlabel='ICPD', ylabel='Densidade', title='Densidade do Índice de Coesão sobre Discursos')"
   ]
  },
  {
   "cell_type": "code",
   "execution_count": 16,
   "metadata": {},
   "outputs": [
    {
     "data": {
      "image/png": "[encoded data removed]",
      "text/plain": [
       "<Figure size 720x720 with 1 Axes>"
      ]
     },
     "metadata": {
      "needs_background": "light"
     },
     "output_type": "display_data"
    }
   ],
   "source": [
    "df_score_clusters = df_score_clusters.sort_values(['Score_GE'])\n",
    "fig = plt.figure(figsize=(10,10))\n",
    "plt.barh(df_score_clusters['Partido'], df_score_clusters['Score_GE'])\n",
    "plt.grid()\n",
    "plt.tight_layout()\n",
    "plt.show()"
   ]
  },
  {
   "cell_type": "code",
   "execution_count": 17,
   "metadata": {
    "scrolled": false
   },
   "outputs": [
    {
     "name": "stderr",
     "output_type": "stream",
     "text": [
      "/Users/Polato/anaconda3/lib/python3.7/site-packages/pandas/core/frame.py:3940: SettingWithCopyWarning: \n",
      "A value is trying to be set on a copy of a slice from a DataFrame\n",
      "\n",
      "See the caveats in the documentation: http://pandas.pydata.org/pandas-docs/stable/indexing.html#indexing-view-versus-copy\n",
      "  errors=errors)\n"
     ]
    },
    {
     "data": {
      "text/html": [
       "<div>\n",
       "<style scoped>\n",
       "    .dataframe tbody tr th:only-of-type {\n",
       "        vertical-align: middle;\n",
       "    }\n",
       "\n",
       "    .dataframe tbody tr th {\n",
       "        vertical-align: top;\n",
       "    }\n",
       "\n",
       "    .dataframe thead th {\n",
       "        text-align: right;\n",
       "    }\n",
       "</style>\n",
       "<table border=\"1\" class=\"dataframe\">\n",
       "  <thead>\n",
       "    <tr style=\"text-align: right;\">\n",
       "      <th></th>\n",
       "      <th>Partido</th>\n",
       "      <th>Parlamentar</th>\n",
       "      <th>Cluster1</th>\n",
       "      <th>Cluster2</th>\n",
       "      <th>Total</th>\n",
       "      <th>ICPD</th>\n",
       "    </tr>\n",
       "  </thead>\n",
       "  <tbody>\n",
       "    <tr>\n",
       "      <th>0</th>\n",
       "      <td>PDT</td>\n",
       "      <td>AFONSO MOTTA</td>\n",
       "      <td>0</td>\n",
       "      <td>1</td>\n",
       "      <td>2</td>\n",
       "      <td>0.500000</td>\n",
       "    </tr>\n",
       "    <tr>\n",
       "      <th>1</th>\n",
       "      <td>PDT</td>\n",
       "      <td>CHICO D'ANGELO</td>\n",
       "      <td>0</td>\n",
       "      <td>1</td>\n",
       "      <td>3</td>\n",
       "      <td>0.333333</td>\n",
       "    </tr>\n",
       "    <tr>\n",
       "      <th>2</th>\n",
       "      <td>PDT</td>\n",
       "      <td>FLAVIO NOGUEIRA</td>\n",
       "      <td>0</td>\n",
       "      <td>0</td>\n",
       "      <td>0</td>\n",
       "      <td>NaN</td>\n",
       "    </tr>\n",
       "    <tr>\n",
       "      <th>3</th>\n",
       "      <td>PDT</td>\n",
       "      <td>FÁBIO HENRIQUE</td>\n",
       "      <td>2</td>\n",
       "      <td>1</td>\n",
       "      <td>6</td>\n",
       "      <td>0.500000</td>\n",
       "    </tr>\n",
       "    <tr>\n",
       "      <th>4</th>\n",
       "      <td>PDT</td>\n",
       "      <td>FÉLIX MENDONÇA JÚNIOR</td>\n",
       "      <td>0</td>\n",
       "      <td>0</td>\n",
       "      <td>1</td>\n",
       "      <td>0.000000</td>\n",
       "    </tr>\n",
       "  </tbody>\n",
       "</table>\n",
       "</div>"
      ],
      "text/plain": [
       "  Partido             Parlamentar  Cluster1  Cluster2  Total      ICPD\n",
       "0     PDT            AFONSO MOTTA         0         1      2  0.500000\n",
       "1     PDT          CHICO D'ANGELO         0         1      3  0.333333\n",
       "2     PDT         FLAVIO NOGUEIRA         0         0      0       NaN\n",
       "3     PDT          FÁBIO HENRIQUE         2         1      6  0.500000\n",
       "4     PDT   FÉLIX MENDONÇA JÚNIOR         0         0      1  0.000000"
      ]
     },
     "execution_count": 17,
     "metadata": {},
     "output_type": "execute_result"
    }
   ],
   "source": [
    "partido = []\n",
    "parlamentar = []\n",
    "cluster1 = []\n",
    "cluster2 = []\n",
    "total_d = []\n",
    "for x,y,z in zip(df_score_clusters['Partido'],df_score_clusters['Cluster1'],df_score_clusters['Cluster2']):\n",
    "    df_k_parlamentar = clusters_parlamentar.query(\"Partido=='\"+x+\"'\")\n",
    "    for a, b, c in zip(df_k_parlamentar['NomeOrador'], df_k_parlamentar[(y -1)], df_k_parlamentar[(z -1)]):\n",
    "        #print(x, a,\"|\",y,\"->\",b,\"|\",z,\"->\",c)\n",
    "        parlamentar.append(a)\n",
    "        partido.append(x)\n",
    "        cluster1.append(b)\n",
    "        cluster2.append(c)\n",
    "        ss = clusters_parlamentar.query('NomeOrador==\"'+a+'\"')\n",
    "        ss.drop(['Partido', 'NomeOrador'], axis=1, inplace=True)\n",
    "        total_d.append(ss.values.sum())\n",
    "df_deputado_k = pd.DataFrame()\n",
    "df_deputado_k['Partido'] = partido\n",
    "df_deputado_k['Parlamentar'] = parlamentar\n",
    "df_deputado_k['Cluster1'] = cluster1\n",
    "df_deputado_k['Cluster2'] = cluster2\n",
    "df_deputado_k['Total'] = total_d\n",
    "\n",
    "df_deputado_k['ICPD'] = (df_deputado_k['Cluster1'] + df_deputado_k['Cluster2']) / df_deputado_k['Total']\n",
    "df_deputado_k.head()"
   ]
  },
  {
   "cell_type": "code",
   "execution_count": null,
   "metadata": {},
   "outputs": [],
   "source": []
  },
  {
   "cell_type": "code",
   "execution_count": null,
   "metadata": {},
   "outputs": [],
   "source": []
  },
  {
   "cell_type": "code",
   "execution_count": null,
   "metadata": {},
   "outputs": [],
   "source": []
  },
  {
   "cell_type": "code",
   "execution_count": 18,
   "metadata": {},
   "outputs": [],
   "source": [
    "df_deputado_k.to_csv('score/score_parlamentar_2019.csv', sep=';', index=False)"
   ]
  },
  {
   "cell_type": "code",
   "execution_count": 19,
   "metadata": {},
   "outputs": [],
   "source": [
    "df_score_clusters.to_csv('score/score_ge_2019.csv', sep=';', index=False)"
   ]
  },
  {
   "cell_type": "code",
   "execution_count": 20,
   "metadata": {
    "scrolled": true
   },
   "outputs": [
    {
     "name": "stdout",
     "output_type": "stream",
     "text": [
      "AVANTE\n"
     ]
    },
    {
     "data": {
      "image/png": "[encoded data removed]",
      "text/plain": [
       "<Figure size 432x216 with 1 Axes>"
      ]
     },
     "metadata": {
      "needs_background": "light"
     },
     "output_type": "display_data"
    },
    {
     "name": "stdout",
     "output_type": "stream",
     "text": [
      "CIDADANIA\n"
     ]
    },
    {
     "data": {
      "image/png": "[encoded data removed]",
      "text/plain": [
       "<Figure size 432x216 with 1 Axes>"
      ]
     },
     "metadata": {
      "needs_background": "light"
     },
     "output_type": "display_data"
    },
    {
     "name": "stdout",
     "output_type": "stream",
     "text": [
      "DEM\n"
     ]
    },
    {
     "data": {
      "image/png": "[encoded data removed]",
      "text/plain": [
       "<Figure size 432x216 with 1 Axes>"
      ]
     },
     "metadata": {
      "needs_background": "light"
     },
     "output_type": "display_data"
    },
    {
     "name": "stdout",
     "output_type": "stream",
     "text": [
      "MDB\n"
     ]
    },
    {
     "data": {
      "image/png": "[encoded data removed]",
      "text/plain": [
       "<Figure size 432x216 with 1 Axes>"
      ]
     },
     "metadata": {
      "needs_background": "light"
     },
     "output_type": "display_data"
    },
    {
     "name": "stdout",
     "output_type": "stream",
     "text": [
      "NOVO\n"
     ]
    },
    {
     "data": {
      "image/png": "[encoded data removed]",
      "text/plain": [
       "<Figure size 432x216 with 1 Axes>"
      ]
     },
     "metadata": {
      "needs_background": "light"
     },
     "output_type": "display_data"
    },
    {
     "name": "stdout",
     "output_type": "stream",
     "text": [
      "PCDOB\n"
     ]
    },
    {
     "data": {
      "image/png": "[encoded data removed]",
      "text/plain": [
       "<Figure size 432x216 with 1 Axes>"
      ]
     },
     "metadata": {
      "needs_background": "light"
     },
     "output_type": "display_data"
    },
    {
     "name": "stdout",
     "output_type": "stream",
     "text": [
      "PDT\n"
     ]
    },
    {
     "data": {
      "image/png": "[encoded data removed]",
      "text/plain": [
       "<Figure size 432x216 with 1 Axes>"
      ]
     },
     "metadata": {
      "needs_background": "light"
     },
     "output_type": "display_data"
    },
    {
     "name": "stdout",
     "output_type": "stream",
     "text": [
      "PL\n"
     ]
    },
    {
     "data": {
      "image/png": "[encoded data removed]",
      "text/plain": [
       "<Figure size 432x216 with 1 Axes>"
      ]
     },
     "metadata": {
      "needs_background": "light"
     },
     "output_type": "display_data"
    },
    {
     "name": "stdout",
     "output_type": "stream",
     "text": [
      "PODE\n"
     ]
    },
    {
     "data": {
      "image/png": "[encoded data removed]",
      "text/plain": [
       "<Figure size 432x216 with 1 Axes>"
      ]
     },
     "metadata": {
      "needs_background": "light"
     },
     "output_type": "display_data"
    },
    {
     "name": "stdout",
     "output_type": "stream",
     "text": [
      "PP\n"
     ]
    },
    {
     "data": {
      "image/png": "[encoded data removed]",
      "text/plain": [
       "<Figure size 432x216 with 1 Axes>"
      ]
     },
     "metadata": {
      "needs_background": "light"
     },
     "output_type": "display_data"
    },
    {
     "name": "stdout",
     "output_type": "stream",
     "text": [
      "PRB\n"
     ]
    },
    {
     "data": {
      "image/png": "[encoded data removed]",
      "text/plain": [
       "<Figure size 432x216 with 1 Axes>"
      ]
     },
     "metadata": {
      "needs_background": "light"
     },
     "output_type": "display_data"
    },
    {
     "name": "stdout",
     "output_type": "stream",
     "text": [
      "PROS\n"
     ]
    },
    {
     "data": {
      "image/png": "[encoded data removed]",
      "text/plain": [
       "<Figure size 432x216 with 1 Axes>"
      ]
     },
     "metadata": {
      "needs_background": "light"
     },
     "output_type": "display_data"
    },
    {
     "name": "stdout",
     "output_type": "stream",
     "text": [
      "PSB\n"
     ]
    },
    {
     "data": {
      "image/png": "[encoded data removed]",
      "text/plain": [
       "<Figure size 432x216 with 1 Axes>"
      ]
     },
     "metadata": {
      "needs_background": "light"
     },
     "output_type": "display_data"
    },
    {
     "name": "stdout",
     "output_type": "stream",
     "text": [
      "PSD\n"
     ]
    },
    {
     "data": {
      "image/png": "[encoded data removed]",
      "text/plain": [
       "<Figure size 432x216 with 1 Axes>"
      ]
     },
     "metadata": {
      "needs_background": "light"
     },
     "output_type": "display_data"
    },
    {
     "name": "stdout",
     "output_type": "stream",
     "text": [
      "PSDB\n"
     ]
    },
    {
     "data": {
      "image/png": "[encoded data removed]",
      "text/plain": [
       "<Figure size 432x216 with 1 Axes>"
      ]
     },
     "metadata": {
      "needs_background": "light"
     },
     "output_type": "display_data"
    },
    {
     "name": "stdout",
     "output_type": "stream",
     "text": [
      "PSL\n"
     ]
    },
    {
     "data": {
      "image/png": "[encoded data removed]",
      "text/plain": [
       "<Figure size 432x216 with 1 Axes>"
      ]
     },
     "metadata": {
      "needs_background": "light"
     },
     "output_type": "display_data"
    },
    {
     "name": "stdout",
     "output_type": "stream",
     "text": [
      "PSOL\n"
     ]
    },
    {
     "data": {
      "image/png": "[encoded data removed]",
      "text/plain": [
       "<Figure size 432x216 with 1 Axes>"
      ]
     },
     "metadata": {
      "needs_background": "light"
     },
     "output_type": "display_data"
    },
    {
     "name": "stdout",
     "output_type": "stream",
     "text": [
      "PT\n"
     ]
    },
    {
     "data": {
      "image/png": "[encoded data removed]",
      "text/plain": [
       "<Figure size 432x216 with 1 Axes>"
      ]
     },
     "metadata": {
      "needs_background": "light"
     },
     "output_type": "display_data"
    },
    {
     "name": "stdout",
     "output_type": "stream",
     "text": [
      "PTB\n"
     ]
    },
    {
     "data": {
      "image/png": "[encoded data removed]",
      "text/plain": [
       "<Figure size 432x216 with 1 Axes>"
      ]
     },
     "metadata": {
      "needs_background": "light"
     },
     "output_type": "display_data"
    }
   ],
   "source": [
    "for i in sorted(df_score_clusters.Partido.tolist()):\n",
    "    dfk = df_deputado_k.query('Partido==\"'+i+'\"').sort_values(['ICPD'], ascending=False)[:5]\n",
    "    dfk = dfk.sort_values(['ICPD'], ascending=True)\n",
    "    print(i)\n",
    "    width = 0.7\n",
    "    fig = plt.figure(figsize=(6,3))\n",
    "    plt.barh(dfk['Parlamentar'], dfk['ICPD'], width, color='#F4A460')\n",
    "    plt.grid()\n",
    "    plt.xlim(0, 1)\n",
    "    plt.tight_layout()\n",
    "    plt.title(i)\n",
    "    plt.xlabel('Percentual de discursos')\n",
    "    plt.show()"
   ]
  },
  {
   "cell_type": "code",
   "execution_count": 42,
   "metadata": {},
   "outputs": [
    {
     "data": {
      "text/html": [
       "<div>\n",
       "<style scoped>\n",
       "    .dataframe tbody tr th:only-of-type {\n",
       "        vertical-align: middle;\n",
       "    }\n",
       "\n",
       "    .dataframe tbody tr th {\n",
       "        vertical-align: top;\n",
       "    }\n",
       "\n",
       "    .dataframe thead th {\n",
       "        text-align: right;\n",
       "    }\n",
       "</style>\n",
       "<table border=\"1\" class=\"dataframe\">\n",
       "  <thead>\n",
       "    <tr style=\"text-align: right;\">\n",
       "      <th></th>\n",
       "      <th>Partido</th>\n",
       "      <th>Parlamentar</th>\n",
       "      <th>Cluster1</th>\n",
       "      <th>Cluster2</th>\n",
       "      <th>Total</th>\n",
       "      <th>ICPD</th>\n",
       "    </tr>\n",
       "  </thead>\n",
       "  <tbody>\n",
       "    <tr>\n",
       "      <th>197</th>\n",
       "      <td>PSL</td>\n",
       "      <td>ABOU ANNI</td>\n",
       "      <td>0</td>\n",
       "      <td>2</td>\n",
       "      <td>2</td>\n",
       "      <td>1.000000</td>\n",
       "    </tr>\n",
       "    <tr>\n",
       "      <th>212</th>\n",
       "      <td>PSL</td>\n",
       "      <td>DANIEL SILVEIRA</td>\n",
       "      <td>2</td>\n",
       "      <td>1</td>\n",
       "      <td>3</td>\n",
       "      <td>1.000000</td>\n",
       "    </tr>\n",
       "    <tr>\n",
       "      <th>235</th>\n",
       "      <td>PSL</td>\n",
       "      <td>PROFESSOR JOZIEL</td>\n",
       "      <td>2</td>\n",
       "      <td>0</td>\n",
       "      <td>2</td>\n",
       "      <td>1.000000</td>\n",
       "    </tr>\n",
       "    <tr>\n",
       "      <th>233</th>\n",
       "      <td>PSL</td>\n",
       "      <td>MARCELO BRUM</td>\n",
       "      <td>0</td>\n",
       "      <td>1</td>\n",
       "      <td>1</td>\n",
       "      <td>1.000000</td>\n",
       "    </tr>\n",
       "    <tr>\n",
       "      <th>228</th>\n",
       "      <td>PSL</td>\n",
       "      <td>JOICE HASSELMANN</td>\n",
       "      <td>1</td>\n",
       "      <td>0</td>\n",
       "      <td>1</td>\n",
       "      <td>1.000000</td>\n",
       "    </tr>\n",
       "    <tr>\n",
       "      <th>226</th>\n",
       "      <td>PSL</td>\n",
       "      <td>GURGEL</td>\n",
       "      <td>0</td>\n",
       "      <td>1</td>\n",
       "      <td>1</td>\n",
       "      <td>1.000000</td>\n",
       "    </tr>\n",
       "    <tr>\n",
       "      <th>223</th>\n",
       "      <td>PSL</td>\n",
       "      <td>GENERAL GIRÃO</td>\n",
       "      <td>1</td>\n",
       "      <td>1</td>\n",
       "      <td>2</td>\n",
       "      <td>1.000000</td>\n",
       "    </tr>\n",
       "    <tr>\n",
       "      <th>222</th>\n",
       "      <td>PSL</td>\n",
       "      <td>FILIPE BARROS</td>\n",
       "      <td>2</td>\n",
       "      <td>1</td>\n",
       "      <td>3</td>\n",
       "      <td>1.000000</td>\n",
       "    </tr>\n",
       "    <tr>\n",
       "      <th>219</th>\n",
       "      <td>PSL</td>\n",
       "      <td>ENÉIAS REIS</td>\n",
       "      <td>3</td>\n",
       "      <td>0</td>\n",
       "      <td>3</td>\n",
       "      <td>1.000000</td>\n",
       "    </tr>\n",
       "    <tr>\n",
       "      <th>214</th>\n",
       "      <td>PSL</td>\n",
       "      <td>DELEGADO MARCELO FREITAS</td>\n",
       "      <td>1</td>\n",
       "      <td>0</td>\n",
       "      <td>1</td>\n",
       "      <td>1.000000</td>\n",
       "    </tr>\n",
       "    <tr>\n",
       "      <th>216</th>\n",
       "      <td>PSL</td>\n",
       "      <td>DELEGADO WALDIR</td>\n",
       "      <td>0</td>\n",
       "      <td>1</td>\n",
       "      <td>1</td>\n",
       "      <td>1.000000</td>\n",
       "    </tr>\n",
       "    <tr>\n",
       "      <th>205</th>\n",
       "      <td>PSL</td>\n",
       "      <td>CAROLINE DE TONI</td>\n",
       "      <td>0</td>\n",
       "      <td>1</td>\n",
       "      <td>1</td>\n",
       "      <td>1.000000</td>\n",
       "    </tr>\n",
       "    <tr>\n",
       "      <th>232</th>\n",
       "      <td>PSL</td>\n",
       "      <td>LUIZ LIMA</td>\n",
       "      <td>3</td>\n",
       "      <td>0</td>\n",
       "      <td>5</td>\n",
       "      <td>0.600000</td>\n",
       "    </tr>\n",
       "    <tr>\n",
       "      <th>225</th>\n",
       "      <td>PSL</td>\n",
       "      <td>GUIGA PEIXOTO</td>\n",
       "      <td>0</td>\n",
       "      <td>3</td>\n",
       "      <td>5</td>\n",
       "      <td>0.600000</td>\n",
       "    </tr>\n",
       "    <tr>\n",
       "      <th>198</th>\n",
       "      <td>PSL</td>\n",
       "      <td>ALEXANDRE FROTA</td>\n",
       "      <td>9</td>\n",
       "      <td>2</td>\n",
       "      <td>19</td>\n",
       "      <td>0.578947</td>\n",
       "    </tr>\n",
       "    <tr>\n",
       "      <th>202</th>\n",
       "      <td>PSL</td>\n",
       "      <td>BIBO NUNES</td>\n",
       "      <td>7</td>\n",
       "      <td>1</td>\n",
       "      <td>14</td>\n",
       "      <td>0.571429</td>\n",
       "    </tr>\n",
       "    <tr>\n",
       "      <th>234</th>\n",
       "      <td>PSL</td>\n",
       "      <td>NELSON BARBUDO</td>\n",
       "      <td>2</td>\n",
       "      <td>0</td>\n",
       "      <td>4</td>\n",
       "      <td>0.500000</td>\n",
       "    </tr>\n",
       "    <tr>\n",
       "      <th>229</th>\n",
       "      <td>PSL</td>\n",
       "      <td>JULIAN LEMOS</td>\n",
       "      <td>0</td>\n",
       "      <td>2</td>\n",
       "      <td>4</td>\n",
       "      <td>0.500000</td>\n",
       "    </tr>\n",
       "    <tr>\n",
       "      <th>227</th>\n",
       "      <td>PSL</td>\n",
       "      <td>HEITOR FREIRE</td>\n",
       "      <td>0</td>\n",
       "      <td>1</td>\n",
       "      <td>2</td>\n",
       "      <td>0.500000</td>\n",
       "    </tr>\n",
       "    <tr>\n",
       "      <th>206</th>\n",
       "      <td>PSL</td>\n",
       "      <td>CHARLLES EVANGELISTA</td>\n",
       "      <td>0</td>\n",
       "      <td>1</td>\n",
       "      <td>2</td>\n",
       "      <td>0.500000</td>\n",
       "    </tr>\n",
       "    <tr>\n",
       "      <th>207</th>\n",
       "      <td>PSL</td>\n",
       "      <td>CHRIS TONIETTO</td>\n",
       "      <td>1</td>\n",
       "      <td>1</td>\n",
       "      <td>4</td>\n",
       "      <td>0.500000</td>\n",
       "    </tr>\n",
       "    <tr>\n",
       "      <th>215</th>\n",
       "      <td>PSL</td>\n",
       "      <td>DELEGADO PABLO</td>\n",
       "      <td>1</td>\n",
       "      <td>1</td>\n",
       "      <td>4</td>\n",
       "      <td>0.500000</td>\n",
       "    </tr>\n",
       "    <tr>\n",
       "      <th>208</th>\n",
       "      <td>PSL</td>\n",
       "      <td>CORONEL ARMANDO</td>\n",
       "      <td>1</td>\n",
       "      <td>0</td>\n",
       "      <td>2</td>\n",
       "      <td>0.500000</td>\n",
       "    </tr>\n",
       "    <tr>\n",
       "      <th>213</th>\n",
       "      <td>PSL</td>\n",
       "      <td>DELEGADO ANTÔNIO FURTADO</td>\n",
       "      <td>0</td>\n",
       "      <td>1</td>\n",
       "      <td>2</td>\n",
       "      <td>0.500000</td>\n",
       "    </tr>\n",
       "    <tr>\n",
       "      <th>218</th>\n",
       "      <td>PSL</td>\n",
       "      <td>DRA. SORAYA MANATO</td>\n",
       "      <td>2</td>\n",
       "      <td>2</td>\n",
       "      <td>9</td>\n",
       "      <td>0.444444</td>\n",
       "    </tr>\n",
       "    <tr>\n",
       "      <th>204</th>\n",
       "      <td>PSL</td>\n",
       "      <td>CARLOS JORDY</td>\n",
       "      <td>1</td>\n",
       "      <td>0</td>\n",
       "      <td>3</td>\n",
       "      <td>0.333333</td>\n",
       "    </tr>\n",
       "    <tr>\n",
       "      <th>211</th>\n",
       "      <td>PSL</td>\n",
       "      <td>DANIEL FREITAS</td>\n",
       "      <td>1</td>\n",
       "      <td>0</td>\n",
       "      <td>4</td>\n",
       "      <td>0.250000</td>\n",
       "    </tr>\n",
       "    <tr>\n",
       "      <th>210</th>\n",
       "      <td>PSL</td>\n",
       "      <td>CORONEL TADEU</td>\n",
       "      <td>1</td>\n",
       "      <td>0</td>\n",
       "      <td>5</td>\n",
       "      <td>0.200000</td>\n",
       "    </tr>\n",
       "    <tr>\n",
       "      <th>201</th>\n",
       "      <td>PSL</td>\n",
       "      <td>BIA KICIS</td>\n",
       "      <td>0</td>\n",
       "      <td>0</td>\n",
       "      <td>1</td>\n",
       "      <td>0.000000</td>\n",
       "    </tr>\n",
       "    <tr>\n",
       "      <th>199</th>\n",
       "      <td>PSL</td>\n",
       "      <td>ALINE SLEUTJES</td>\n",
       "      <td>0</td>\n",
       "      <td>0</td>\n",
       "      <td>1</td>\n",
       "      <td>0.000000</td>\n",
       "    </tr>\n",
       "    <tr>\n",
       "      <th>224</th>\n",
       "      <td>PSL</td>\n",
       "      <td>GENERAL PETERNELLI</td>\n",
       "      <td>0</td>\n",
       "      <td>0</td>\n",
       "      <td>2</td>\n",
       "      <td>0.000000</td>\n",
       "    </tr>\n",
       "    <tr>\n",
       "      <th>231</th>\n",
       "      <td>PSL</td>\n",
       "      <td>LOURIVAL GOMES</td>\n",
       "      <td>0</td>\n",
       "      <td>0</td>\n",
       "      <td>1</td>\n",
       "      <td>0.000000</td>\n",
       "    </tr>\n",
       "    <tr>\n",
       "      <th>209</th>\n",
       "      <td>PSL</td>\n",
       "      <td>CORONEL CHRISÓSTOMO</td>\n",
       "      <td>0</td>\n",
       "      <td>0</td>\n",
       "      <td>6</td>\n",
       "      <td>0.000000</td>\n",
       "    </tr>\n",
       "    <tr>\n",
       "      <th>236</th>\n",
       "      <td>PSL</td>\n",
       "      <td>RICARDO PERICAR</td>\n",
       "      <td>0</td>\n",
       "      <td>0</td>\n",
       "      <td>1</td>\n",
       "      <td>0.000000</td>\n",
       "    </tr>\n",
       "    <tr>\n",
       "      <th>200</th>\n",
       "      <td>PSL</td>\n",
       "      <td>ALÊ SILVA</td>\n",
       "      <td>0</td>\n",
       "      <td>0</td>\n",
       "      <td>0</td>\n",
       "      <td>NaN</td>\n",
       "    </tr>\n",
       "    <tr>\n",
       "      <th>203</th>\n",
       "      <td>PSL</td>\n",
       "      <td>CABO JUNIO AMARAL</td>\n",
       "      <td>0</td>\n",
       "      <td>0</td>\n",
       "      <td>0</td>\n",
       "      <td>NaN</td>\n",
       "    </tr>\n",
       "    <tr>\n",
       "      <th>217</th>\n",
       "      <td>PSL</td>\n",
       "      <td>DR. LUIZ OVANDO</td>\n",
       "      <td>0</td>\n",
       "      <td>0</td>\n",
       "      <td>0</td>\n",
       "      <td>NaN</td>\n",
       "    </tr>\n",
       "    <tr>\n",
       "      <th>220</th>\n",
       "      <td>PSL</td>\n",
       "      <td>FABIO SCHIOCHET</td>\n",
       "      <td>0</td>\n",
       "      <td>0</td>\n",
       "      <td>0</td>\n",
       "      <td>NaN</td>\n",
       "    </tr>\n",
       "    <tr>\n",
       "      <th>221</th>\n",
       "      <td>PSL</td>\n",
       "      <td>FELÍCIO LATERÇA</td>\n",
       "      <td>0</td>\n",
       "      <td>0</td>\n",
       "      <td>0</td>\n",
       "      <td>NaN</td>\n",
       "    </tr>\n",
       "    <tr>\n",
       "      <th>230</th>\n",
       "      <td>PSL</td>\n",
       "      <td>JÚNIOR BOZZELLA</td>\n",
       "      <td>0</td>\n",
       "      <td>0</td>\n",
       "      <td>0</td>\n",
       "      <td>NaN</td>\n",
       "    </tr>\n",
       "    <tr>\n",
       "      <th>237</th>\n",
       "      <td>PSL</td>\n",
       "      <td>SANDERSON</td>\n",
       "      <td>0</td>\n",
       "      <td>0</td>\n",
       "      <td>0</td>\n",
       "      <td>NaN</td>\n",
       "    </tr>\n",
       "  </tbody>\n",
       "</table>\n",
       "</div>"
      ],
      "text/plain": [
       "    Partido                Parlamentar  Cluster1  Cluster2  Total      ICPD\n",
       "197     PSL                  ABOU ANNI         0         2      2  1.000000\n",
       "212     PSL            DANIEL SILVEIRA         2         1      3  1.000000\n",
       "235     PSL           PROFESSOR JOZIEL         2         0      2  1.000000\n",
       "233     PSL               MARCELO BRUM         0         1      1  1.000000\n",
       "228     PSL           JOICE HASSELMANN         1         0      1  1.000000\n",
       "226     PSL                     GURGEL         0         1      1  1.000000\n",
       "223     PSL              GENERAL GIRÃO         1         1      2  1.000000\n",
       "222     PSL              FILIPE BARROS         2         1      3  1.000000\n",
       "219     PSL                ENÉIAS REIS         3         0      3  1.000000\n",
       "214     PSL   DELEGADO MARCELO FREITAS         1         0      1  1.000000\n",
       "216     PSL            DELEGADO WALDIR         0         1      1  1.000000\n",
       "205     PSL           CAROLINE DE TONI         0         1      1  1.000000\n",
       "232     PSL                  LUIZ LIMA         3         0      5  0.600000\n",
       "225     PSL              GUIGA PEIXOTO         0         3      5  0.600000\n",
       "198     PSL            ALEXANDRE FROTA         9         2     19  0.578947\n",
       "202     PSL                 BIBO NUNES         7         1     14  0.571429\n",
       "234     PSL             NELSON BARBUDO         2         0      4  0.500000\n",
       "229     PSL               JULIAN LEMOS         0         2      4  0.500000\n",
       "227     PSL              HEITOR FREIRE         0         1      2  0.500000\n",
       "206     PSL       CHARLLES EVANGELISTA         0         1      2  0.500000\n",
       "207     PSL             CHRIS TONIETTO         1         1      4  0.500000\n",
       "215     PSL             DELEGADO PABLO         1         1      4  0.500000\n",
       "208     PSL            CORONEL ARMANDO         1         0      2  0.500000\n",
       "213     PSL   DELEGADO ANTÔNIO FURTADO         0         1      2  0.500000\n",
       "218     PSL         DRA. SORAYA MANATO         2         2      9  0.444444\n",
       "204     PSL               CARLOS JORDY         1         0      3  0.333333\n",
       "211     PSL             DANIEL FREITAS         1         0      4  0.250000\n",
       "210     PSL              CORONEL TADEU         1         0      5  0.200000\n",
       "201     PSL                  BIA KICIS         0         0      1  0.000000\n",
       "199     PSL             ALINE SLEUTJES         0         0      1  0.000000\n",
       "224     PSL         GENERAL PETERNELLI         0         0      2  0.000000\n",
       "231     PSL             LOURIVAL GOMES         0         0      1  0.000000\n",
       "209     PSL        CORONEL CHRISÓSTOMO         0         0      6  0.000000\n",
       "236     PSL            RICARDO PERICAR         0         0      1  0.000000\n",
       "200     PSL                  ALÊ SILVA         0         0      0       NaN\n",
       "203     PSL          CABO JUNIO AMARAL         0         0      0       NaN\n",
       "217     PSL            DR. LUIZ OVANDO         0         0      0       NaN\n",
       "220     PSL            FABIO SCHIOCHET         0         0      0       NaN\n",
       "221     PSL            FELÍCIO LATERÇA         0         0      0       NaN\n",
       "230     PSL            JÚNIOR BOZZELLA         0         0      0       NaN\n",
       "237     PSL                  SANDERSON         0         0      0       NaN"
      ]
     },
     "execution_count": 42,
     "metadata": {},
     "output_type": "execute_result"
    }
   ],
   "source": [
    "p = \"PSL\"\n",
    "df_deputado_k.query(\"Partido in ['\"+p+\"']\").sort_values(['ICPD'], ascending = False)"
   ]
  }
 ],
 "metadata": {
  "kernelspec": {
   "display_name": "Python 3",
   "language": "python",
   "name": "python3"
  },
  "language_info": {
   "codemirror_mode": {
    "name": "ipython",
    "version": 3
   },
   "file_extension": ".py",
   "mimetype": "text/x-python",
   "name": "python",
   "nbconvert_exporter": "python",
   "pygments_lexer": "ipython3",
   "version": "3.7.3"
  }
 },
 "nbformat": 4,
 "nbformat_minor": 2
}
