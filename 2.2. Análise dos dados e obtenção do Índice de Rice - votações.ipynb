{
 "cells": [
  {
   "cell_type": "markdown",
   "metadata": {},
   "source": [
    "## Análise da votação de preposições"
   ]
  },
  {
   "cell_type": "code",
   "execution_count": 1,
   "metadata": {},
   "outputs": [],
   "source": [
    "import pandas as pd\n",
    "import pandasql as ps\n",
    "import numpy as np"
   ]
  },
  {
   "cell_type": "code",
   "execution_count": 2,
   "metadata": {},
   "outputs": [
    {
     "data": {
      "text/html": [
       "<div>\n",
       "<style scoped>\n",
       "    .dataframe tbody tr th:only-of-type {\n",
       "        vertical-align: middle;\n",
       "    }\n",
       "\n",
       "    .dataframe tbody tr th {\n",
       "        vertical-align: top;\n",
       "    }\n",
       "\n",
       "    .dataframe thead th {\n",
       "        text-align: right;\n",
       "    }\n",
       "</style>\n",
       "<table border=\"1\" class=\"dataframe\">\n",
       "  <thead>\n",
       "    <tr style=\"text-align: right;\">\n",
       "      <th></th>\n",
       "      <th>CodSessao</th>\n",
       "      <th>Data</th>\n",
       "      <th>IdParlamentar</th>\n",
       "      <th>ObjVotacao</th>\n",
       "      <th>Parlamentar</th>\n",
       "      <th>Partido</th>\n",
       "      <th>Proposicao</th>\n",
       "      <th>Uf</th>\n",
       "      <th>Voto</th>\n",
       "      <th>Ano</th>\n",
       "    </tr>\n",
       "  </thead>\n",
       "  <tbody>\n",
       "    <tr>\n",
       "      <th>0</th>\n",
       "      <td>16828</td>\n",
       "      <td>5/6/2019</td>\n",
       "      <td>141417</td>\n",
       "      <td>EMENDA AGLUTINATIVA Nº 1</td>\n",
       "      <td>Edio Lopes</td>\n",
       "      <td>PL</td>\n",
       "      <td>PEC 70 2011</td>\n",
       "      <td>RR</td>\n",
       "      <td>Sim</td>\n",
       "      <td>2019</td>\n",
       "    </tr>\n",
       "    <tr>\n",
       "      <th>1</th>\n",
       "      <td>16828</td>\n",
       "      <td>5/6/2019</td>\n",
       "      <td>204465</td>\n",
       "      <td>EMENDA AGLUTINATIVA Nº 1</td>\n",
       "      <td>Haroldo Cathedral</td>\n",
       "      <td>PSD</td>\n",
       "      <td>PEC 70 2011</td>\n",
       "      <td>RR</td>\n",
       "      <td>Sim</td>\n",
       "      <td>2019</td>\n",
       "    </tr>\n",
       "    <tr>\n",
       "      <th>2</th>\n",
       "      <td>16828</td>\n",
       "      <td>5/6/2019</td>\n",
       "      <td>178959</td>\n",
       "      <td>EMENDA AGLUTINATIVA Nº 1</td>\n",
       "      <td>Hiran Gonçalves</td>\n",
       "      <td>PP</td>\n",
       "      <td>PEC 70 2011</td>\n",
       "      <td>RR</td>\n",
       "      <td>Sim</td>\n",
       "      <td>2019</td>\n",
       "    </tr>\n",
       "    <tr>\n",
       "      <th>3</th>\n",
       "      <td>16828</td>\n",
       "      <td>5/6/2019</td>\n",
       "      <td>160531</td>\n",
       "      <td>EMENDA AGLUTINATIVA Nº 1</td>\n",
       "      <td>Jhonatan de Jesus</td>\n",
       "      <td>PRB</td>\n",
       "      <td>PEC 70 2011</td>\n",
       "      <td>RR</td>\n",
       "      <td>-</td>\n",
       "      <td>2019</td>\n",
       "    </tr>\n",
       "    <tr>\n",
       "      <th>4</th>\n",
       "      <td>16828</td>\n",
       "      <td>5/6/2019</td>\n",
       "      <td>204468</td>\n",
       "      <td>EMENDA AGLUTINATIVA Nº 1</td>\n",
       "      <td>Joenia Wapichana</td>\n",
       "      <td>REDE</td>\n",
       "      <td>PEC 70 2011</td>\n",
       "      <td>RR</td>\n",
       "      <td>Sim</td>\n",
       "      <td>2019</td>\n",
       "    </tr>\n",
       "  </tbody>\n",
       "</table>\n",
       "</div>"
      ],
      "text/plain": [
       "   CodSessao      Data  IdParlamentar                ObjVotacao  \\\n",
       "0      16828  5/6/2019         141417  EMENDA AGLUTINATIVA Nº 1   \n",
       "1      16828  5/6/2019         204465  EMENDA AGLUTINATIVA Nº 1   \n",
       "2      16828  5/6/2019         178959  EMENDA AGLUTINATIVA Nº 1   \n",
       "3      16828  5/6/2019         160531  EMENDA AGLUTINATIVA Nº 1   \n",
       "4      16828  5/6/2019         204468  EMENDA AGLUTINATIVA Nº 1   \n",
       "\n",
       "         Parlamentar Partido   Proposicao  Uf Voto   Ano  \n",
       "0         Edio Lopes      PL  PEC 70 2011  RR  Sim  2019  \n",
       "1  Haroldo Cathedral     PSD  PEC 70 2011  RR  Sim  2019  \n",
       "2    Hiran Gonçalves      PP  PEC 70 2011  RR  Sim  2019  \n",
       "3  Jhonatan de Jesus     PRB  PEC 70 2011  RR    -  2019  \n",
       "4   Joenia Wapichana    REDE  PEC 70 2011  RR  Sim  2019  "
      ]
     },
     "execution_count": 2,
     "metadata": {},
     "output_type": "execute_result"
    }
   ],
   "source": [
    "ano = '2019'\n",
    "dfVotosParlamentares = pd.read_csv('dados/votos_2019.csv', sep=\";\", encoding=\"utf-8\")\n",
    "dfVotosParlamentares.head()"
   ]
  },
  {
   "cell_type": "code",
   "execution_count": 3,
   "metadata": {
    "scrolled": true
   },
   "outputs": [],
   "source": [
    "from pandasql import sqldf\n",
    "\n",
    "def getQuery(q):\n",
    "    pysqldf = lambda q: sqldf(q, globals())\n",
    "    return pysqldf(q)\n"
   ]
  },
  {
   "cell_type": "markdown",
   "metadata": {},
   "source": [
    "### Pré Processamento"
   ]
  },
  {
   "cell_type": "markdown",
   "metadata": {},
   "source": [
    "Diante da crise política de 2014, vários partidos mudaram de nome, símbolo e ideologia, tanto para atrair eleitores para as eleições de 2018, como também para se esquivar dos casos de corrupção envolvendo políticos desses partidos. Os nomes foram alterados, em muitos casos, para slogans, em vez de siglas. Também caiu a palavra \"partido\" em alguns casos de renomeação."
   ]
  },
  {
   "cell_type": "code",
   "execution_count": 4,
   "metadata": {},
   "outputs": [],
   "source": [
    "# Ajustando siglas de partidos\n",
    "dfVotosParlamentares['Partido'] = dfVotosParlamentares['Partido'].replace(['PTN', 'PODEMOS', 'Podemos'], 'PODE')\n",
    "dfVotosParlamentares['Partido'] = dfVotosParlamentares['Partido'].replace(['PTDOB', 'PTdoB', 'Avante'], 'AVANTE')\n",
    "dfVotosParlamentares['Partido'] = dfVotosParlamentares['Partido'].replace(['PEN', 'PATRIOTA', 'Patriota'], 'PATRI')\n",
    "dfVotosParlamentares['Partido'] = dfVotosParlamentares['Partido'].replace(['PMDB'], 'MDB')\n",
    "dfVotosParlamentares['Partido'] = dfVotosParlamentares['Partido'].replace(['PFL'], 'DEM')\n",
    "dfVotosParlamentares['Partido'] = dfVotosParlamentares['Partido'].replace(['PSDC'], 'DC')\n",
    "dfVotosParlamentares['Partido'] = dfVotosParlamentares['Partido'].replace(['PR'], 'PL')\n",
    "dfVotosParlamentares['Partido'] = dfVotosParlamentares['Partido'].replace(['PCdoB'], 'PCDOB')\n",
    "dfVotosParlamentares['Partido'] = dfVotosParlamentares['Partido'].replace(['PBR', 'REPUBLICAN', 'Republican'], 'REPUBLICANOS')\n",
    "dfVotosParlamentares['Partido'] = dfVotosParlamentares['Partido'].replace(['PPS'], 'CIDADANIA')\n",
    "dfVotosParlamentares['Partido'] = dfVotosParlamentares['Partido'].replace(['SOLIDARIED', 'SOLIDARIEDAD', 'Solidariedad', 'Solidaried'], 'SOLIDARIEDADE')"
   ]
  },
  {
   "cell_type": "markdown",
   "metadata": {},
   "source": [
    "### Análise dos dados"
   ]
  },
  {
   "cell_type": "code",
   "execution_count": 5,
   "metadata": {
    "scrolled": true
   },
   "outputs": [
    {
     "data": {
      "text/html": [
       "<div>\n",
       "<style scoped>\n",
       "    .dataframe tbody tr th:only-of-type {\n",
       "        vertical-align: middle;\n",
       "    }\n",
       "\n",
       "    .dataframe tbody tr th {\n",
       "        vertical-align: top;\n",
       "    }\n",
       "\n",
       "    .dataframe thead th {\n",
       "        text-align: right;\n",
       "    }\n",
       "</style>\n",
       "<table border=\"1\" class=\"dataframe\">\n",
       "  <thead>\n",
       "    <tr style=\"text-align: right;\">\n",
       "      <th></th>\n",
       "      <th>CodSessao</th>\n",
       "      <th>Data</th>\n",
       "      <th>IdParlamentar</th>\n",
       "      <th>ObjVotacao</th>\n",
       "      <th>Parlamentar</th>\n",
       "      <th>Partido</th>\n",
       "      <th>Proposicao</th>\n",
       "      <th>Uf</th>\n",
       "      <th>Ano</th>\n",
       "    </tr>\n",
       "    <tr>\n",
       "      <th>Voto</th>\n",
       "      <th></th>\n",
       "      <th></th>\n",
       "      <th></th>\n",
       "      <th></th>\n",
       "      <th></th>\n",
       "      <th></th>\n",
       "      <th></th>\n",
       "      <th></th>\n",
       "      <th></th>\n",
       "    </tr>\n",
       "  </thead>\n",
       "  <tbody>\n",
       "    <tr>\n",
       "      <th>-</th>\n",
       "      <td>484677</td>\n",
       "      <td>484677</td>\n",
       "      <td>484677</td>\n",
       "      <td>484677</td>\n",
       "      <td>484677</td>\n",
       "      <td>484677</td>\n",
       "      <td>484677</td>\n",
       "      <td>484677</td>\n",
       "      <td>484677</td>\n",
       "    </tr>\n",
       "    <tr>\n",
       "      <th>Abstenção</th>\n",
       "      <td>5723</td>\n",
       "      <td>5723</td>\n",
       "      <td>5723</td>\n",
       "      <td>5723</td>\n",
       "      <td>5723</td>\n",
       "      <td>5723</td>\n",
       "      <td>5723</td>\n",
       "      <td>5723</td>\n",
       "      <td>5723</td>\n",
       "    </tr>\n",
       "    <tr>\n",
       "      <th>Art.17</th>\n",
       "      <td>4061</td>\n",
       "      <td>4061</td>\n",
       "      <td>4061</td>\n",
       "      <td>4061</td>\n",
       "      <td>4061</td>\n",
       "      <td>4061</td>\n",
       "      <td>4061</td>\n",
       "      <td>4061</td>\n",
       "      <td>4061</td>\n",
       "    </tr>\n",
       "    <tr>\n",
       "      <th>Não</th>\n",
       "      <td>824171</td>\n",
       "      <td>824171</td>\n",
       "      <td>824171</td>\n",
       "      <td>824171</td>\n",
       "      <td>824171</td>\n",
       "      <td>824171</td>\n",
       "      <td>824171</td>\n",
       "      <td>824171</td>\n",
       "      <td>824171</td>\n",
       "    </tr>\n",
       "    <tr>\n",
       "      <th>Obstrução</th>\n",
       "      <td>148307</td>\n",
       "      <td>148307</td>\n",
       "      <td>148307</td>\n",
       "      <td>148307</td>\n",
       "      <td>148307</td>\n",
       "      <td>148307</td>\n",
       "      <td>148307</td>\n",
       "      <td>148307</td>\n",
       "      <td>148307</td>\n",
       "    </tr>\n",
       "    <tr>\n",
       "      <th>Sim</th>\n",
       "      <td>783361</td>\n",
       "      <td>783361</td>\n",
       "      <td>783361</td>\n",
       "      <td>783361</td>\n",
       "      <td>783361</td>\n",
       "      <td>783361</td>\n",
       "      <td>783361</td>\n",
       "      <td>783361</td>\n",
       "      <td>783361</td>\n",
       "    </tr>\n",
       "  </tbody>\n",
       "</table>\n",
       "</div>"
      ],
      "text/plain": [
       "           CodSessao    Data  IdParlamentar  ObjVotacao  Parlamentar  Partido  \\\n",
       "Voto                                                                            \n",
       "-             484677  484677         484677      484677       484677   484677   \n",
       "Abstenção       5723    5723           5723        5723         5723     5723   \n",
       "Art.17          4061    4061           4061        4061         4061     4061   \n",
       "Não           824171  824171         824171      824171       824171   824171   \n",
       "Obstrução     148307  148307         148307      148307       148307   148307   \n",
       "Sim           783361  783361         783361      783361       783361   783361   \n",
       "\n",
       "           Proposicao      Uf     Ano  \n",
       "Voto                                   \n",
       "-              484677  484677  484677  \n",
       "Abstenção        5723    5723    5723  \n",
       "Art.17           4061    4061    4061  \n",
       "Não            824171  824171  824171  \n",
       "Obstrução      148307  148307  148307  \n",
       "Sim            783361  783361  783361  "
      ]
     },
     "execution_count": 5,
     "metadata": {},
     "output_type": "execute_result"
    }
   ],
   "source": [
    "dfVotosParlamentares.groupby('Voto').count()"
   ]
  },
  {
   "cell_type": "code",
   "execution_count": 6,
   "metadata": {},
   "outputs": [
    {
     "data": {
      "image/png": "[encoded data removed]",
      "text/plain": [
       "<Figure size 504x288 with 1 Axes>"
      ]
     },
     "metadata": {
      "needs_background": "light"
     },
     "output_type": "display_data"
    }
   ],
   "source": [
    "import matplotlib.pyplot as plt\n",
    "%matplotlib inline\n",
    "votos_tipo = dfVotosParlamentares.groupby('Voto').count().Partido\n",
    "votos_tipo.plot(kind='bar', figsize=(7,4), grid=False, rot=90, color='darkblue')\n",
    "\n",
    "plt.title('Distribuição de votos')\n",
    "plt.xlabel('Voto')\n",
    "plt.ylabel('Quantidade')\n",
    "plt.show()"
   ]
  },
  {
   "cell_type": "code",
   "execution_count": 7,
   "metadata": {},
   "outputs": [
    {
     "data": {
      "image/png": "[encoded data removed]",
      "text/plain": [
       "<Figure size 1080x288 with 1 Axes>"
      ]
     },
     "metadata": {
      "needs_background": "light"
     },
     "output_type": "display_data"
    }
   ],
   "source": [
    "votos_partido = dfVotosParlamentares.groupby('Partido').count().Voto\n",
    "votos_partido.plot(kind='bar', figsize=(15,4), grid=False, rot=90, color='darkred')\n",
    "\n",
    "plt.title('Parlamentares por Partidos')\n",
    "plt.xlabel('Partidos')\n",
    "plt.ylabel('Qtd Parlamentares')\n",
    "plt.show()"
   ]
  },
  {
   "cell_type": "markdown",
   "metadata": {},
   "source": [
    "Verificando a quantidade de votantes por partido"
   ]
  },
  {
   "cell_type": "code",
   "execution_count": 8,
   "metadata": {},
   "outputs": [
    {
     "data": {
      "text/html": [
       "<div>\n",
       "<style scoped>\n",
       "    .dataframe tbody tr th:only-of-type {\n",
       "        vertical-align: middle;\n",
       "    }\n",
       "\n",
       "    .dataframe tbody tr th {\n",
       "        vertical-align: top;\n",
       "    }\n",
       "\n",
       "    .dataframe thead th {\n",
       "        text-align: right;\n",
       "    }\n",
       "</style>\n",
       "<table border=\"1\" class=\"dataframe\">\n",
       "  <thead>\n",
       "    <tr style=\"text-align: right;\">\n",
       "      <th></th>\n",
       "      <th>Partido</th>\n",
       "      <th>Qtd_Parlamentares</th>\n",
       "    </tr>\n",
       "  </thead>\n",
       "  <tbody>\n",
       "    <tr>\n",
       "      <th>0</th>\n",
       "      <td>MDB</td>\n",
       "      <td>134</td>\n",
       "    </tr>\n",
       "    <tr>\n",
       "      <th>1</th>\n",
       "      <td>PT</td>\n",
       "      <td>134</td>\n",
       "    </tr>\n",
       "    <tr>\n",
       "      <th>2</th>\n",
       "      <td>PSDB</td>\n",
       "      <td>108</td>\n",
       "    </tr>\n",
       "    <tr>\n",
       "      <th>3</th>\n",
       "      <td>DEM</td>\n",
       "      <td>103</td>\n",
       "    </tr>\n",
       "    <tr>\n",
       "      <th>4</th>\n",
       "      <td>PP</td>\n",
       "      <td>100</td>\n",
       "    </tr>\n",
       "  </tbody>\n",
       "</table>\n",
       "</div>"
      ],
      "text/plain": [
       "  Partido  Qtd_Parlamentares\n",
       "0     MDB                134\n",
       "1      PT                134\n",
       "2    PSDB                108\n",
       "3     DEM                103\n",
       "4      PP                100"
      ]
     },
     "execution_count": 8,
     "metadata": {},
     "output_type": "execute_result"
    }
   ],
   "source": [
    "df_analise = getQuery(\"SELECT DISTINCT Partido, Parlamentar from dfVotosParlamentares\")\n",
    "partido_parlamentar = getQuery(\"SELECT Partido, COUNT(*) AS Qtd_Parlamentares FROM df_analise GROUP BY Partido ORDER BY 2 DESC\") \n",
    "partido_parlamentar.head()"
   ]
  },
  {
   "cell_type": "markdown",
   "metadata": {},
   "source": [
    "### Cálculo da Coalisão Partidária através do Índice Rice"
   ]
  },
  {
   "cell_type": "markdown",
   "metadata": {},
   "source": [
    "<p>Para medir a coesão partidária com base na análise das votações nominais será utilizado o Método de Rice (1925), já usado diversas vezes por vários estudiosos, muitos dos quais presentes na bibliografia.</p>\n",
    "<p>O Índice Rice consiste em um cálculo simples que subtrai os votos sim e não, depois divididos pelo total de votos, excluindo as abstenções. Em um exemplo simples: se um partido A tiver 12 votos sim em um dada votação e 4 votos não, o cálculo ficará dessa forma: 12-4/16. O Índice Rice desse partido ficaria em 0,5. Quanto mais perto de 1,0, mais coeso o partido é; quanto mais próximo de 0, mais dividido.</p>\n",
    "<p>Embora seja mais comum o cálculo da coesão para partidos políticos, outros grupos, como as frentes parlamentares, também podem ter sua medição a partir da metodologia anteriormente explicitada. Segundo o próprio Stuart Rice (1925), criador do índice, o cálculo foi elaborado para aferir coesão de grupos legislativos, não obrigatoriamente de partidos políticos. A importância de medir a coesão partidária a partir das votações nominais é justificada pelo autor quando afirma que “the most tangible and measurable units of political behavior are\n",
    "votes” (Rice, 1925: 60).</p> "
   ]
  },
  {
   "cell_type": "markdown",
   "metadata": {},
   "source": [
    "Um problema que é frequentemente lembrado em estudos de disciplina partidária é que as votações são analisadas em conjunto, mas não apresentam o mesmo grau de controvérsia. Muitos votos são tomados em matérias consensuais, os quais não geram grande oposição. No intuito de contornar o problema, diversos autores utilizam diferentes recortes e estratégias em suas amostras. Amorim Neto; Santos, 2001 e Neiva, 2011 buscaram excluir da análise as votações que apresentaram menos de 10% de discordância. Desta forma, seguindo padrões já utilizados em outras pesquisas, buscou-se desconsiderar votações em que apresentaram discordância abaixo deste patamar."
   ]
  },
  {
   "cell_type": "code",
   "execution_count": 9,
   "metadata": {},
   "outputs": [
    {
     "name": "stdout",
     "output_type": "stream",
     "text": [
      "Proposicao: MPV 863 2018 | Votação: DTQ. 5 - PSB - EMENDA Nº 21 | % Discordancia: 6.595602931379081\n",
      "Proposicao: PEC 70 2011 | Votação: EMENDA AGLUTINATIVA Nº 1 | % Discordancia: 0.0\n",
      "Proposicao: MPV 879 2019 | Votação: PARECER DA C.M P/ ATEND. DOS PRESSUPOSTOS CONSTITUCIONAIS... | % Discordancia: 0.3684210526315789\n",
      "Proposicao: PEC 48 2019 | Votação: PROPOSTA DE EMENDA À CONSTITUIÇÃO - SEGUNDO TURNO | % Discordancia: 1.643489254108723\n",
      "Proposicao: MPV 863 2018 | Votação: REQUERIMENTO DE RETIRADA DE PAUTA | % Discordancia: 6.595602931379081\n",
      "Proposicao: MPV 879 2019 | Votação: REQUERIMENTO DE RETIRADA DE PAUTA | % Discordancia: 0.3684210526315789\n",
      "Proposicao: PL 4067 2015 | Votação: REQUERIMENTO DE RETIRADA DE PAUTA | % Discordancia: 0.37174721189591076\n"
     ]
    }
   ],
   "source": [
    "df_exclusao = pd.concat([dfVotosParlamentares, pd.get_dummies(dfVotosParlamentares.Voto)], 1).groupby(['ObjVotacao', 'Proposicao']).sum().reset_index()\n",
    "percentual_sim_nao = []\n",
    "for sim, nao in zip(df_exclusao['Sim'], df_exclusao['Não']):\n",
    "    if(sim > nao):\n",
    "        percentual_sim_nao.append(nao/(sim+nao))\n",
    "    elif(nao > sim):\n",
    "        percentual_sim_nao.append(sim/(sim+nao))\n",
    "    else:\n",
    "        percentual_sim_nao.append(0.5)\n",
    "\n",
    "df_exclusao['Percentual_dif'] = percentual_sim_nao\n",
    "Objvot = []\n",
    "Objprop = []\n",
    "for x, y, z in zip(df_exclusao['ObjVotacao'], df_exclusao['Proposicao'], df_exclusao['Percentual_dif']):\n",
    "    if(z<=0.1):\n",
    "        Objvot.append(x)\n",
    "        Objprop.append(y)\n",
    "        print(\"Proposicao:\",y,\"| Votação:\",x,\"| % Discordancia:\",(z*100))"
   ]
  },
  {
   "cell_type": "code",
   "execution_count": 10,
   "metadata": {},
   "outputs": [
    {
     "data": {
      "text/html": [
       "<div>\n",
       "<style scoped>\n",
       "    .dataframe tbody tr th:only-of-type {\n",
       "        vertical-align: middle;\n",
       "    }\n",
       "\n",
       "    .dataframe tbody tr th {\n",
       "        vertical-align: top;\n",
       "    }\n",
       "\n",
       "    .dataframe thead th {\n",
       "        text-align: right;\n",
       "    }\n",
       "</style>\n",
       "<table border=\"1\" class=\"dataframe\">\n",
       "  <thead>\n",
       "    <tr style=\"text-align: right;\">\n",
       "      <th></th>\n",
       "      <th>Proposicao</th>\n",
       "      <th>ObjVotacao</th>\n",
       "      <th>Partido</th>\n",
       "      <th>Parlamentar</th>\n",
       "      <th>Voto</th>\n",
       "    </tr>\n",
       "  </thead>\n",
       "  <tbody>\n",
       "    <tr>\n",
       "      <th>0</th>\n",
       "      <td>PEC 372 2017</td>\n",
       "      <td>PROPOSTA DE EMENDA À CONSTITUIÇÃO - PRIMEIRO T...</td>\n",
       "      <td>PP</td>\n",
       "      <td>Hiran Gonçalves</td>\n",
       "      <td>Sim</td>\n",
       "    </tr>\n",
       "    <tr>\n",
       "      <th>1</th>\n",
       "      <td>PEC 372 2017</td>\n",
       "      <td>PROPOSTA DE EMENDA À CONSTITUIÇÃO - PRIMEIRO T...</td>\n",
       "      <td>REPUBLICANOS</td>\n",
       "      <td>Jhonatan de Jesus</td>\n",
       "      <td>Sim</td>\n",
       "    </tr>\n",
       "    <tr>\n",
       "      <th>2</th>\n",
       "      <td>PEC 372 2017</td>\n",
       "      <td>PROPOSTA DE EMENDA À CONSTITUIÇÃO - PRIMEIRO T...</td>\n",
       "      <td>REDE</td>\n",
       "      <td>Joenia Wapichana</td>\n",
       "      <td>Sim</td>\n",
       "    </tr>\n",
       "    <tr>\n",
       "      <th>3</th>\n",
       "      <td>PEC 372 2017</td>\n",
       "      <td>PROPOSTA DE EMENDA À CONSTITUIÇÃO - PRIMEIRO T...</td>\n",
       "      <td>PSL</td>\n",
       "      <td>Nicoletti</td>\n",
       "      <td>Sim</td>\n",
       "    </tr>\n",
       "    <tr>\n",
       "      <th>4</th>\n",
       "      <td>PEC 372 2017</td>\n",
       "      <td>PROPOSTA DE EMENDA À CONSTITUIÇÃO - PRIMEIRO T...</td>\n",
       "      <td>SOLIDARIEDADE</td>\n",
       "      <td>Otaci Nascimento</td>\n",
       "      <td>Sim</td>\n",
       "    </tr>\n",
       "  </tbody>\n",
       "</table>\n",
       "</div>"
      ],
      "text/plain": [
       "     Proposicao                                         ObjVotacao  \\\n",
       "0  PEC 372 2017  PROPOSTA DE EMENDA À CONSTITUIÇÃO - PRIMEIRO T...   \n",
       "1  PEC 372 2017  PROPOSTA DE EMENDA À CONSTITUIÇÃO - PRIMEIRO T...   \n",
       "2  PEC 372 2017  PROPOSTA DE EMENDA À CONSTITUIÇÃO - PRIMEIRO T...   \n",
       "3  PEC 372 2017  PROPOSTA DE EMENDA À CONSTITUIÇÃO - PRIMEIRO T...   \n",
       "4  PEC 372 2017  PROPOSTA DE EMENDA À CONSTITUIÇÃO - PRIMEIRO T...   \n",
       "\n",
       "         Partido        Parlamentar Voto  \n",
       "0             PP    Hiran Gonçalves  Sim  \n",
       "1   REPUBLICANOS  Jhonatan de Jesus  Sim  \n",
       "2           REDE   Joenia Wapichana  Sim  \n",
       "3            PSL          Nicoletti  Sim  \n",
       "4  SOLIDARIEDADE   Otaci Nascimento  Sim  "
      ]
     },
     "execution_count": 10,
     "metadata": {},
     "output_type": "execute_result"
    }
   ],
   "source": [
    "ca = []\n",
    "cb = []\n",
    "cc = []\n",
    "cd = []\n",
    "ce = []\n",
    "for a, b, c, d, e in zip(dfVotosParlamentares.ObjVotacao, dfVotosParlamentares.Parlamentar, dfVotosParlamentares.Partido, dfVotosParlamentares.Proposicao, dfVotosParlamentares.Voto):\n",
    "    if(e == \"Sim\" or e == \"Não\"):\n",
    "        if(a not in Objvot and d not in Objprop):\n",
    "            ca.append(a)\n",
    "            cb.append(b)\n",
    "            cc.append(c)\n",
    "            cd.append(d)\n",
    "            ce.append(e)\n",
    "df_votos = pd.DataFrame()\n",
    "df_votos['Proposicao'] = cd\n",
    "df_votos['ObjVotacao'] = ca\n",
    "df_votos['Partido'] = cc\n",
    "df_votos['Parlamentar'] = cb\n",
    "df_votos['Voto'] = ce\n",
    "df_votos.head()"
   ]
  },
  {
   "cell_type": "code",
   "execution_count": 11,
   "metadata": {},
   "outputs": [
    {
     "data": {
      "text/html": [
       "<div>\n",
       "<style scoped>\n",
       "    .dataframe tbody tr th:only-of-type {\n",
       "        vertical-align: middle;\n",
       "    }\n",
       "\n",
       "    .dataframe tbody tr th {\n",
       "        vertical-align: top;\n",
       "    }\n",
       "\n",
       "    .dataframe thead th {\n",
       "        text-align: right;\n",
       "    }\n",
       "</style>\n",
       "<table border=\"1\" class=\"dataframe\">\n",
       "  <thead>\n",
       "    <tr style=\"text-align: right;\">\n",
       "      <th></th>\n",
       "      <th>ObjVotacao</th>\n",
       "      <th>Proposicao</th>\n",
       "      <th>Partido</th>\n",
       "      <th>Não</th>\n",
       "      <th>Sim</th>\n",
       "      <th>Rice</th>\n",
       "    </tr>\n",
       "  </thead>\n",
       "  <tbody>\n",
       "    <tr>\n",
       "      <th>0</th>\n",
       "      <td>CONSULTA AO PLENÁRIO SOBRE VOTAÇÃO PARCELADA</td>\n",
       "      <td>PEC 6 2019</td>\n",
       "      <td>AVANTE</td>\n",
       "      <td>488.0</td>\n",
       "      <td>576.0</td>\n",
       "      <td>0.082707</td>\n",
       "    </tr>\n",
       "    <tr>\n",
       "      <th>1</th>\n",
       "      <td>CONSULTA AO PLENÁRIO SOBRE VOTAÇÃO PARCELADA</td>\n",
       "      <td>PEC 6 2019</td>\n",
       "      <td>CIDADANIA</td>\n",
       "      <td>560.0</td>\n",
       "      <td>648.0</td>\n",
       "      <td>0.072848</td>\n",
       "    </tr>\n",
       "    <tr>\n",
       "      <th>2</th>\n",
       "      <td>CONSULTA AO PLENÁRIO SOBRE VOTAÇÃO PARCELADA</td>\n",
       "      <td>PEC 6 2019</td>\n",
       "      <td>DEM</td>\n",
       "      <td>1632.0</td>\n",
       "      <td>2584.0</td>\n",
       "      <td>0.225806</td>\n",
       "    </tr>\n",
       "    <tr>\n",
       "      <th>3</th>\n",
       "      <td>CONSULTA AO PLENÁRIO SOBRE VOTAÇÃO PARCELADA</td>\n",
       "      <td>PEC 6 2019</td>\n",
       "      <td>MDB</td>\n",
       "      <td>1988.0</td>\n",
       "      <td>2932.0</td>\n",
       "      <td>0.191870</td>\n",
       "    </tr>\n",
       "    <tr>\n",
       "      <th>4</th>\n",
       "      <td>CONSULTA AO PLENÁRIO SOBRE VOTAÇÃO PARCELADA</td>\n",
       "      <td>PEC 6 2019</td>\n",
       "      <td>NOVO</td>\n",
       "      <td>584.0</td>\n",
       "      <td>764.0</td>\n",
       "      <td>0.133531</td>\n",
       "    </tr>\n",
       "  </tbody>\n",
       "</table>\n",
       "</div>"
      ],
      "text/plain": [
       "                                     ObjVotacao  Proposicao    Partido  \\\n",
       "0  CONSULTA AO PLENÁRIO SOBRE VOTAÇÃO PARCELADA  PEC 6 2019     AVANTE   \n",
       "1  CONSULTA AO PLENÁRIO SOBRE VOTAÇÃO PARCELADA  PEC 6 2019  CIDADANIA   \n",
       "2  CONSULTA AO PLENÁRIO SOBRE VOTAÇÃO PARCELADA  PEC 6 2019        DEM   \n",
       "3  CONSULTA AO PLENÁRIO SOBRE VOTAÇÃO PARCELADA  PEC 6 2019        MDB   \n",
       "4  CONSULTA AO PLENÁRIO SOBRE VOTAÇÃO PARCELADA  PEC 6 2019       NOVO   \n",
       "\n",
       "      Não     Sim      Rice  \n",
       "0   488.0   576.0  0.082707  \n",
       "1   560.0   648.0  0.072848  \n",
       "2  1632.0  2584.0  0.225806  \n",
       "3  1988.0  2932.0  0.191870  \n",
       "4   584.0   764.0  0.133531  "
      ]
     },
     "execution_count": 11,
     "metadata": {},
     "output_type": "execute_result"
    }
   ],
   "source": [
    "df = pd.concat([df_votos, pd.get_dummies(df_votos.Voto)], 1).groupby(['ObjVotacao', 'Proposicao','Partido']).sum().reset_index()\n",
    "rice = []\n",
    "ano_base = []\n",
    "for sim, nao in zip(df['Sim'], df['Não']):\n",
    "    if(sim > nao):\n",
    "        rice.append((sim-nao)/(sim+nao))\n",
    "    elif(nao > sim):\n",
    "        rice.append((nao-sim)/(sim+nao))\n",
    "    else:\n",
    "        rice.append(0)\n",
    "df['Rice'] = rice\n",
    "df.head()"
   ]
  },
  {
   "cell_type": "code",
   "execution_count": 12,
   "metadata": {},
   "outputs": [
    {
     "name": "stdout",
     "output_type": "stream",
     "text": [
      "Retiradas 0 Sessões\n"
     ]
    }
   ],
   "source": [
    "# Retirada da contagem sessões de votação que Canceladas\n",
    "antes = df.shape[0]\n",
    "df = getQuery(\"SELECT * FROM df WHERE ObjVotacao NOT LIKE '%CANCELAD%'\")\n",
    "print(\"Retiradas\", (antes - df.shape[0]), \"Sessões\")"
   ]
  },
  {
   "cell_type": "code",
   "execution_count": 13,
   "metadata": {},
   "outputs": [],
   "source": [
    "# Retirados partidos com menos de dois representantes na Câmara \n",
    "if(ano == '2010'):\n",
    "    partidos_com_representantes = ['PT', 'PP', 'CIDADANIA', 'PCDOB', 'PMN', 'MDB', 'DEM', 'PSB', 'PDT', 'PTB', 'PL', 'PSDB', 'PV', 'PSC', \n",
    "                 'PAN', 'PTC', 'PHS', 'PSOL', 'PRONA'] # Retirado PTDOB E PRB por terem somente um representante\n",
    "elif(ano in ['2011', '2012', '2013', '2014']):\n",
    "    partidos_com_representantes = ['PT', 'MDB', 'PL', 'PSB', 'PDT', 'PSC', 'PCDOB', 'REPUBLICANOS', 'PODE', 'PSDB', 'DEM', 'PTB', 'CIDADANIA', \n",
    "                 'PMN', 'AVANTE', 'PP', 'PV', 'PSOL', 'PHS', 'PRTB', 'PRP'] # Retirado PTC e PSL por terem somente um representante\n",
    "elif(ano in ['2015', '2016', '2017', '2018']):\n",
    "    partidos_com_representantes = ['PT', 'MDB', 'PL', 'PDT', 'REPUBLICANOS', 'PROS', 'PSD', 'PP', 'PSDB', 'DEM', 'PTB', 'PMN', 'SD', 'PTC', 'PODE', \n",
    "                'PATRI', 'PSB', 'PRP', 'CIDADANIA', 'PHS', 'PV', 'PSOL', 'PSC', 'DC', 'PCDOB'] # Retirado PCdoB, PRTB e PSL por terem somente um representante\n",
    "elif(ano == '2019'):\n",
    "    partidos_com_representantes = ['PT', 'PSL', 'PP', 'MDB', 'PSD', 'PL', 'PSB', 'PRB', 'PSDB', 'DEM', 'PDT', 'SD', 'PODE', 'PTB', 'PSOL', \n",
    "                'PCDOB', 'PSC', 'PROS', 'CIDADANIA', 'NOVO', 'AVANTE', 'PHS', 'PATRI', 'PV', 'PRP', 'PMN', 'PTC'] # Retirados DC, PPL e REDE por terem somente um representante\n"
   ]
  },
  {
   "cell_type": "code",
   "execution_count": 14,
   "metadata": {},
   "outputs": [
    {
     "data": {
      "text/html": [
       "<div>\n",
       "<style scoped>\n",
       "    .dataframe tbody tr th:only-of-type {\n",
       "        vertical-align: middle;\n",
       "    }\n",
       "\n",
       "    .dataframe tbody tr th {\n",
       "        vertical-align: top;\n",
       "    }\n",
       "\n",
       "    .dataframe thead th {\n",
       "        text-align: right;\n",
       "    }\n",
       "</style>\n",
       "<table border=\"1\" class=\"dataframe\">\n",
       "  <thead>\n",
       "    <tr style=\"text-align: right;\">\n",
       "      <th></th>\n",
       "      <th>ObjVotacao</th>\n",
       "      <th>Proposicao</th>\n",
       "      <th>Partido</th>\n",
       "      <th>Não</th>\n",
       "      <th>Sim</th>\n",
       "      <th>Rice</th>\n",
       "    </tr>\n",
       "  </thead>\n",
       "  <tbody>\n",
       "    <tr>\n",
       "      <th>0</th>\n",
       "      <td>CONSULTA AO PLENÁRIO SOBRE VOTAÇÃO PARCELADA</td>\n",
       "      <td>PEC 6 2019</td>\n",
       "      <td>AVANTE</td>\n",
       "      <td>488.0</td>\n",
       "      <td>576.0</td>\n",
       "      <td>0.082707</td>\n",
       "    </tr>\n",
       "    <tr>\n",
       "      <th>1</th>\n",
       "      <td>CONSULTA AO PLENÁRIO SOBRE VOTAÇÃO PARCELADA</td>\n",
       "      <td>PEC 6 2019</td>\n",
       "      <td>CIDADANIA</td>\n",
       "      <td>560.0</td>\n",
       "      <td>648.0</td>\n",
       "      <td>0.072848</td>\n",
       "    </tr>\n",
       "    <tr>\n",
       "      <th>2</th>\n",
       "      <td>CONSULTA AO PLENÁRIO SOBRE VOTAÇÃO PARCELADA</td>\n",
       "      <td>PEC 6 2019</td>\n",
       "      <td>DEM</td>\n",
       "      <td>1632.0</td>\n",
       "      <td>2584.0</td>\n",
       "      <td>0.225806</td>\n",
       "    </tr>\n",
       "    <tr>\n",
       "      <th>3</th>\n",
       "      <td>CONSULTA AO PLENÁRIO SOBRE VOTAÇÃO PARCELADA</td>\n",
       "      <td>PEC 6 2019</td>\n",
       "      <td>MDB</td>\n",
       "      <td>1988.0</td>\n",
       "      <td>2932.0</td>\n",
       "      <td>0.191870</td>\n",
       "    </tr>\n",
       "    <tr>\n",
       "      <th>4</th>\n",
       "      <td>CONSULTA AO PLENÁRIO SOBRE VOTAÇÃO PARCELADA</td>\n",
       "      <td>PEC 6 2019</td>\n",
       "      <td>NOVO</td>\n",
       "      <td>584.0</td>\n",
       "      <td>764.0</td>\n",
       "      <td>0.133531</td>\n",
       "    </tr>\n",
       "  </tbody>\n",
       "</table>\n",
       "</div>"
      ],
      "text/plain": [
       "                                     ObjVotacao  Proposicao    Partido  \\\n",
       "0  CONSULTA AO PLENÁRIO SOBRE VOTAÇÃO PARCELADA  PEC 6 2019     AVANTE   \n",
       "1  CONSULTA AO PLENÁRIO SOBRE VOTAÇÃO PARCELADA  PEC 6 2019  CIDADANIA   \n",
       "2  CONSULTA AO PLENÁRIO SOBRE VOTAÇÃO PARCELADA  PEC 6 2019        DEM   \n",
       "3  CONSULTA AO PLENÁRIO SOBRE VOTAÇÃO PARCELADA  PEC 6 2019        MDB   \n",
       "4  CONSULTA AO PLENÁRIO SOBRE VOTAÇÃO PARCELADA  PEC 6 2019       NOVO   \n",
       "\n",
       "      Não     Sim      Rice  \n",
       "0   488.0   576.0  0.082707  \n",
       "1   560.0   648.0  0.072848  \n",
       "2  1632.0  2584.0  0.225806  \n",
       "3  1988.0  2932.0  0.191870  \n",
       "4   584.0   764.0  0.133531  "
      ]
     },
     "execution_count": 14,
     "metadata": {},
     "output_type": "execute_result"
    }
   ],
   "source": [
    "df = df.loc[df['Partido'].isin(partidos_com_representantes)]\n",
    "df.head()"
   ]
  },
  {
   "cell_type": "markdown",
   "metadata": {},
   "source": [
    "Resultado da média do índice de Rice para os votos do partido"
   ]
  },
  {
   "cell_type": "code",
   "execution_count": 17,
   "metadata": {},
   "outputs": [
    {
     "data": {
      "text/html": [
       "<div>\n",
       "<style scoped>\n",
       "    .dataframe tbody tr th:only-of-type {\n",
       "        vertical-align: middle;\n",
       "    }\n",
       "\n",
       "    .dataframe tbody tr th {\n",
       "        vertical-align: top;\n",
       "    }\n",
       "\n",
       "    .dataframe thead th {\n",
       "        text-align: right;\n",
       "    }\n",
       "</style>\n",
       "<table border=\"1\" class=\"dataframe\">\n",
       "  <thead>\n",
       "    <tr style=\"text-align: right;\">\n",
       "      <th></th>\n",
       "      <th>Ano</th>\n",
       "      <th>Partido</th>\n",
       "      <th>Rice</th>\n",
       "    </tr>\n",
       "  </thead>\n",
       "  <tbody>\n",
       "    <tr>\n",
       "      <th>0</th>\n",
       "      <td>2019</td>\n",
       "      <td>AVANTE</td>\n",
       "      <td>0.268222</td>\n",
       "    </tr>\n",
       "    <tr>\n",
       "      <th>1</th>\n",
       "      <td>2019</td>\n",
       "      <td>CIDADANIA</td>\n",
       "      <td>0.358209</td>\n",
       "    </tr>\n",
       "    <tr>\n",
       "      <th>2</th>\n",
       "      <td>2019</td>\n",
       "      <td>DEM</td>\n",
       "      <td>0.353697</td>\n",
       "    </tr>\n",
       "    <tr>\n",
       "      <th>3</th>\n",
       "      <td>2019</td>\n",
       "      <td>MDB</td>\n",
       "      <td>0.326759</td>\n",
       "    </tr>\n",
       "    <tr>\n",
       "      <th>4</th>\n",
       "      <td>2019</td>\n",
       "      <td>NOVO</td>\n",
       "      <td>0.477866</td>\n",
       "    </tr>\n",
       "    <tr>\n",
       "      <th>5</th>\n",
       "      <td>2019</td>\n",
       "      <td>PATRI</td>\n",
       "      <td>0.365653</td>\n",
       "    </tr>\n",
       "    <tr>\n",
       "      <th>6</th>\n",
       "      <td>2019</td>\n",
       "      <td>PCDOB</td>\n",
       "      <td>0.494665</td>\n",
       "    </tr>\n",
       "    <tr>\n",
       "      <th>7</th>\n",
       "      <td>2019</td>\n",
       "      <td>PDT</td>\n",
       "      <td>0.348155</td>\n",
       "    </tr>\n",
       "    <tr>\n",
       "      <th>8</th>\n",
       "      <td>2019</td>\n",
       "      <td>PHS</td>\n",
       "      <td>0.395904</td>\n",
       "    </tr>\n",
       "    <tr>\n",
       "      <th>9</th>\n",
       "      <td>2019</td>\n",
       "      <td>PL</td>\n",
       "      <td>0.344737</td>\n",
       "    </tr>\n",
       "    <tr>\n",
       "      <th>10</th>\n",
       "      <td>2019</td>\n",
       "      <td>PMN</td>\n",
       "      <td>0.403988</td>\n",
       "    </tr>\n",
       "    <tr>\n",
       "      <th>11</th>\n",
       "      <td>2019</td>\n",
       "      <td>PODE</td>\n",
       "      <td>0.302003</td>\n",
       "    </tr>\n",
       "    <tr>\n",
       "      <th>12</th>\n",
       "      <td>2019</td>\n",
       "      <td>PP</td>\n",
       "      <td>0.334073</td>\n",
       "    </tr>\n",
       "    <tr>\n",
       "      <th>13</th>\n",
       "      <td>2019</td>\n",
       "      <td>PRB</td>\n",
       "      <td>0.406720</td>\n",
       "    </tr>\n",
       "    <tr>\n",
       "      <th>14</th>\n",
       "      <td>2019</td>\n",
       "      <td>PROS</td>\n",
       "      <td>0.265609</td>\n",
       "    </tr>\n",
       "    <tr>\n",
       "      <th>15</th>\n",
       "      <td>2019</td>\n",
       "      <td>PRP</td>\n",
       "      <td>0.374790</td>\n",
       "    </tr>\n",
       "    <tr>\n",
       "      <th>16</th>\n",
       "      <td>2019</td>\n",
       "      <td>PSB</td>\n",
       "      <td>0.224862</td>\n",
       "    </tr>\n",
       "    <tr>\n",
       "      <th>17</th>\n",
       "      <td>2019</td>\n",
       "      <td>PSC</td>\n",
       "      <td>0.325694</td>\n",
       "    </tr>\n",
       "    <tr>\n",
       "      <th>18</th>\n",
       "      <td>2019</td>\n",
       "      <td>PSD</td>\n",
       "      <td>0.343243</td>\n",
       "    </tr>\n",
       "    <tr>\n",
       "      <th>19</th>\n",
       "      <td>2019</td>\n",
       "      <td>PSDB</td>\n",
       "      <td>0.299761</td>\n",
       "    </tr>\n",
       "    <tr>\n",
       "      <th>20</th>\n",
       "      <td>2019</td>\n",
       "      <td>PSL</td>\n",
       "      <td>0.431879</td>\n",
       "    </tr>\n",
       "    <tr>\n",
       "      <th>21</th>\n",
       "      <td>2019</td>\n",
       "      <td>PSOL</td>\n",
       "      <td>0.559492</td>\n",
       "    </tr>\n",
       "    <tr>\n",
       "      <th>22</th>\n",
       "      <td>2019</td>\n",
       "      <td>PT</td>\n",
       "      <td>0.498251</td>\n",
       "    </tr>\n",
       "    <tr>\n",
       "      <th>23</th>\n",
       "      <td>2019</td>\n",
       "      <td>PTB</td>\n",
       "      <td>0.304472</td>\n",
       "    </tr>\n",
       "    <tr>\n",
       "      <th>24</th>\n",
       "      <td>2019</td>\n",
       "      <td>PTC</td>\n",
       "      <td>0.282609</td>\n",
       "    </tr>\n",
       "    <tr>\n",
       "      <th>25</th>\n",
       "      <td>2019</td>\n",
       "      <td>PV</td>\n",
       "      <td>0.315250</td>\n",
       "    </tr>\n",
       "  </tbody>\n",
       "</table>\n",
       "</div>"
      ],
      "text/plain": [
       "     Ano    Partido      Rice\n",
       "0   2019     AVANTE  0.268222\n",
       "1   2019  CIDADANIA  0.358209\n",
       "2   2019        DEM  0.353697\n",
       "3   2019        MDB  0.326759\n",
       "4   2019       NOVO  0.477866\n",
       "5   2019      PATRI  0.365653\n",
       "6   2019      PCDOB  0.494665\n",
       "7   2019        PDT  0.348155\n",
       "8   2019        PHS  0.395904\n",
       "9   2019         PL  0.344737\n",
       "10  2019        PMN  0.403988\n",
       "11  2019       PODE  0.302003\n",
       "12  2019         PP  0.334073\n",
       "13  2019        PRB  0.406720\n",
       "14  2019       PROS  0.265609\n",
       "15  2019        PRP  0.374790\n",
       "16  2019        PSB  0.224862\n",
       "17  2019        PSC  0.325694\n",
       "18  2019        PSD  0.343243\n",
       "19  2019       PSDB  0.299761\n",
       "20  2019        PSL  0.431879\n",
       "21  2019       PSOL  0.559492\n",
       "22  2019         PT  0.498251\n",
       "23  2019        PTB  0.304472\n",
       "24  2019        PTC  0.282609\n",
       "25  2019         PV  0.315250"
      ]
     },
     "execution_count": 17,
     "metadata": {},
     "output_type": "execute_result"
    }
   ],
   "source": [
    "df_coesao = pd.DataFrame(df.groupby(df['Partido']).mean()['Rice'])\n",
    "df_coesao = df_coesao.reset_index()\n",
    "ano_base = []\n",
    "partido_upper = []\n",
    "for linha in df_coesao['Partido']:\n",
    "    ano_base.append(ano)\n",
    "    partido_upper.append(linha.upper())\n",
    "df_coesao['Ano'] = ano_base\n",
    "df_coesao['Partido'] = partido_upper\n",
    "df_coesao = df_coesao[['Ano', 'Partido', 'Rice']]\n",
    "df_coesao"
   ]
  },
  {
   "cell_type": "code",
   "execution_count": 18,
   "metadata": {},
   "outputs": [],
   "source": [
    "df_coesao.to_csv('score/score_votos_2019.csv', sep=';', index=False)"
   ]
  },
  {
   "cell_type": "markdown",
   "metadata": {},
   "source": [
    "### Verificando os votos dos parlamentares em comparação a maioria dos votos do partido"
   ]
  },
  {
   "cell_type": "code",
   "execution_count": 19,
   "metadata": {},
   "outputs": [
    {
     "data": {
      "text/html": [
       "<div>\n",
       "<style scoped>\n",
       "    .dataframe tbody tr th:only-of-type {\n",
       "        vertical-align: middle;\n",
       "    }\n",
       "\n",
       "    .dataframe tbody tr th {\n",
       "        vertical-align: top;\n",
       "    }\n",
       "\n",
       "    .dataframe thead th {\n",
       "        text-align: right;\n",
       "    }\n",
       "</style>\n",
       "<table border=\"1\" class=\"dataframe\">\n",
       "  <thead>\n",
       "    <tr style=\"text-align: right;\">\n",
       "      <th></th>\n",
       "      <th>Proposicao</th>\n",
       "      <th>ObjVotacao</th>\n",
       "      <th>Partido</th>\n",
       "      <th>Parlamentar</th>\n",
       "      <th>Voto</th>\n",
       "      <th>Total_Sim</th>\n",
       "      <th>Total_Nao</th>\n",
       "    </tr>\n",
       "  </thead>\n",
       "  <tbody>\n",
       "    <tr>\n",
       "      <th>0</th>\n",
       "      <td>PEC 372 2017</td>\n",
       "      <td>PROPOSTA DE EMENDA À CONSTITUIÇÃO - PRIMEIRO T...</td>\n",
       "      <td>PP</td>\n",
       "      <td>Hiran Gonçalves</td>\n",
       "      <td>Sim</td>\n",
       "      <td>54.0</td>\n",
       "      <td>23.0</td>\n",
       "    </tr>\n",
       "    <tr>\n",
       "      <th>1</th>\n",
       "      <td>PEC 372 2017</td>\n",
       "      <td>PROPOSTA DE EMENDA À CONSTITUIÇÃO - PRIMEIRO T...</td>\n",
       "      <td>REPUBLICANOS</td>\n",
       "      <td>Jhonatan de Jesus</td>\n",
       "      <td>Sim</td>\n",
       "      <td>0.0</td>\n",
       "      <td>0.0</td>\n",
       "    </tr>\n",
       "    <tr>\n",
       "      <th>2</th>\n",
       "      <td>PEC 372 2017</td>\n",
       "      <td>PROPOSTA DE EMENDA À CONSTITUIÇÃO - PRIMEIRO T...</td>\n",
       "      <td>REDE</td>\n",
       "      <td>Joenia Wapichana</td>\n",
       "      <td>Sim</td>\n",
       "      <td>0.0</td>\n",
       "      <td>0.0</td>\n",
       "    </tr>\n",
       "    <tr>\n",
       "      <th>3</th>\n",
       "      <td>PEC 372 2017</td>\n",
       "      <td>PROPOSTA DE EMENDA À CONSTITUIÇÃO - PRIMEIRO T...</td>\n",
       "      <td>PSL</td>\n",
       "      <td>Nicoletti</td>\n",
       "      <td>Sim</td>\n",
       "      <td>96.0</td>\n",
       "      <td>48.0</td>\n",
       "    </tr>\n",
       "    <tr>\n",
       "      <th>4</th>\n",
       "      <td>PEC 372 2017</td>\n",
       "      <td>PROPOSTA DE EMENDA À CONSTITUIÇÃO - PRIMEIRO T...</td>\n",
       "      <td>SOLIDARIEDADE</td>\n",
       "      <td>Otaci Nascimento</td>\n",
       "      <td>Sim</td>\n",
       "      <td>0.0</td>\n",
       "      <td>0.0</td>\n",
       "    </tr>\n",
       "  </tbody>\n",
       "</table>\n",
       "</div>"
      ],
      "text/plain": [
       "     Proposicao                                         ObjVotacao  \\\n",
       "0  PEC 372 2017  PROPOSTA DE EMENDA À CONSTITUIÇÃO - PRIMEIRO T...   \n",
       "1  PEC 372 2017  PROPOSTA DE EMENDA À CONSTITUIÇÃO - PRIMEIRO T...   \n",
       "2  PEC 372 2017  PROPOSTA DE EMENDA À CONSTITUIÇÃO - PRIMEIRO T...   \n",
       "3  PEC 372 2017  PROPOSTA DE EMENDA À CONSTITUIÇÃO - PRIMEIRO T...   \n",
       "4  PEC 372 2017  PROPOSTA DE EMENDA À CONSTITUIÇÃO - PRIMEIRO T...   \n",
       "\n",
       "         Partido        Parlamentar Voto  Total_Sim  Total_Nao  \n",
       "0             PP    Hiran Gonçalves  Sim       54.0       23.0  \n",
       "1   REPUBLICANOS  Jhonatan de Jesus  Sim        0.0        0.0  \n",
       "2           REDE   Joenia Wapichana  Sim        0.0        0.0  \n",
       "3            PSL          Nicoletti  Sim       96.0       48.0  \n",
       "4  SOLIDARIEDADE   Otaci Nascimento  Sim        0.0        0.0  "
      ]
     },
     "execution_count": 19,
     "metadata": {},
     "output_type": "execute_result"
    }
   ],
   "source": [
    "varsim = []\n",
    "varnao = []\n",
    "for x, y, z in zip(df_votos['ObjVotacao'], df_votos['Partido'], df_votos['Proposicao']):\n",
    "    try:\n",
    "        varsim.append(list(df.query('ObjVotacao==\"'+x+'\" and Partido==\"'+y+'\" and Proposicao==\"'+z+'\"')['Sim'])[0])\n",
    "        varnao.append(list(df.query('ObjVotacao==\"'+x+'\" and Partido==\"'+y+'\" and Proposicao==\"'+z+'\"')['Não'])[0])\n",
    "    except:\n",
    "        varsim.append(0)\n",
    "        varnao.append(0)\n",
    "\n",
    "df_votos2 = df_votos\n",
    "df_votos2['Total_Sim'] = varsim\n",
    "df_votos2['Total_Nao'] = varnao\n",
    "df_votos2.head()"
   ]
  },
  {
   "cell_type": "code",
   "execution_count": 20,
   "metadata": {},
   "outputs": [
    {
     "data": {
      "text/html": [
       "<div>\n",
       "<style scoped>\n",
       "    .dataframe tbody tr th:only-of-type {\n",
       "        vertical-align: middle;\n",
       "    }\n",
       "\n",
       "    .dataframe tbody tr th {\n",
       "        vertical-align: top;\n",
       "    }\n",
       "\n",
       "    .dataframe thead th {\n",
       "        text-align: right;\n",
       "    }\n",
       "</style>\n",
       "<table border=\"1\" class=\"dataframe\">\n",
       "  <thead>\n",
       "    <tr style=\"text-align: right;\">\n",
       "      <th></th>\n",
       "      <th>Proposicao</th>\n",
       "      <th>ObjVotacao</th>\n",
       "      <th>Partido</th>\n",
       "      <th>Parlamentar</th>\n",
       "      <th>Voto</th>\n",
       "      <th>Total_Sim</th>\n",
       "      <th>Total_Nao</th>\n",
       "    </tr>\n",
       "  </thead>\n",
       "  <tbody>\n",
       "    <tr>\n",
       "      <th>0</th>\n",
       "      <td>PEC 372 2017</td>\n",
       "      <td>PROPOSTA DE EMENDA À CONSTITUIÇÃO - PRIMEIRO T...</td>\n",
       "      <td>PP</td>\n",
       "      <td>Hiran Gonçalves</td>\n",
       "      <td>Sim</td>\n",
       "      <td>54.0</td>\n",
       "      <td>23.0</td>\n",
       "    </tr>\n",
       "    <tr>\n",
       "      <th>3</th>\n",
       "      <td>PEC 372 2017</td>\n",
       "      <td>PROPOSTA DE EMENDA À CONSTITUIÇÃO - PRIMEIRO T...</td>\n",
       "      <td>PSL</td>\n",
       "      <td>Nicoletti</td>\n",
       "      <td>Sim</td>\n",
       "      <td>96.0</td>\n",
       "      <td>48.0</td>\n",
       "    </tr>\n",
       "    <tr>\n",
       "      <th>5</th>\n",
       "      <td>PEC 372 2017</td>\n",
       "      <td>PROPOSTA DE EMENDA À CONSTITUIÇÃO - PRIMEIRO T...</td>\n",
       "      <td>PSDB</td>\n",
       "      <td>Shéridan</td>\n",
       "      <td>Sim</td>\n",
       "      <td>54.0</td>\n",
       "      <td>24.0</td>\n",
       "    </tr>\n",
       "    <tr>\n",
       "      <th>6</th>\n",
       "      <td>PEC 372 2017</td>\n",
       "      <td>PROPOSTA DE EMENDA À CONSTITUIÇÃO - PRIMEIRO T...</td>\n",
       "      <td>PROS</td>\n",
       "      <td>Acácio Favacho</td>\n",
       "      <td>Sim</td>\n",
       "      <td>19.0</td>\n",
       "      <td>9.0</td>\n",
       "    </tr>\n",
       "    <tr>\n",
       "      <th>8</th>\n",
       "      <td>PEC 372 2017</td>\n",
       "      <td>PROPOSTA DE EMENDA À CONSTITUIÇÃO - PRIMEIRO T...</td>\n",
       "      <td>PP</td>\n",
       "      <td>André Abdon</td>\n",
       "      <td>Sim</td>\n",
       "      <td>54.0</td>\n",
       "      <td>23.0</td>\n",
       "    </tr>\n",
       "  </tbody>\n",
       "</table>\n",
       "</div>"
      ],
      "text/plain": [
       "     Proposicao                                         ObjVotacao Partido  \\\n",
       "0  PEC 372 2017  PROPOSTA DE EMENDA À CONSTITUIÇÃO - PRIMEIRO T...      PP   \n",
       "3  PEC 372 2017  PROPOSTA DE EMENDA À CONSTITUIÇÃO - PRIMEIRO T...     PSL   \n",
       "5  PEC 372 2017  PROPOSTA DE EMENDA À CONSTITUIÇÃO - PRIMEIRO T...    PSDB   \n",
       "6  PEC 372 2017  PROPOSTA DE EMENDA À CONSTITUIÇÃO - PRIMEIRO T...    PROS   \n",
       "8  PEC 372 2017  PROPOSTA DE EMENDA À CONSTITUIÇÃO - PRIMEIRO T...      PP   \n",
       "\n",
       "       Parlamentar Voto  Total_Sim  Total_Nao  \n",
       "0  Hiran Gonçalves  Sim       54.0       23.0  \n",
       "3        Nicoletti  Sim       96.0       48.0  \n",
       "5         Shéridan  Sim       54.0       24.0  \n",
       "6   Acácio Favacho  Sim       19.0        9.0  \n",
       "8      André Abdon  Sim       54.0       23.0  "
      ]
     },
     "execution_count": 20,
     "metadata": {},
     "output_type": "execute_result"
    }
   ],
   "source": [
    "df_votos3 = df_votos2.query(\"Total_Sim != 0 and Total_Nao != 0\")\n",
    "df_votos3.head()"
   ]
  },
  {
   "cell_type": "code",
   "execution_count": 21,
   "metadata": {},
   "outputs": [
    {
     "name": "stderr",
     "output_type": "stream",
     "text": [
      "/Users/Polato/anaconda3/lib/python3.7/site-packages/ipykernel_launcher.py:9: SettingWithCopyWarning: \n",
      "A value is trying to be set on a copy of a slice from a DataFrame.\n",
      "Try using .loc[row_indexer,col_indexer] = value instead\n",
      "\n",
      "See the caveats in the documentation: http://pandas.pydata.org/pandas-docs/stable/indexing.html#indexing-view-versus-copy\n",
      "  if __name__ == '__main__':\n"
     ]
    },
    {
     "data": {
      "text/html": [
       "<div>\n",
       "<style scoped>\n",
       "    .dataframe tbody tr th:only-of-type {\n",
       "        vertical-align: middle;\n",
       "    }\n",
       "\n",
       "    .dataframe tbody tr th {\n",
       "        vertical-align: top;\n",
       "    }\n",
       "\n",
       "    .dataframe thead th {\n",
       "        text-align: right;\n",
       "    }\n",
       "</style>\n",
       "<table border=\"1\" class=\"dataframe\">\n",
       "  <thead>\n",
       "    <tr style=\"text-align: right;\">\n",
       "      <th></th>\n",
       "      <th>Proposicao</th>\n",
       "      <th>ObjVotacao</th>\n",
       "      <th>Partido</th>\n",
       "      <th>Parlamentar</th>\n",
       "      <th>Voto</th>\n",
       "      <th>Total_Sim</th>\n",
       "      <th>Total_Nao</th>\n",
       "      <th>Voto_Partido</th>\n",
       "    </tr>\n",
       "  </thead>\n",
       "  <tbody>\n",
       "    <tr>\n",
       "      <th>0</th>\n",
       "      <td>PEC 372 2017</td>\n",
       "      <td>PROPOSTA DE EMENDA À CONSTITUIÇÃO - PRIMEIRO T...</td>\n",
       "      <td>PP</td>\n",
       "      <td>Hiran Gonçalves</td>\n",
       "      <td>Sim</td>\n",
       "      <td>54.0</td>\n",
       "      <td>23.0</td>\n",
       "      <td>Sim</td>\n",
       "    </tr>\n",
       "    <tr>\n",
       "      <th>3</th>\n",
       "      <td>PEC 372 2017</td>\n",
       "      <td>PROPOSTA DE EMENDA À CONSTITUIÇÃO - PRIMEIRO T...</td>\n",
       "      <td>PSL</td>\n",
       "      <td>Nicoletti</td>\n",
       "      <td>Sim</td>\n",
       "      <td>96.0</td>\n",
       "      <td>48.0</td>\n",
       "      <td>Sim</td>\n",
       "    </tr>\n",
       "    <tr>\n",
       "      <th>5</th>\n",
       "      <td>PEC 372 2017</td>\n",
       "      <td>PROPOSTA DE EMENDA À CONSTITUIÇÃO - PRIMEIRO T...</td>\n",
       "      <td>PSDB</td>\n",
       "      <td>Shéridan</td>\n",
       "      <td>Sim</td>\n",
       "      <td>54.0</td>\n",
       "      <td>24.0</td>\n",
       "      <td>Sim</td>\n",
       "    </tr>\n",
       "    <tr>\n",
       "      <th>6</th>\n",
       "      <td>PEC 372 2017</td>\n",
       "      <td>PROPOSTA DE EMENDA À CONSTITUIÇÃO - PRIMEIRO T...</td>\n",
       "      <td>PROS</td>\n",
       "      <td>Acácio Favacho</td>\n",
       "      <td>Sim</td>\n",
       "      <td>19.0</td>\n",
       "      <td>9.0</td>\n",
       "      <td>Sim</td>\n",
       "    </tr>\n",
       "    <tr>\n",
       "      <th>8</th>\n",
       "      <td>PEC 372 2017</td>\n",
       "      <td>PROPOSTA DE EMENDA À CONSTITUIÇÃO - PRIMEIRO T...</td>\n",
       "      <td>PP</td>\n",
       "      <td>André Abdon</td>\n",
       "      <td>Sim</td>\n",
       "      <td>54.0</td>\n",
       "      <td>23.0</td>\n",
       "      <td>Sim</td>\n",
       "    </tr>\n",
       "  </tbody>\n",
       "</table>\n",
       "</div>"
      ],
      "text/plain": [
       "     Proposicao                                         ObjVotacao Partido  \\\n",
       "0  PEC 372 2017  PROPOSTA DE EMENDA À CONSTITUIÇÃO - PRIMEIRO T...      PP   \n",
       "3  PEC 372 2017  PROPOSTA DE EMENDA À CONSTITUIÇÃO - PRIMEIRO T...     PSL   \n",
       "5  PEC 372 2017  PROPOSTA DE EMENDA À CONSTITUIÇÃO - PRIMEIRO T...    PSDB   \n",
       "6  PEC 372 2017  PROPOSTA DE EMENDA À CONSTITUIÇÃO - PRIMEIRO T...    PROS   \n",
       "8  PEC 372 2017  PROPOSTA DE EMENDA À CONSTITUIÇÃO - PRIMEIRO T...      PP   \n",
       "\n",
       "       Parlamentar Voto  Total_Sim  Total_Nao Voto_Partido  \n",
       "0  Hiran Gonçalves  Sim       54.0       23.0          Sim  \n",
       "3        Nicoletti  Sim       96.0       48.0          Sim  \n",
       "5         Shéridan  Sim       54.0       24.0          Sim  \n",
       "6   Acácio Favacho  Sim       19.0        9.0          Sim  \n",
       "8      André Abdon  Sim       54.0       23.0          Sim  "
      ]
     },
     "execution_count": 21,
     "metadata": {},
     "output_type": "execute_result"
    }
   ],
   "source": [
    "voto_partido = []\n",
    "for a, b in zip(df_votos3['Total_Sim'], df_votos3['Total_Nao']):\n",
    "    if(int(a) > int(b)):\n",
    "        voto_partido.append('Sim')\n",
    "    elif(int(a) < int(b)):\n",
    "        voto_partido.append('Nao')\n",
    "    else:\n",
    "        voto_partido.append('N/A')\n",
    "df_votos3['Voto_Partido'] = voto_partido\n",
    "df_votos3.head()"
   ]
  },
  {
   "cell_type": "code",
   "execution_count": 22,
   "metadata": {
    "scrolled": false
   },
   "outputs": [
    {
     "name": "stderr",
     "output_type": "stream",
     "text": [
      "/Users/Polato/anaconda3/lib/python3.7/site-packages/ipykernel_launcher.py:10: SettingWithCopyWarning: \n",
      "A value is trying to be set on a copy of a slice from a DataFrame.\n",
      "Try using .loc[row_indexer,col_indexer] = value instead\n",
      "\n",
      "See the caveats in the documentation: http://pandas.pydata.org/pandas-docs/stable/indexing.html#indexing-view-versus-copy\n",
      "  # Remove the CWD from sys.path while we load stuff.\n"
     ]
    },
    {
     "data": {
      "text/html": [
       "<div>\n",
       "<style scoped>\n",
       "    .dataframe tbody tr th:only-of-type {\n",
       "        vertical-align: middle;\n",
       "    }\n",
       "\n",
       "    .dataframe tbody tr th {\n",
       "        vertical-align: top;\n",
       "    }\n",
       "\n",
       "    .dataframe thead th {\n",
       "        text-align: right;\n",
       "    }\n",
       "</style>\n",
       "<table border=\"1\" class=\"dataframe\">\n",
       "  <thead>\n",
       "    <tr style=\"text-align: right;\">\n",
       "      <th></th>\n",
       "      <th>Proposicao</th>\n",
       "      <th>ObjVotacao</th>\n",
       "      <th>Partido</th>\n",
       "      <th>Parlamentar</th>\n",
       "      <th>Voto</th>\n",
       "      <th>Total_Sim</th>\n",
       "      <th>Total_Nao</th>\n",
       "      <th>Voto_Partido</th>\n",
       "      <th>Votos_iguais</th>\n",
       "    </tr>\n",
       "  </thead>\n",
       "  <tbody>\n",
       "    <tr>\n",
       "      <th>0</th>\n",
       "      <td>PEC 372 2017</td>\n",
       "      <td>PROPOSTA DE EMENDA À CONSTITUIÇÃO - PRIMEIRO T...</td>\n",
       "      <td>PP</td>\n",
       "      <td>Hiran Gonçalves</td>\n",
       "      <td>Sim</td>\n",
       "      <td>54.0</td>\n",
       "      <td>23.0</td>\n",
       "      <td>Sim</td>\n",
       "      <td>Sim</td>\n",
       "    </tr>\n",
       "    <tr>\n",
       "      <th>3</th>\n",
       "      <td>PEC 372 2017</td>\n",
       "      <td>PROPOSTA DE EMENDA À CONSTITUIÇÃO - PRIMEIRO T...</td>\n",
       "      <td>PSL</td>\n",
       "      <td>Nicoletti</td>\n",
       "      <td>Sim</td>\n",
       "      <td>96.0</td>\n",
       "      <td>48.0</td>\n",
       "      <td>Sim</td>\n",
       "      <td>Sim</td>\n",
       "    </tr>\n",
       "    <tr>\n",
       "      <th>5</th>\n",
       "      <td>PEC 372 2017</td>\n",
       "      <td>PROPOSTA DE EMENDA À CONSTITUIÇÃO - PRIMEIRO T...</td>\n",
       "      <td>PSDB</td>\n",
       "      <td>Shéridan</td>\n",
       "      <td>Sim</td>\n",
       "      <td>54.0</td>\n",
       "      <td>24.0</td>\n",
       "      <td>Sim</td>\n",
       "      <td>Sim</td>\n",
       "    </tr>\n",
       "    <tr>\n",
       "      <th>6</th>\n",
       "      <td>PEC 372 2017</td>\n",
       "      <td>PROPOSTA DE EMENDA À CONSTITUIÇÃO - PRIMEIRO T...</td>\n",
       "      <td>PROS</td>\n",
       "      <td>Acácio Favacho</td>\n",
       "      <td>Sim</td>\n",
       "      <td>19.0</td>\n",
       "      <td>9.0</td>\n",
       "      <td>Sim</td>\n",
       "      <td>Sim</td>\n",
       "    </tr>\n",
       "    <tr>\n",
       "      <th>8</th>\n",
       "      <td>PEC 372 2017</td>\n",
       "      <td>PROPOSTA DE EMENDA À CONSTITUIÇÃO - PRIMEIRO T...</td>\n",
       "      <td>PP</td>\n",
       "      <td>André Abdon</td>\n",
       "      <td>Sim</td>\n",
       "      <td>54.0</td>\n",
       "      <td>23.0</td>\n",
       "      <td>Sim</td>\n",
       "      <td>Sim</td>\n",
       "    </tr>\n",
       "  </tbody>\n",
       "</table>\n",
       "</div>"
      ],
      "text/plain": [
       "     Proposicao                                         ObjVotacao Partido  \\\n",
       "0  PEC 372 2017  PROPOSTA DE EMENDA À CONSTITUIÇÃO - PRIMEIRO T...      PP   \n",
       "3  PEC 372 2017  PROPOSTA DE EMENDA À CONSTITUIÇÃO - PRIMEIRO T...     PSL   \n",
       "5  PEC 372 2017  PROPOSTA DE EMENDA À CONSTITUIÇÃO - PRIMEIRO T...    PSDB   \n",
       "6  PEC 372 2017  PROPOSTA DE EMENDA À CONSTITUIÇÃO - PRIMEIRO T...    PROS   \n",
       "8  PEC 372 2017  PROPOSTA DE EMENDA À CONSTITUIÇÃO - PRIMEIRO T...      PP   \n",
       "\n",
       "       Parlamentar Voto  Total_Sim  Total_Nao Voto_Partido Votos_iguais  \n",
       "0  Hiran Gonçalves  Sim       54.0       23.0          Sim          Sim  \n",
       "3        Nicoletti  Sim       96.0       48.0          Sim          Sim  \n",
       "5         Shéridan  Sim       54.0       24.0          Sim          Sim  \n",
       "6   Acácio Favacho  Sim       19.0        9.0          Sim          Sim  \n",
       "8      André Abdon  Sim       54.0       23.0          Sim          Sim  "
      ]
     },
     "execution_count": 22,
     "metadata": {},
     "output_type": "execute_result"
    }
   ],
   "source": [
    "df_votos4 = df_votos3.query(\"Voto_Partido != 'N/A'\")\n",
    "votos_iguais = []\n",
    "for v, x in zip(df_votos4['Voto'], df_votos4['Voto_Partido']):\n",
    "    if(v == x):\n",
    "        votos_iguais.append(\"Sim\")\n",
    "    elif(v == \"Não\" and x == \"Nao\"):\n",
    "        votos_iguais.append(\"Sim\")\n",
    "    else:\n",
    "        votos_iguais.append(\"Não\")\n",
    "df_votos4['Votos_iguais'] = votos_iguais\n",
    "df_votos4.head()"
   ]
  },
  {
   "cell_type": "code",
   "execution_count": 23,
   "metadata": {},
   "outputs": [
    {
     "name": "stdout",
     "output_type": "stream",
     "text": [
      "Percentual de votos do parlamentar semelhante a maioria dos votos do seu partido\n"
     ]
    },
    {
     "data": {
      "text/html": [
       "<div>\n",
       "<style scoped>\n",
       "    .dataframe tbody tr th:only-of-type {\n",
       "        vertical-align: middle;\n",
       "    }\n",
       "\n",
       "    .dataframe tbody tr th {\n",
       "        vertical-align: top;\n",
       "    }\n",
       "\n",
       "    .dataframe thead th {\n",
       "        text-align: right;\n",
       "    }\n",
       "</style>\n",
       "<table border=\"1\" class=\"dataframe\">\n",
       "  <thead>\n",
       "    <tr style=\"text-align: right;\">\n",
       "      <th></th>\n",
       "      <th>Partido</th>\n",
       "      <th>Parlamentar</th>\n",
       "      <th>Não</th>\n",
       "      <th>Sim</th>\n",
       "      <th>Percentual</th>\n",
       "    </tr>\n",
       "  </thead>\n",
       "  <tbody>\n",
       "    <tr>\n",
       "      <th>0</th>\n",
       "      <td>AVANTE</td>\n",
       "      <td>Adalberto Cavalcanti</td>\n",
       "      <td>24.0</td>\n",
       "      <td>60.0</td>\n",
       "      <td>0.714286</td>\n",
       "    </tr>\n",
       "    <tr>\n",
       "      <th>1</th>\n",
       "      <td>AVANTE</td>\n",
       "      <td>André Janones</td>\n",
       "      <td>1323.0</td>\n",
       "      <td>1287.0</td>\n",
       "      <td>0.493103</td>\n",
       "    </tr>\n",
       "    <tr>\n",
       "      <th>2</th>\n",
       "      <td>AVANTE</td>\n",
       "      <td>Cabo Sabino</td>\n",
       "      <td>48.0</td>\n",
       "      <td>12.0</td>\n",
       "      <td>0.200000</td>\n",
       "    </tr>\n",
       "    <tr>\n",
       "      <th>3</th>\n",
       "      <td>AVANTE</td>\n",
       "      <td>Chiquinho Brazão</td>\n",
       "      <td>1153.0</td>\n",
       "      <td>1394.0</td>\n",
       "      <td>0.547311</td>\n",
       "    </tr>\n",
       "    <tr>\n",
       "      <th>4</th>\n",
       "      <td>AVANTE</td>\n",
       "      <td>Dr. Gonçalo</td>\n",
       "      <td>66.0</td>\n",
       "      <td>68.0</td>\n",
       "      <td>0.507463</td>\n",
       "    </tr>\n",
       "  </tbody>\n",
       "</table>\n",
       "</div>"
      ],
      "text/plain": [
       "  Partido           Parlamentar     Não     Sim  Percentual\n",
       "0  AVANTE  Adalberto Cavalcanti    24.0    60.0    0.714286\n",
       "1  AVANTE         André Janones  1323.0  1287.0    0.493103\n",
       "2  AVANTE           Cabo Sabino    48.0    12.0    0.200000\n",
       "3  AVANTE      Chiquinho Brazão  1153.0  1394.0    0.547311\n",
       "4  AVANTE           Dr. Gonçalo    66.0    68.0    0.507463"
      ]
     },
     "execution_count": 23,
     "metadata": {},
     "output_type": "execute_result"
    }
   ],
   "source": [
    "df_votos5 = pd.concat([df_votos4, pd.get_dummies(df_votos4.Votos_iguais)], 1).groupby(['Partido', 'Parlamentar']).sum().reset_index()\n",
    "df_votos5['Percentual'] = (df_votos5['Sim']/(df_votos5['Sim']+df_votos5['Não']))\n",
    "df_votos5.drop(['Total_Sim', 'Total_Nao'], axis=1, inplace=True)\n",
    "print(\"Percentual de votos do parlamentar semelhante a maioria dos votos do seu partido\")\n",
    "df_votos5.head()"
   ]
  },
  {
   "cell_type": "markdown",
   "metadata": {},
   "source": [
    "Conferindo os votos dos deputados que foram eleitos na 56 legislatura"
   ]
  },
  {
   "cell_type": "code",
   "execution_count": 24,
   "metadata": {},
   "outputs": [],
   "source": [
    "import json, requests \n",
    "import xml.etree.ElementTree as ET\n",
    "from nltk.tokenize import word_tokenize\n",
    "\n",
    "def getDeputados(legislatura):\n",
    "    import unidecode\n",
    "    url_deputados = \"https://dadosabertos.camara.leg.br/api/v2/deputados?idLegislatura=\"+str(legislatura)+\"&ordem=ASC&ordenarPor=nome\"\n",
    "    response = requests.get(url_deputados)\n",
    "    dados_req = response.content\n",
    "    nome = []\n",
    "    obj = json.loads(dados_req)\n",
    "    for dado in obj['dados']:\n",
    "        nome.append(dado['nome'])\n",
    "    return(nome)"
   ]
  },
  {
   "cell_type": "code",
   "execution_count": 25,
   "metadata": {},
   "outputs": [
    {
     "data": {
      "text/html": [
       "<div>\n",
       "<style scoped>\n",
       "    .dataframe tbody tr th:only-of-type {\n",
       "        vertical-align: middle;\n",
       "    }\n",
       "\n",
       "    .dataframe tbody tr th {\n",
       "        vertical-align: top;\n",
       "    }\n",
       "\n",
       "    .dataframe thead th {\n",
       "        text-align: right;\n",
       "    }\n",
       "</style>\n",
       "<table border=\"1\" class=\"dataframe\">\n",
       "  <thead>\n",
       "    <tr style=\"text-align: right;\">\n",
       "      <th></th>\n",
       "      <th>Partido</th>\n",
       "      <th>Parlamentar</th>\n",
       "      <th>Não</th>\n",
       "      <th>Sim</th>\n",
       "      <th>Percentual</th>\n",
       "    </tr>\n",
       "  </thead>\n",
       "  <tbody>\n",
       "    <tr>\n",
       "      <th>1</th>\n",
       "      <td>AVANTE</td>\n",
       "      <td>ANDRÉ JANONES</td>\n",
       "      <td>1323.0</td>\n",
       "      <td>1287.0</td>\n",
       "      <td>0.493103</td>\n",
       "    </tr>\n",
       "    <tr>\n",
       "      <th>3</th>\n",
       "      <td>AVANTE</td>\n",
       "      <td>CHIQUINHO BRAZÃO</td>\n",
       "      <td>1153.0</td>\n",
       "      <td>1394.0</td>\n",
       "      <td>0.547311</td>\n",
       "    </tr>\n",
       "    <tr>\n",
       "      <th>4</th>\n",
       "      <td>AVANTE</td>\n",
       "      <td>DR. GONÇALO</td>\n",
       "      <td>66.0</td>\n",
       "      <td>68.0</td>\n",
       "      <td>0.507463</td>\n",
       "    </tr>\n",
       "    <tr>\n",
       "      <th>5</th>\n",
       "      <td>AVANTE</td>\n",
       "      <td>FERNANDO BORJA</td>\n",
       "      <td>104.0</td>\n",
       "      <td>208.0</td>\n",
       "      <td>0.666667</td>\n",
       "    </tr>\n",
       "    <tr>\n",
       "      <th>7</th>\n",
       "      <td>AVANTE</td>\n",
       "      <td>GREYCE ELIAS</td>\n",
       "      <td>872.0</td>\n",
       "      <td>1298.0</td>\n",
       "      <td>0.598157</td>\n",
       "    </tr>\n",
       "  </tbody>\n",
       "</table>\n",
       "</div>"
      ],
      "text/plain": [
       "  Partido       Parlamentar     Não     Sim  Percentual\n",
       "1  AVANTE     ANDRÉ JANONES  1323.0  1287.0    0.493103\n",
       "3  AVANTE  CHIQUINHO BRAZÃO  1153.0  1394.0    0.547311\n",
       "4  AVANTE       DR. GONÇALO    66.0    68.0    0.507463\n",
       "5  AVANTE    FERNANDO BORJA   104.0   208.0    0.666667\n",
       "7  AVANTE      GREYCE ELIAS   872.0  1298.0    0.598157"
      ]
     },
     "execution_count": 25,
     "metadata": {},
     "output_type": "execute_result"
    }
   ],
   "source": [
    "df_votos6 = df_votos5\n",
    "df_votos6['Parlamentar'] = df_votos6['Parlamentar'].str.upper() \n",
    "x = getDeputados(56)\n",
    "x = [element.upper() for element in x]\n",
    "df_votos6 = df_votos6.query(\"Parlamentar in \"+str(x)+\" and Sim >= 20\")\n",
    "df_votos6.head()"
   ]
  },
  {
   "cell_type": "code",
   "execution_count": 26,
   "metadata": {
    "scrolled": true
   },
   "outputs": [
    {
     "name": "stdout",
     "output_type": "stream",
     "text": [
      "AVANTE\n"
     ]
    },
    {
     "data": {
      "image/png": "[encoded data removed]",
      "text/plain": [
       "<Figure size 432x216 with 1 Axes>"
      ]
     },
     "metadata": {
      "needs_background": "light"
     },
     "output_type": "display_data"
    },
    {
     "name": "stdout",
     "output_type": "stream",
     "text": [
      "CIDADANIA\n"
     ]
    },
    {
     "data": {
      "image/png": "[encoded data removed]",
      "text/plain": [
       "<Figure size 432x216 with 1 Axes>"
      ]
     },
     "metadata": {
      "needs_background": "light"
     },
     "output_type": "display_data"
    },
    {
     "name": "stdout",
     "output_type": "stream",
     "text": [
      "DEM\n"
     ]
    },
    {
     "data": {
      "image/png": "[encoded data removed]",
      "text/plain": [
       "<Figure size 432x216 with 1 Axes>"
      ]
     },
     "metadata": {
      "needs_background": "light"
     },
     "output_type": "display_data"
    },
    {
     "name": "stdout",
     "output_type": "stream",
     "text": [
      "MDB\n"
     ]
    },
    {
     "data": {
      "image/png": "[encoded data removed]",
      "text/plain": [
       "<Figure size 432x216 with 1 Axes>"
      ]
     },
     "metadata": {
      "needs_background": "light"
     },
     "output_type": "display_data"
    },
    {
     "name": "stdout",
     "output_type": "stream",
     "text": [
      "NOVO\n"
     ]
    },
    {
     "data": {
      "image/png": "[encoded data removed]",
      "text/plain": [
       "<Figure size 432x216 with 1 Axes>"
      ]
     },
     "metadata": {
      "needs_background": "light"
     },
     "output_type": "display_data"
    },
    {
     "name": "stdout",
     "output_type": "stream",
     "text": [
      "PATRI\n"
     ]
    },
    {
     "data": {
      "image/png": "[encoded data removed]",
      "text/plain": [
       "<Figure size 432x216 with 1 Axes>"
      ]
     },
     "metadata": {
      "needs_background": "light"
     },
     "output_type": "display_data"
    },
    {
     "name": "stdout",
     "output_type": "stream",
     "text": [
      "PCDOB\n"
     ]
    },
    {
     "data": {
      "image/png": "[encoded data removed]",
      "text/plain": [
       "<Figure size 432x216 with 1 Axes>"
      ]
     },
     "metadata": {
      "needs_background": "light"
     },
     "output_type": "display_data"
    },
    {
     "name": "stdout",
     "output_type": "stream",
     "text": [
      "PDT\n"
     ]
    },
    {
     "data": {
      "image/png": "[encoded data removed]",
      "text/plain": [
       "<Figure size 432x216 with 1 Axes>"
      ]
     },
     "metadata": {
      "needs_background": "light"
     },
     "output_type": "display_data"
    },
    {
     "name": "stdout",
     "output_type": "stream",
     "text": [
      "PHS\n"
     ]
    },
    {
     "data": {
      "image/png": "[encoded data removed]",
      "text/plain": [
       "<Figure size 432x216 with 1 Axes>"
      ]
     },
     "metadata": {
      "needs_background": "light"
     },
     "output_type": "display_data"
    },
    {
     "name": "stdout",
     "output_type": "stream",
     "text": [
      "PL\n"
     ]
    },
    {
     "data": {
      "image/png": "[encoded data removed]",
      "text/plain": [
       "<Figure size 432x216 with 1 Axes>"
      ]
     },
     "metadata": {
      "needs_background": "light"
     },
     "output_type": "display_data"
    },
    {
     "name": "stdout",
     "output_type": "stream",
     "text": [
      "PMN\n"
     ]
    },
    {
     "data": {
      "image/png": "[encoded data removed]",
      "text/plain": [
       "<Figure size 432x216 with 1 Axes>"
      ]
     },
     "metadata": {
      "needs_background": "light"
     },
     "output_type": "display_data"
    },
    {
     "name": "stdout",
     "output_type": "stream",
     "text": [
      "PODE\n"
     ]
    },
    {
     "data": {
      "image/png": "[encoded data removed]",
      "text/plain": [
       "<Figure size 432x216 with 1 Axes>"
      ]
     },
     "metadata": {
      "needs_background": "light"
     },
     "output_type": "display_data"
    },
    {
     "name": "stdout",
     "output_type": "stream",
     "text": [
      "PP\n"
     ]
    },
    {
     "data": {
      "image/png": "[encoded data removed]",
      "text/plain": [
       "<Figure size 432x216 with 1 Axes>"
      ]
     },
     "metadata": {
      "needs_background": "light"
     },
     "output_type": "display_data"
    },
    {
     "name": "stdout",
     "output_type": "stream",
     "text": [
      "PRB\n"
     ]
    },
    {
     "data": {
      "image/png": "[encoded data removed]",
      "text/plain": [
       "<Figure size 432x216 with 1 Axes>"
      ]
     },
     "metadata": {
      "needs_background": "light"
     },
     "output_type": "display_data"
    },
    {
     "name": "stdout",
     "output_type": "stream",
     "text": [
      "PROS\n"
     ]
    },
    {
     "data": {
      "image/png": "[encoded data removed]",
      "text/plain": [
       "<Figure size 432x216 with 1 Axes>"
      ]
     },
     "metadata": {
      "needs_background": "light"
     },
     "output_type": "display_data"
    },
    {
     "name": "stdout",
     "output_type": "stream",
     "text": [
      "PRP\n"
     ]
    },
    {
     "data": {
      "image/png": "[encoded data removed]",
      "text/plain": [
       "<Figure size 432x216 with 1 Axes>"
      ]
     },
     "metadata": {
      "needs_background": "light"
     },
     "output_type": "display_data"
    },
    {
     "name": "stdout",
     "output_type": "stream",
     "text": [
      "PSB\n"
     ]
    },
    {
     "data": {
      "image/png": "[encoded data removed]",
      "text/plain": [
       "<Figure size 432x216 with 1 Axes>"
      ]
     },
     "metadata": {
      "needs_background": "light"
     },
     "output_type": "display_data"
    },
    {
     "name": "stdout",
     "output_type": "stream",
     "text": [
      "PSC\n"
     ]
    },
    {
     "data": {
      "image/png": "[encoded data removed]",
      "text/plain": [
       "<Figure size 432x216 with 1 Axes>"
      ]
     },
     "metadata": {
      "needs_background": "light"
     },
     "output_type": "display_data"
    },
    {
     "name": "stdout",
     "output_type": "stream",
     "text": [
      "PSD\n"
     ]
    },
    {
     "data": {
      "image/png": "[encoded data removed]",
      "text/plain": [
       "<Figure size 432x216 with 1 Axes>"
      ]
     },
     "metadata": {
      "needs_background": "light"
     },
     "output_type": "display_data"
    },
    {
     "name": "stdout",
     "output_type": "stream",
     "text": [
      "PSDB\n"
     ]
    },
    {
     "data": {
      "image/png": "[encoded data removed]",
      "text/plain": [
       "<Figure size 432x216 with 1 Axes>"
      ]
     },
     "metadata": {
      "needs_background": "light"
     },
     "output_type": "display_data"
    },
    {
     "name": "stdout",
     "output_type": "stream",
     "text": [
      "PSL\n"
     ]
    },
    {
     "data": {
      "image/png": "[encoded data removed]",
      "text/plain": [
       "<Figure size 432x216 with 1 Axes>"
      ]
     },
     "metadata": {
      "needs_background": "light"
     },
     "output_type": "display_data"
    },
    {
     "name": "stdout",
     "output_type": "stream",
     "text": [
      "PSOL\n"
     ]
    },
    {
     "data": {
      "image/png": "[encoded data removed]",
      "text/plain": [
       "<Figure size 432x216 with 1 Axes>"
      ]
     },
     "metadata": {
      "needs_background": "light"
     },
     "output_type": "display_data"
    },
    {
     "name": "stdout",
     "output_type": "stream",
     "text": [
      "PT\n"
     ]
    },
    {
     "data": {
      "image/png": "[encoded data removed]",
      "text/plain": [
       "<Figure size 432x216 with 1 Axes>"
      ]
     },
     "metadata": {
      "needs_background": "light"
     },
     "output_type": "display_data"
    },
    {
     "name": "stdout",
     "output_type": "stream",
     "text": [
      "PTB\n"
     ]
    },
    {
     "data": {
      "image/png": "[encoded data removed]",
      "text/plain": [
       "<Figure size 432x216 with 1 Axes>"
      ]
     },
     "metadata": {
      "needs_background": "light"
     },
     "output_type": "display_data"
    },
    {
     "name": "stdout",
     "output_type": "stream",
     "text": [
      "PTC\n"
     ]
    },
    {
     "data": {
      "image/png": "[encoded data removed]",
      "text/plain": [
       "<Figure size 432x216 with 1 Axes>"
      ]
     },
     "metadata": {
      "needs_background": "light"
     },
     "output_type": "display_data"
    },
    {
     "name": "stdout",
     "output_type": "stream",
     "text": [
      "PV\n"
     ]
    },
    {
     "data": {
      "image/png": "[encoded data removed]",
      "text/plain": [
       "<Figure size 432x216 with 1 Axes>"
      ]
     },
     "metadata": {
      "needs_background": "light"
     },
     "output_type": "display_data"
    }
   ],
   "source": [
    "for i in sorted(list(set(df_votos6['Partido']))):\n",
    "    dfk = df_votos6.query('Partido==\"'+i+'\"').sort_values(['Percentual'], ascending=False)[:5]\n",
    "    dfk = dfk.sort_values(['Percentual'], ascending=True)\n",
    "    print(i)\n",
    "    width = 0.6\n",
    "    fig = plt.figure(figsize=(6,3))\n",
    "    plt.barh(dfk['Parlamentar'], dfk['Percentual'], width)\n",
    "    plt.grid()\n",
    "    plt.xlim(0, 1)\n",
    "    plt.tight_layout()\n",
    "    plt.title(i)\n",
    "    plt.xlabel('Percentual de votos')\n",
    "    plt.show()"
   ]
  },
  {
   "cell_type": "markdown",
   "metadata": {},
   "source": [
    "Percentual de votos de cada deputado semelhante a maioria dos votos do total de membros do partido"
   ]
  },
  {
   "cell_type": "code",
   "execution_count": 27,
   "metadata": {},
   "outputs": [
    {
     "data": {
      "text/html": [
       "<div>\n",
       "<style scoped>\n",
       "    .dataframe tbody tr th:only-of-type {\n",
       "        vertical-align: middle;\n",
       "    }\n",
       "\n",
       "    .dataframe tbody tr th {\n",
       "        vertical-align: top;\n",
       "    }\n",
       "\n",
       "    .dataframe thead th {\n",
       "        text-align: right;\n",
       "    }\n",
       "</style>\n",
       "<table border=\"1\" class=\"dataframe\">\n",
       "  <thead>\n",
       "    <tr style=\"text-align: right;\">\n",
       "      <th></th>\n",
       "      <th>Partido</th>\n",
       "      <th>Parlamentar</th>\n",
       "      <th>Não</th>\n",
       "      <th>Sim</th>\n",
       "      <th>Percentual</th>\n",
       "    </tr>\n",
       "  </thead>\n",
       "  <tbody>\n",
       "    <tr>\n",
       "      <th>1028</th>\n",
       "      <td>PTB</td>\n",
       "      <td>PAES LANDIM</td>\n",
       "      <td>582.0</td>\n",
       "      <td>1053.0</td>\n",
       "      <td>0.644037</td>\n",
       "    </tr>\n",
       "    <tr>\n",
       "      <th>1040</th>\n",
       "      <td>PTB</td>\n",
       "      <td>WILSON SANTIAGO</td>\n",
       "      <td>894.0</td>\n",
       "      <td>1543.0</td>\n",
       "      <td>0.633156</td>\n",
       "    </tr>\n",
       "    <tr>\n",
       "      <th>1029</th>\n",
       "      <td>PTB</td>\n",
       "      <td>PAULO BENGTSON</td>\n",
       "      <td>771.0</td>\n",
       "      <td>1322.0</td>\n",
       "      <td>0.631629</td>\n",
       "    </tr>\n",
       "    <tr>\n",
       "      <th>1033</th>\n",
       "      <td>PTB</td>\n",
       "      <td>PEDRO LUCAS FERNANDES</td>\n",
       "      <td>829.0</td>\n",
       "      <td>1363.0</td>\n",
       "      <td>0.621807</td>\n",
       "    </tr>\n",
       "    <tr>\n",
       "      <th>1024</th>\n",
       "      <td>PTB</td>\n",
       "      <td>MAURÍCIO DZIEDRICKI</td>\n",
       "      <td>748.0</td>\n",
       "      <td>1151.0</td>\n",
       "      <td>0.606108</td>\n",
       "    </tr>\n",
       "    <tr>\n",
       "      <th>1027</th>\n",
       "      <td>PTB</td>\n",
       "      <td>NIVALDO ALBUQUERQUE</td>\n",
       "      <td>1043.0</td>\n",
       "      <td>1598.0</td>\n",
       "      <td>0.605074</td>\n",
       "    </tr>\n",
       "    <tr>\n",
       "      <th>1014</th>\n",
       "      <td>PTB</td>\n",
       "      <td>EMANUEL PINHEIRO NETO</td>\n",
       "      <td>1038.0</td>\n",
       "      <td>1534.0</td>\n",
       "      <td>0.596423</td>\n",
       "    </tr>\n",
       "    <tr>\n",
       "      <th>1021</th>\n",
       "      <td>PTB</td>\n",
       "      <td>LUISA CANZIANI</td>\n",
       "      <td>808.0</td>\n",
       "      <td>1149.0</td>\n",
       "      <td>0.587123</td>\n",
       "    </tr>\n",
       "    <tr>\n",
       "      <th>1037</th>\n",
       "      <td>PTB</td>\n",
       "      <td>SANTINI</td>\n",
       "      <td>1071.0</td>\n",
       "      <td>1516.0</td>\n",
       "      <td>0.586007</td>\n",
       "    </tr>\n",
       "    <tr>\n",
       "      <th>1013</th>\n",
       "      <td>PTB</td>\n",
       "      <td>EDUARDO COSTA</td>\n",
       "      <td>996.0</td>\n",
       "      <td>1388.0</td>\n",
       "      <td>0.582215</td>\n",
       "    </tr>\n",
       "    <tr>\n",
       "      <th>1031</th>\n",
       "      <td>PTB</td>\n",
       "      <td>PEDRO AUGUSTO BEZERRA</td>\n",
       "      <td>1033.0</td>\n",
       "      <td>1381.0</td>\n",
       "      <td>0.572080</td>\n",
       "    </tr>\n",
       "    <tr>\n",
       "      <th>1023</th>\n",
       "      <td>PTB</td>\n",
       "      <td>MARCELO MORAES</td>\n",
       "      <td>1168.0</td>\n",
       "      <td>1398.0</td>\n",
       "      <td>0.544817</td>\n",
       "    </tr>\n",
       "  </tbody>\n",
       "</table>\n",
       "</div>"
      ],
      "text/plain": [
       "     Partido            Parlamentar     Não     Sim  Percentual\n",
       "1028     PTB            PAES LANDIM   582.0  1053.0    0.644037\n",
       "1040     PTB        WILSON SANTIAGO   894.0  1543.0    0.633156\n",
       "1029     PTB         PAULO BENGTSON   771.0  1322.0    0.631629\n",
       "1033     PTB  PEDRO LUCAS FERNANDES   829.0  1363.0    0.621807\n",
       "1024     PTB    MAURÍCIO DZIEDRICKI   748.0  1151.0    0.606108\n",
       "1027     PTB    NIVALDO ALBUQUERQUE  1043.0  1598.0    0.605074\n",
       "1014     PTB  EMANUEL PINHEIRO NETO  1038.0  1534.0    0.596423\n",
       "1021     PTB         LUISA CANZIANI   808.0  1149.0    0.587123\n",
       "1037     PTB                SANTINI  1071.0  1516.0    0.586007\n",
       "1013     PTB          EDUARDO COSTA   996.0  1388.0    0.582215\n",
       "1031     PTB  PEDRO AUGUSTO BEZERRA  1033.0  1381.0    0.572080\n",
       "1023     PTB         MARCELO MORAES  1168.0  1398.0    0.544817"
      ]
     },
     "execution_count": 27,
     "metadata": {},
     "output_type": "execute_result"
    }
   ],
   "source": [
    "partido = 'PTB'\n",
    "df_votos6.query(\"Partido=='\"+str.upper(partido)+\"'\").sort_values(['Percentual'], ascending=False)"
   ]
  },
  {
   "cell_type": "code",
   "execution_count": null,
   "metadata": {},
   "outputs": [],
   "source": []
  },
  {
   "cell_type": "code",
   "execution_count": null,
   "metadata": {},
   "outputs": [],
   "source": []
  }
 ],
 "metadata": {
  "kernelspec": {
   "display_name": "Python 3",
   "language": "python",
   "name": "python3"
  },
  "language_info": {
   "codemirror_mode": {
    "name": "ipython",
    "version": 3
   },
   "file_extension": ".py",
   "mimetype": "text/x-python",
   "name": "python",
   "nbconvert_exporter": "python",
   "pygments_lexer": "ipython3",
   "version": "3.7.3"
  }
 },
 "nbformat": 4,
 "nbformat_minor": 2
}
